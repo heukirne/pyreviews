{
 "cells": [
  {
   "cell_type": "code",
   "execution_count": 1,
   "metadata": {
    "collapsed": false
   },
   "outputs": [],
   "source": [
    "import pandas as pd\n",
    "import numpy as np\n",
    "from scipy.stats import spearmanr"
   ]
  },
  {
   "cell_type": "code",
   "execution_count": 2,
   "metadata": {
    "collapsed": true
   },
   "outputs": [],
   "source": [
    "def helpInt(x): \n",
    "    try:\n",
    "        return float ( float(x['thumbsup']) / (float(x['thumbsup']) + float(x['thumbsdown'])) )\n",
    "    except:\n",
    "        return 0"
   ]
  },
  {
   "cell_type": "markdown",
   "metadata": {},
   "source": [
    "### load data"
   ]
  },
  {
   "cell_type": "code",
   "execution_count": 4,
   "metadata": {
    "collapsed": false
   },
   "outputs": [
    {
     "data": {
      "text/plain": [
       "(32226, 48)"
      ]
     },
     "execution_count": 4,
     "metadata": {},
     "output_type": "execute_result"
    }
   ],
   "source": [
    "# reset variables\n",
    "reviews_features = pd.read_csv('reviews.csv.gz', compression='gzip')\n",
    "reviews_columns = reviews_features.select_dtypes(include=['float64','int']).columns\n",
    "reviews_features['helpfulness'] = reviews_features.apply(helpInt,axis=1)\n",
    "reviews_features.shape"
   ]
  },
  {
   "cell_type": "markdown",
   "metadata": {},
   "source": [
    "### category TV"
   ]
  },
  {
   "cell_type": "code",
   "execution_count": 5,
   "metadata": {
    "collapsed": false
   },
   "outputs": [
    {
     "data": {
      "text/plain": [
       "(4567, 48)"
      ]
     },
     "execution_count": 5,
     "metadata": {},
     "output_type": "execute_result"
    }
   ],
   "source": [
    "reviews_features = reviews_features[reviews_features.category == 'TV']\n",
    "reviews_features = reviews_features[reviews_features.helpfulness != 0]\n",
    "#reviews_features.to_csv('reviews-help.csv')\n",
    "reviews_features.shape"
   ]
  },
  {
   "cell_type": "markdown",
   "metadata": {},
   "source": [
    "### split data and class"
   ]
  },
  {
   "cell_type": "code",
   "execution_count": 6,
   "metadata": {
    "collapsed": false
   },
   "outputs": [
    {
     "data": {
      "text/plain": [
       "(4567, 37)"
      ]
     },
     "execution_count": 6,
     "metadata": {},
     "output_type": "execute_result"
    }
   ],
   "source": [
    "# split class and features\n",
    "labels = reviews_features[\"helpfulness\"].values\n",
    "del reviews_features['helpfulness']\n",
    "features = reviews_features[list(reviews_columns)].values\n",
    "\n",
    "# clean features\n",
    "features = np.abs(features)\n",
    "features[np.isnan(features) == True] = 0\n",
    "\n",
    "features.shape"
   ]
  },
  {
   "cell_type": "markdown",
   "metadata": {},
   "source": [
    "### SVR Training Script\n",
    "#### based on https://github.com/ajschumacher/ajschumacher.github.io/blob/master/20150417-negative_r_squared/index.md"
   ]
  },
  {
   "cell_type": "code",
   "execution_count": 7,
   "metadata": {
    "collapsed": true
   },
   "outputs": [],
   "source": [
    "from sklearn.svm import SVR\n",
    "from sklearn.cross_validation import train_test_split, cross_val_score"
   ]
  },
  {
   "cell_type": "markdown",
   "metadata": {},
   "source": [
    "### define functions"
   ]
  },
  {
   "cell_type": "code",
   "execution_count": 8,
   "metadata": {
    "collapsed": false
   },
   "outputs": [],
   "source": [
    "from sklearn.metrics import make_scorer\n",
    "def simple_spearman(x,y): return spearmanr(x,y)[0]\n",
    "spearmanr_scorer = make_scorer(simple_spearman)\n",
    "\n",
    "def val_table(model, features, target, cvOpt=0):\n",
    "    feature_train, feature_test, label_train, label_test = train_test_split(features, target)\n",
    "\n",
    "    model.fit(feature_train, label_train)\n",
    "\n",
    "    columns = ['self validation', '1-fold validation']\n",
    "    if cvOpt > 0: columns.append(str(cvOpt) + '-fold cross validation ')\n",
    "    \n",
    "    score_list = []\n",
    "    score_list.append(model.score(feature_train, label_train))\n",
    "    score_list.append(model.score(feature_test,  label_test))\n",
    "    if cvOpt > 0: score_list.append(0)\n",
    "    \n",
    "    corr_df = pd.DataFrame(data={'score': np.array(score_list)}, index=columns)\n",
    "\n",
    "    pearson_list = []\n",
    "    pearson_list.append(np.corrcoef(model.predict(feature_train), label_train)[0, 1]**2)\n",
    "    pearson_list.append(simple_spearman(model.predict(feature_train), label_train))\n",
    "    if cvOpt > 0: pearson_list.append(0)\n",
    "    corr_df['pearson^2'] = pearson_list\n",
    "\n",
    "    spearman_list = []\n",
    "    spearman_list.append(np.corrcoef(model.predict(feature_test), label_test)[0, 1]**2)\n",
    "    spearman_list.append(simple_spearman(model.predict(feature_test), label_test))\n",
    "    if cvOpt > 0: \n",
    "        scores = cross_val_score(model, features, target, cv=cvOpt, scoring=spearmanr_scorer)\n",
    "        spearman_list.append(scores.mean())\n",
    "    corr_df['spearman'] = spearman_list        \n",
    "    \n",
    "    return corr_df\n",
    "\n",
    "def name_columns(features):\n",
    "    kbest_columns = []\n",
    "\n",
    "    for value in features[0]:\n",
    "        for column in reviews_columns:\n",
    "            if reviews_features[column].iloc[0] == value:\n",
    "                kbest_columns.append(column)\n",
    "            \n",
    "    return kbest_columns"
   ]
  },
  {
   "cell_type": "markdown",
   "metadata": {},
   "source": [
    "### SVR Linear"
   ]
  },
  {
   "cell_type": "code",
   "execution_count": 19,
   "metadata": {
    "collapsed": false
   },
   "outputs": [
    {
     "data": {
      "text/html": [
       "<div>\n",
       "<table border=\"1\" class=\"dataframe\">\n",
       "  <thead>\n",
       "    <tr style=\"text-align: right;\">\n",
       "      <th></th>\n",
       "      <th>score</th>\n",
       "      <th>pearson^2</th>\n",
       "      <th>spearman</th>\n",
       "    </tr>\n",
       "  </thead>\n",
       "  <tbody>\n",
       "    <tr>\n",
       "      <th>self validation</th>\n",
       "      <td>-0.587399</td>\n",
       "      <td>0.008150</td>\n",
       "      <td>0.004652</td>\n",
       "    </tr>\n",
       "    <tr>\n",
       "      <th>1-fold validation</th>\n",
       "      <td>-0.564998</td>\n",
       "      <td>0.086594</td>\n",
       "      <td>0.054323</td>\n",
       "    </tr>\n",
       "    <tr>\n",
       "      <th>10-fold cross validation</th>\n",
       "      <td>0.000000</td>\n",
       "      <td>0.000000</td>\n",
       "      <td>0.031540</td>\n",
       "    </tr>\n",
       "  </tbody>\n",
       "</table>\n",
       "</div>"
      ],
      "text/plain": [
       "                              score  pearson^2  spearman\n",
       "self validation           -0.587399   0.008150  0.004652\n",
       "1-fold validation         -0.564998   0.086594  0.054323\n",
       "10-fold cross validation   0.000000   0.000000  0.031540"
      ]
     },
     "execution_count": 19,
     "metadata": {},
     "output_type": "execute_result"
    }
   ],
   "source": [
    "from sklearn.svm import LinearSVR\n",
    "from sklearn.feature_selection import SelectKBest, f_regression\n",
    "\n",
    "kbest_features = SelectKBest(f_regression, k=15).fit_transform(features, labels)\n",
    "\n",
    "model = LinearSVR(epsilon=0.01)\n",
    "val_table(model, kbest_features, labels, 10)"
   ]
  },
  {
   "cell_type": "markdown",
   "metadata": {},
   "source": [
    "### SVR RBF with Obviuos"
   ]
  },
  {
   "cell_type": "code",
   "execution_count": 20,
   "metadata": {
    "collapsed": false
   },
   "outputs": [
    {
     "data": {
      "text/html": [
       "<div>\n",
       "<table border=\"1\" class=\"dataframe\">\n",
       "  <thead>\n",
       "    <tr style=\"text-align: right;\">\n",
       "      <th></th>\n",
       "      <th>score</th>\n",
       "      <th>pearson^2</th>\n",
       "      <th>spearman</th>\n",
       "    </tr>\n",
       "  </thead>\n",
       "  <tbody>\n",
       "    <tr>\n",
       "      <th>self validation</th>\n",
       "      <td>0.998290</td>\n",
       "      <td>0.999351</td>\n",
       "      <td>0.963161</td>\n",
       "    </tr>\n",
       "    <tr>\n",
       "      <th>1-fold validation</th>\n",
       "      <td>0.961258</td>\n",
       "      <td>0.889804</td>\n",
       "      <td>0.880700</td>\n",
       "    </tr>\n",
       "    <tr>\n",
       "      <th>10-fold cross validation</th>\n",
       "      <td>0.000000</td>\n",
       "      <td>0.000000</td>\n",
       "      <td>0.883147</td>\n",
       "    </tr>\n",
       "  </tbody>\n",
       "</table>\n",
       "</div>"
      ],
      "text/plain": [
       "                              score  pearson^2  spearman\n",
       "self validation            0.998290   0.999351  0.963161\n",
       "1-fold validation          0.961258   0.889804  0.880700\n",
       "10-fold cross validation   0.000000   0.000000  0.883147"
      ]
     },
     "execution_count": 20,
     "metadata": {},
     "output_type": "execute_result"
    }
   ],
   "source": [
    "obvious_features = reviews_features[list(['thumbsup','thumbsdown'])].values\n",
    "\n",
    "model = SVR(C=1.0, epsilon=0.01, kernel='rbf')\n",
    "\n",
    "val_table(model, obvious_features, labels, 10)"
   ]
  },
  {
   "cell_type": "markdown",
   "metadata": {},
   "source": [
    "### SVR RBF with Manual Selection"
   ]
  },
  {
   "cell_type": "code",
   "execution_count": 18,
   "metadata": {
    "collapsed": false
   },
   "outputs": [
    {
     "data": {
      "text/html": [
       "<div>\n",
       "<table border=\"1\" class=\"dataframe\">\n",
       "  <thead>\n",
       "    <tr style=\"text-align: right;\">\n",
       "      <th></th>\n",
       "      <th>score</th>\n",
       "      <th>pearson^2</th>\n",
       "      <th>spearman</th>\n",
       "    </tr>\n",
       "  </thead>\n",
       "  <tbody>\n",
       "    <tr>\n",
       "      <th>self validation</th>\n",
       "      <td>0.204363</td>\n",
       "      <td>0.285835</td>\n",
       "      <td>0.002409</td>\n",
       "    </tr>\n",
       "    <tr>\n",
       "      <th>1-fold validation</th>\n",
       "      <td>-0.280384</td>\n",
       "      <td>0.520554</td>\n",
       "      <td>0.077337</td>\n",
       "    </tr>\n",
       "    <tr>\n",
       "      <th>10-fold cross validation</th>\n",
       "      <td>0.000000</td>\n",
       "      <td>0.000000</td>\n",
       "      <td>0.016123</td>\n",
       "    </tr>\n",
       "  </tbody>\n",
       "</table>\n",
       "</div>"
      ],
      "text/plain": [
       "                              score  pearson^2  spearman\n",
       "self validation            0.204363   0.285835  0.002409\n",
       "1-fold validation         -0.280384   0.520554  0.077337\n",
       "10-fold cross validation   0.000000   0.000000  0.016123"
      ]
     },
     "execution_count": 18,
     "metadata": {},
     "output_type": "execute_result"
    }
   ],
   "source": [
    "manual_features = reviews_features[list(['sentence_count','stars','word_count'])].values\n",
    "\n",
    "model = SVR(C=1.0, epsilon=0.01, kernel='rbf')\n",
    "\n",
    "val_table(model, manual_features, labels, 10)"
   ]
  },
  {
   "cell_type": "markdown",
   "metadata": {},
   "source": [
    "### SVR RBF with 5 KBest"
   ]
  },
  {
   "cell_type": "code",
   "execution_count": 21,
   "metadata": {
    "collapsed": false
   },
   "outputs": [
    {
     "data": {
      "text/plain": [
       "['syllable_count',\n",
       " 'pronIncidence',\n",
       " 'ContentDiversty',\n",
       " 'sentence_count',\n",
       " 'stars']"
      ]
     },
     "execution_count": 21,
     "metadata": {},
     "output_type": "execute_result"
    }
   ],
   "source": [
    "from sklearn.feature_selection import SelectKBest, f_regression\n",
    "\n",
    "kbest_features = SelectKBest(f_regression, k=5).fit_transform(features, labels)\n",
    "\n",
    "model = SVR(C=1.0, epsilon=0.001, kernel='rbf')\n",
    "\n",
    "name_columns(kbest_features)"
   ]
  },
  {
   "cell_type": "code",
   "execution_count": 22,
   "metadata": {
    "collapsed": false
   },
   "outputs": [
    {
     "data": {
      "text/html": [
       "<div>\n",
       "<table border=\"1\" class=\"dataframe\">\n",
       "  <thead>\n",
       "    <tr style=\"text-align: right;\">\n",
       "      <th></th>\n",
       "      <th>score</th>\n",
       "      <th>pearson^2</th>\n",
       "      <th>spearman</th>\n",
       "    </tr>\n",
       "  </thead>\n",
       "  <tbody>\n",
       "    <tr>\n",
       "      <th>self validation</th>\n",
       "      <td>0.904037</td>\n",
       "      <td>0.905236</td>\n",
       "      <td>0.014273</td>\n",
       "    </tr>\n",
       "    <tr>\n",
       "      <th>1-fold validation</th>\n",
       "      <td>-0.109752</td>\n",
       "      <td>0.848380</td>\n",
       "      <td>0.086916</td>\n",
       "    </tr>\n",
       "    <tr>\n",
       "      <th>10-fold cross validation</th>\n",
       "      <td>0.000000</td>\n",
       "      <td>0.000000</td>\n",
       "      <td>0.062447</td>\n",
       "    </tr>\n",
       "  </tbody>\n",
       "</table>\n",
       "</div>"
      ],
      "text/plain": [
       "                              score  pearson^2  spearman\n",
       "self validation            0.904037   0.905236  0.014273\n",
       "1-fold validation         -0.109752   0.848380  0.086916\n",
       "10-fold cross validation   0.000000   0.000000  0.062447"
      ]
     },
     "execution_count": 22,
     "metadata": {},
     "output_type": "execute_result"
    }
   ],
   "source": [
    "val_table(model, kbest_features, labels, 10)"
   ]
  },
  {
   "cell_type": "markdown",
   "metadata": {},
   "source": [
    "### SVR RBF with 10 KBest"
   ]
  },
  {
   "cell_type": "code",
   "execution_count": 23,
   "metadata": {
    "collapsed": false
   },
   "outputs": [
    {
     "data": {
      "text/html": [
       "<div>\n",
       "<table border=\"1\" class=\"dataframe\">\n",
       "  <thead>\n",
       "    <tr style=\"text-align: right;\">\n",
       "      <th></th>\n",
       "      <th>score</th>\n",
       "      <th>pearson^2</th>\n",
       "      <th>spearman</th>\n",
       "    </tr>\n",
       "  </thead>\n",
       "  <tbody>\n",
       "    <tr>\n",
       "      <th>self validation</th>\n",
       "      <td>0.966893</td>\n",
       "      <td>0.966968</td>\n",
       "      <td>0.015967</td>\n",
       "    </tr>\n",
       "    <tr>\n",
       "      <th>1-fold validation</th>\n",
       "      <td>-0.005263</td>\n",
       "      <td>0.857950</td>\n",
       "      <td>0.026128</td>\n",
       "    </tr>\n",
       "    <tr>\n",
       "      <th>10-fold cross validation</th>\n",
       "      <td>0.000000</td>\n",
       "      <td>0.000000</td>\n",
       "      <td>0.038918</td>\n",
       "    </tr>\n",
       "  </tbody>\n",
       "</table>\n",
       "</div>"
      ],
      "text/plain": [
       "                              score  pearson^2  spearman\n",
       "self validation            0.966893   0.966968  0.015967\n",
       "1-fold validation         -0.005263   0.857950  0.026128\n",
       "10-fold cross validation   0.000000   0.000000  0.038918"
      ]
     },
     "execution_count": 23,
     "metadata": {},
     "output_type": "execute_result"
    }
   ],
   "source": [
    "from sklearn.feature_selection import SelectKBest, f_regression\n",
    "\n",
    "kbest_features = SelectKBest(f_regression, k=10).fit_transform(features, labels)\n",
    "\n",
    "model = SVR(C=1.0, epsilon=0.001, kernel='rbf')\n",
    "\n",
    "val_table(model, kbest_features, labels, 10)"
   ]
  },
  {
   "cell_type": "markdown",
   "metadata": {},
   "source": [
    "### SVR RBF with Percentile"
   ]
  },
  {
   "cell_type": "code",
   "execution_count": 50,
   "metadata": {
    "collapsed": false
   },
   "outputs": [
    {
     "data": {
      "text/plain": [
       "(4567, 4)"
      ]
     },
     "execution_count": 50,
     "metadata": {},
     "output_type": "execute_result"
    }
   ],
   "source": [
    "from sklearn.feature_selection import SelectPercentile\n",
    "\n",
    "percentile_features = SelectPercentile(f_regression).fit_transform(features, labels)\n",
    "\n",
    "percentile_features.shape"
   ]
  },
  {
   "cell_type": "code",
   "execution_count": 51,
   "metadata": {
    "collapsed": false
   },
   "outputs": [
    {
     "data": {
      "text/html": [
       "<div>\n",
       "<table border=\"1\" class=\"dataframe\">\n",
       "  <thead>\n",
       "    <tr style=\"text-align: right;\">\n",
       "      <th></th>\n",
       "      <th>score</th>\n",
       "      <th>pearson^2</th>\n",
       "      <th>spearman</th>\n",
       "    </tr>\n",
       "  </thead>\n",
       "  <tbody>\n",
       "    <tr>\n",
       "      <th>self validation</th>\n",
       "      <td>0.328663</td>\n",
       "      <td>0.387776</td>\n",
       "      <td>0.002922</td>\n",
       "    </tr>\n",
       "    <tr>\n",
       "      <th>1-fold validation</th>\n",
       "      <td>-0.314110</td>\n",
       "      <td>0.622510</td>\n",
       "      <td>0.038774</td>\n",
       "    </tr>\n",
       "    <tr>\n",
       "      <th>10-fold cross validation</th>\n",
       "      <td>0.000000</td>\n",
       "      <td>0.000000</td>\n",
       "      <td>0.042755</td>\n",
       "    </tr>\n",
       "  </tbody>\n",
       "</table>\n",
       "</div>"
      ],
      "text/plain": [
       "                              score  pearson^2  spearman\n",
       "self validation            0.328663   0.387776  0.002922\n",
       "1-fold validation         -0.314110   0.622510  0.038774\n",
       "10-fold cross validation   0.000000   0.000000  0.042755"
      ]
     },
     "execution_count": 51,
     "metadata": {},
     "output_type": "execute_result"
    }
   ],
   "source": [
    "model = SVR(C=1.0, epsilon=0.01, kernel='rbf')\n",
    "\n",
    "val_table(model, percentile_features, labels, 10)"
   ]
  },
  {
   "cell_type": "markdown",
   "metadata": {},
   "source": [
    "### recursive feature elimination and cross-validated"
   ]
  },
  {
   "cell_type": "code",
   "execution_count": 30,
   "metadata": {
    "collapsed": false
   },
   "outputs": [
    {
     "data": {
      "text/plain": [
       "['percentile_50_sentence_length',\n",
       " 'median_sentence_length',\n",
       " 'median_word_length']"
      ]
     },
     "execution_count": 30,
     "metadata": {},
     "output_type": "execute_result"
    }
   ],
   "source": [
    "from sklearn.linear_model import LinearRegression\n",
    "from sklearn.feature_selection import RFECV\n",
    "\n",
    "model = LinearRegression()\n",
    "selector = RFECV(model, step=1, cv=10)\n",
    "rfecv_features = selector.fit_transform(features, labels)\n",
    "\n",
    "name_columns(rfecv_features)"
   ]
  },
  {
   "cell_type": "code",
   "execution_count": 31,
   "metadata": {
    "collapsed": false
   },
   "outputs": [
    {
     "data": {
      "text/html": [
       "<div>\n",
       "<table border=\"1\" class=\"dataframe\">\n",
       "  <thead>\n",
       "    <tr style=\"text-align: right;\">\n",
       "      <th></th>\n",
       "      <th>score</th>\n",
       "      <th>pearson^2</th>\n",
       "      <th>spearman</th>\n",
       "    </tr>\n",
       "  </thead>\n",
       "  <tbody>\n",
       "    <tr>\n",
       "      <th>self validation</th>\n",
       "      <td>0.000320</td>\n",
       "      <td>0.000320</td>\n",
       "      <td>0.003413</td>\n",
       "    </tr>\n",
       "    <tr>\n",
       "      <th>1-fold validation</th>\n",
       "      <td>-0.000899</td>\n",
       "      <td>0.024921</td>\n",
       "      <td>0.005610</td>\n",
       "    </tr>\n",
       "    <tr>\n",
       "      <th>10-fold cross validation</th>\n",
       "      <td>0.000000</td>\n",
       "      <td>0.000000</td>\n",
       "      <td>0.014772</td>\n",
       "    </tr>\n",
       "  </tbody>\n",
       "</table>\n",
       "</div>"
      ],
      "text/plain": [
       "                              score  pearson^2  spearman\n",
       "self validation            0.000320   0.000320  0.003413\n",
       "1-fold validation         -0.000899   0.024921  0.005610\n",
       "10-fold cross validation   0.000000   0.000000  0.014772"
      ]
     },
     "execution_count": 31,
     "metadata": {},
     "output_type": "execute_result"
    }
   ],
   "source": [
    "val_table(model, rfecv_features, labels, 10)"
   ]
  },
  {
   "cell_type": "markdown",
   "metadata": {},
   "source": [
    "### Linear Regression"
   ]
  },
  {
   "cell_type": "code",
   "execution_count": 49,
   "metadata": {
    "collapsed": false
   },
   "outputs": [
    {
     "data": {
      "text/html": [
       "<div>\n",
       "<table border=\"1\" class=\"dataframe\">\n",
       "  <thead>\n",
       "    <tr style=\"text-align: right;\">\n",
       "      <th></th>\n",
       "      <th>score</th>\n",
       "      <th>pearson^2</th>\n",
       "      <th>spearman</th>\n",
       "    </tr>\n",
       "  </thead>\n",
       "  <tbody>\n",
       "    <tr>\n",
       "      <th>self validation</th>\n",
       "      <td>0.034345</td>\n",
       "      <td>0.034345</td>\n",
       "      <td>0.023134</td>\n",
       "    </tr>\n",
       "    <tr>\n",
       "      <th>1-fold validation</th>\n",
       "      <td>0.022664</td>\n",
       "      <td>0.126914</td>\n",
       "      <td>0.101700</td>\n",
       "    </tr>\n",
       "    <tr>\n",
       "      <th>10-fold cross validation</th>\n",
       "      <td>0.000000</td>\n",
       "      <td>0.000000</td>\n",
       "      <td>0.093417</td>\n",
       "    </tr>\n",
       "  </tbody>\n",
       "</table>\n",
       "</div>"
      ],
      "text/plain": [
       "                              score  pearson^2  spearman\n",
       "self validation            0.034345   0.034345  0.023134\n",
       "1-fold validation          0.022664   0.126914  0.101700\n",
       "10-fold cross validation   0.000000   0.000000  0.093417"
      ]
     },
     "execution_count": 49,
     "metadata": {},
     "output_type": "execute_result"
    }
   ],
   "source": [
    "from sklearn.linear_model import LinearRegression\n",
    "\n",
    "model = LinearRegression()\n",
    "kbest_features = SelectKBest(f_regression, k=10).fit_transform(features, labels)\n",
    "\n",
    "val_table(model, kbest_features, labels, 10)"
   ]
  },
  {
   "cell_type": "markdown",
   "metadata": {},
   "source": [
    "### SVR Cross Validation"
   ]
  },
  {
   "cell_type": "code",
   "execution_count": 32,
   "metadata": {
    "collapsed": false
   },
   "outputs": [
    {
     "data": {
      "text/plain": [
       "0.062932470471254831"
      ]
     },
     "execution_count": 32,
     "metadata": {},
     "output_type": "execute_result"
    }
   ],
   "source": [
    "kbest_features = SelectKBest(f_regression, k=5).fit_transform(features, labels)\n",
    "model = SVR(C=1.0, epsilon=0.2, kernel='rbf')\n",
    "scores = cross_val_score(model, kbest_features, labels, cv=5, scoring=spearmanr_scorer)\n",
    "scores.mean()"
   ]
  }
 ],
 "metadata": {
  "kernelspec": {
   "display_name": "Python 2",
   "language": "python",
   "name": "python2"
  },
  "language_info": {
   "codemirror_mode": {
    "name": "ipython",
    "version": 2
   },
   "file_extension": ".py",
   "mimetype": "text/x-python",
   "name": "python",
   "nbconvert_exporter": "python",
   "pygments_lexer": "ipython2",
   "version": "2.7.6"
  }
 },
 "nbformat": 4,
 "nbformat_minor": 0
}
