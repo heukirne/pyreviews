{
 "cells": [
  {
   "cell_type": "code",
   "execution_count": 1,
   "metadata": {
    "collapsed": true
   },
   "outputs": [],
   "source": [
    "import sys\n",
    "sys.path.append(\"../pylinguistics/pylinguistics/\")\n",
    "\n",
    "import Pylinguistics as pl\n",
    "import pandas as pd\n",
    "import plotsfunc as pf\n",
    "import numpy as np\n",
    "from scipy.stats import spearmanr\n",
    "\n",
    "%matplotlib inline"
   ]
  },
  {
   "cell_type": "code",
   "execution_count": 18,
   "metadata": {
    "collapsed": true
   },
   "outputs": [],
   "source": [
    "def helpInt(x): \n",
    "    try:\n",
    "        return int ( float(x['thumbsup']) / (float(x['thumbsup']) + float(x['thumbsdown'])) )\n",
    "    except:\n",
    "        return 0"
   ]
  },
  {
   "cell_type": "code",
   "execution_count": 19,
   "metadata": {
    "collapsed": false
   },
   "outputs": [
    {
     "data": {
      "text/plain": [
       "(32226, 34)"
      ]
     },
     "execution_count": 19,
     "metadata": {},
     "output_type": "execute_result"
    }
   ],
   "source": [
    "# reset variables\n",
    "reviews_features = pd.read_csv('reviews.csv.gz', compression='gzip')\n",
    "reviews_columns = reviews_features.select_dtypes(include=['float64','int']).columns\n",
    "reviews_features['helpfulness'] = reviews_features.apply(helpInt,axis=1)\n",
    "\n",
    "# split class and features\n",
    "labels = reviews_features[\"helpfulness\"].values\n",
    "del reviews_features['helpfulness']\n",
    "features = reviews_features[list(reviews_columns)].values\n",
    "\n",
    "# clean features\n",
    "features = np.abs(features)\n",
    "features[np.isnan(features) == True] = 0\n",
    "\n",
    "features.shape"
   ]
  },
  {
   "cell_type": "code",
   "execution_count": 20,
   "metadata": {
    "collapsed": false
   },
   "outputs": [
    {
     "data": {
      "text/plain": [
       "0.52060505388330125"
      ]
     },
     "execution_count": 20,
     "metadata": {},
     "output_type": "execute_result"
    }
   ],
   "source": [
    "from sklearn.naive_bayes import MultinomialNB\n",
    "from sklearn.pipeline import Pipeline\n",
    "from sklearn.feature_selection import SelectKBest\n",
    "from sklearn.feature_selection import chi2\n",
    "from sklearn import cross_validation\n",
    "\n",
    "p = Pipeline(steps=[('feature_selection', SelectKBest(chi2, k=10)),\n",
    "                ('multinomialnb', MultinomialNB())])\n",
    "\n",
    "p.fit(features, labels)\n",
    "\n",
    "scores = cross_validation.cross_val_score(p, features, labels, cv=10)\n",
    "scores.mean()"
   ]
  }
 ],
 "metadata": {
  "kernelspec": {
   "display_name": "Python 2",
   "language": "python",
   "name": "python2"
  },
  "language_info": {
   "codemirror_mode": {
    "name": "ipython",
    "version": 2
   },
   "file_extension": ".py",
   "mimetype": "text/x-python",
   "name": "python",
   "nbconvert_exporter": "python",
   "pygments_lexer": "ipython2",
   "version": "2.7.6"
  }
 },
 "nbformat": 4,
 "nbformat_minor": 0
}
