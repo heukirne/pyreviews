{
 "cells": [
  {
   "cell_type": "code",
   "execution_count": 1,
   "metadata": {
    "collapsed": false
   },
   "outputs": [],
   "source": [
    "import pandas as pd\n",
    "import numpy as np\n",
    "from scipy.stats import spearmanr"
   ]
  },
  {
   "cell_type": "code",
   "execution_count": 2,
   "metadata": {
    "collapsed": true
   },
   "outputs": [],
   "source": [
    "def helpInt(x): \n",
    "    try:\n",
    "        return float ( float(x['thumbsup']) / (float(x['thumbsup']) + float(x['thumbsdown'])) )\n",
    "    except:\n",
    "        return 0\n",
    "def thumbsSum(x): \n",
    "    try:\n",
    "        return int(x['thumbsup']) + int(x['thumbsdown']) \n",
    "    except:\n",
    "        return 0"
   ]
  },
  {
   "cell_type": "markdown",
   "metadata": {},
   "source": [
    "### load data"
   ]
  },
  {
   "cell_type": "code",
   "execution_count": 4,
   "metadata": {
    "collapsed": false
   },
   "outputs": [
    {
     "data": {
      "text/plain": [
       "(32226, 49)"
      ]
     },
     "execution_count": 4,
     "metadata": {},
     "output_type": "execute_result"
    }
   ],
   "source": [
    "# reset variables\n",
    "reviews_features = pd.read_csv('reviews.csv.gz', compression='gzip')\n",
    "#reviews_features = pd.read_csv('amazon-help.csv.gz')\n",
    "reviews_columns = reviews_features.select_dtypes(include=['float64','int']).columns\n",
    "reviews_features['helpfulness'] = reviews_features.apply(helpInt,axis=1)\n",
    "reviews_features['thumbstotal'] = reviews_features.apply(thumbsSum,axis=1)\n",
    "reviews_features.shape"
   ]
  },
  {
   "cell_type": "markdown",
   "metadata": {},
   "source": [
    "### filter dataset"
   ]
  },
  {
   "cell_type": "code",
   "execution_count": 5,
   "metadata": {
    "collapsed": false
   },
   "outputs": [
    {
     "data": {
      "text/plain": [
       "(9696, 49)"
      ]
     },
     "execution_count": 5,
     "metadata": {},
     "output_type": "execute_result"
    }
   ],
   "source": [
    "#reviews_features = reviews_features.sample(frac=0.5)\n",
    "reviews_features = reviews_features[np.isfinite(reviews_features.helpfulness)]\n",
    "reviews_features = reviews_features[reviews_features.thumbstotal>4]\n",
    "reviews_features.shape"
   ]
  },
  {
   "cell_type": "markdown",
   "metadata": {},
   "source": [
    "### split data and class"
   ]
  },
  {
   "cell_type": "code",
   "execution_count": 6,
   "metadata": {
    "collapsed": false
   },
   "outputs": [
    {
     "data": {
      "text/plain": [
       "(9696, 37)"
      ]
     },
     "execution_count": 6,
     "metadata": {},
     "output_type": "execute_result"
    }
   ],
   "source": [
    "# split class and features\n",
    "labels = reviews_features[\"helpfulness\"].values\n",
    "del reviews_features['helpfulness']\n",
    "features = reviews_features[list(reviews_columns)].values\n",
    "\n",
    "# clean features\n",
    "features = np.abs(features)\n",
    "features[np.isnan(features) == True] = 0\n",
    "\n",
    "features.shape"
   ]
  },
  {
   "cell_type": "markdown",
   "metadata": {},
   "source": [
    "### SVR Training Script\n",
    "#### based on https://github.com/ajschumacher/ajschumacher.github.io/blob/master/20150417-negative_r_squared/index.md"
   ]
  },
  {
   "cell_type": "code",
   "execution_count": 32,
   "metadata": {
    "collapsed": true
   },
   "outputs": [],
   "source": [
    "from sklearn.svm import SVR\n",
    "from sklearn.cross_validation import train_test_split, cross_val_score\n",
    "from sklearn.metrics import mean_squared_error, mean_absolute_error"
   ]
  },
  {
   "cell_type": "markdown",
   "metadata": {},
   "source": [
    "### define functions"
   ]
  },
  {
   "cell_type": "code",
   "execution_count": 36,
   "metadata": {
    "collapsed": false
   },
   "outputs": [],
   "source": [
    "from sklearn.metrics import make_scorer\n",
    "def simple_spearman(x,y): return spearmanr(x,y)[0]\n",
    "spearmanr_scorer = make_scorer(simple_spearman)\n",
    "\n",
    "def val_table(model, features, target, cvOpt=0):\n",
    "    feature_train, feature_test, label_train, label_test = train_test_split(features, target)\n",
    "\n",
    "    model.fit(feature_train, label_train)\n",
    "\n",
    "    columns = ['self validation', '1-fold validation']\n",
    "    if cvOpt > 0: columns.append(str(cvOpt) + '-fold cross validation ')\n",
    "    \n",
    "    score_list = []\n",
    "    score_list.append(model.score(feature_train, label_train))\n",
    "    score_list.append(model.score(feature_test,  label_test))\n",
    "    if cvOpt > 0: score_list.append(0)\n",
    "    \n",
    "    corr_df = pd.DataFrame(data={'score': np.array(score_list)}, index=columns)\n",
    "\n",
    "    pearson_list = []\n",
    "    pearson_list.append(np.corrcoef(model.predict(feature_train), label_train)[0, 1]**2)\n",
    "    pearson_list.append(np.corrcoef(model.predict(feature_test), label_test)[0, 1]**2)\n",
    "    if cvOpt > 0: pearson_list.append(0)\n",
    "    corr_df['pearson^2'] = pearson_list\n",
    "    \n",
    "    spearman_list = []\n",
    "    spearman_list.append(simple_spearman(model.predict(feature_train), label_train))\n",
    "    spearman_list.append(simple_spearman(model.predict(feature_test), label_test))\n",
    "    if cvOpt > 0: \n",
    "        scores = cross_val_score(model, features, target, cv=cvOpt, scoring=spearmanr_scorer)\n",
    "        spearman_list.append(scores.mean())\n",
    "    corr_df['spearman'] = spearman_list   \n",
    "    \n",
    "    squared_list = []\n",
    "    squared_list.append(np.abs(mean_absolute_error(label_train, model.predict(feature_train))))\n",
    "    squared_list.append(np.abs(mean_absolute_error(label_test, model.predict(feature_test))))\n",
    "    if cvOpt > 0: \n",
    "        scores = cross_val_score(model, features, target, cv=cvOpt, scoring='mean_absolute_error')\n",
    "        squared_list.append(np.abs(scores.mean()))\n",
    "    corr_df['mean_absolute_error'] = squared_list   \n",
    "    \n",
    "    return corr_df\n",
    "\n",
    "def name_columns(features):\n",
    "    kbest_columns = []\n",
    "\n",
    "    for value in features[0]:\n",
    "        for column in reviews_columns:\n",
    "            if reviews_features[column].iloc[0] == value:\n",
    "                kbest_columns.append(column)\n",
    "            \n",
    "    return kbest_columns"
   ]
  },
  {
   "cell_type": "markdown",
   "metadata": {},
   "source": [
    "### SVR Linear"
   ]
  },
  {
   "cell_type": "code",
   "execution_count": 37,
   "metadata": {
    "collapsed": false
   },
   "outputs": [
    {
     "data": {
      "text/html": [
       "<div>\n",
       "<table border=\"1\" class=\"dataframe\">\n",
       "  <thead>\n",
       "    <tr style=\"text-align: right;\">\n",
       "      <th></th>\n",
       "      <th>score</th>\n",
       "      <th>pearson^2</th>\n",
       "      <th>spearman</th>\n",
       "      <th>mean_absolute_error</th>\n",
       "    </tr>\n",
       "  </thead>\n",
       "  <tbody>\n",
       "    <tr>\n",
       "      <th>self validation</th>\n",
       "      <td>-1.890929</td>\n",
       "      <td>0.070805</td>\n",
       "      <td>0.267863</td>\n",
       "      <td>0.396733</td>\n",
       "    </tr>\n",
       "    <tr>\n",
       "      <th>1-fold validation</th>\n",
       "      <td>-1.860022</td>\n",
       "      <td>0.097121</td>\n",
       "      <td>0.321466</td>\n",
       "      <td>0.401548</td>\n",
       "    </tr>\n",
       "    <tr>\n",
       "      <th>10-fold cross validation</th>\n",
       "      <td>0.000000</td>\n",
       "      <td>0.000000</td>\n",
       "      <td>0.163377</td>\n",
       "      <td>0.278080</td>\n",
       "    </tr>\n",
       "  </tbody>\n",
       "</table>\n",
       "</div>"
      ],
      "text/plain": [
       "                              score  pearson^2  spearman  mean_absolute_error\n",
       "self validation           -1.890929   0.070805  0.267863             0.396733\n",
       "1-fold validation         -1.860022   0.097121  0.321466             0.401548\n",
       "10-fold cross validation   0.000000   0.000000  0.163377             0.278080"
      ]
     },
     "execution_count": 37,
     "metadata": {},
     "output_type": "execute_result"
    }
   ],
   "source": [
    "from sklearn.svm import LinearSVR\n",
    "from sklearn.linear_model import LinearRegression\n",
    "from sklearn.feature_selection import SelectKBest, f_regression\n",
    "\n",
    "kbest_features = SelectKBest(f_regression, k=15).fit_transform(features, labels)\n",
    "\n",
    "model = LinearSVR()\n",
    "val_table(model, kbest_features, labels, 10)"
   ]
  },
  {
   "cell_type": "markdown",
   "metadata": {},
   "source": [
    "### SVR RBF with Obviuos"
   ]
  },
  {
   "cell_type": "code",
   "execution_count": 50,
   "metadata": {
    "collapsed": false
   },
   "outputs": [
    {
     "data": {
      "text/html": [
       "<div>\n",
       "<table border=\"1\" class=\"dataframe\">\n",
       "  <thead>\n",
       "    <tr style=\"text-align: right;\">\n",
       "      <th></th>\n",
       "      <th>score</th>\n",
       "      <th>pearson^2</th>\n",
       "      <th>spearman</th>\n",
       "      <th>mean_absolute_error</th>\n",
       "    </tr>\n",
       "  </thead>\n",
       "  <tbody>\n",
       "    <tr>\n",
       "      <th>self validation</th>\n",
       "      <td>0.998693</td>\n",
       "      <td>0.999125</td>\n",
       "      <td>0.995545</td>\n",
       "      <td>0.009134</td>\n",
       "    </tr>\n",
       "    <tr>\n",
       "      <th>1-fold validation</th>\n",
       "      <td>0.980383</td>\n",
       "      <td>0.981158</td>\n",
       "      <td>0.983794</td>\n",
       "      <td>0.015504</td>\n",
       "    </tr>\n",
       "    <tr>\n",
       "      <th>10-fold cross validation</th>\n",
       "      <td>0.000000</td>\n",
       "      <td>0.000000</td>\n",
       "      <td>0.983750</td>\n",
       "      <td>0.015364</td>\n",
       "    </tr>\n",
       "  </tbody>\n",
       "</table>\n",
       "</div>"
      ],
      "text/plain": [
       "                              score  pearson^2  spearman  mean_absolute_error\n",
       "self validation            0.998693   0.999125  0.995545             0.009134\n",
       "1-fold validation          0.980383   0.981158  0.983794             0.015504\n",
       "10-fold cross validation   0.000000   0.000000  0.983750             0.015364"
      ]
     },
     "execution_count": 50,
     "metadata": {},
     "output_type": "execute_result"
    }
   ],
   "source": [
    "obvious_features = reviews_features[list(['thumbsup','thumbsdown'])].values\n",
    "\n",
    "model = SVR(C=1.0, epsilon=0.01, kernel='rbf')\n",
    "\n",
    "val_table(model, obvious_features, labels, 10)"
   ]
  },
  {
   "cell_type": "markdown",
   "metadata": {},
   "source": [
    "### SVR RBF with Manual Selection"
   ]
  },
  {
   "cell_type": "code",
   "execution_count": 39,
   "metadata": {
    "collapsed": false
   },
   "outputs": [
    {
     "data": {
      "text/html": [
       "<div>\n",
       "<table border=\"1\" class=\"dataframe\">\n",
       "  <thead>\n",
       "    <tr style=\"text-align: right;\">\n",
       "      <th></th>\n",
       "      <th>score</th>\n",
       "      <th>pearson^2</th>\n",
       "      <th>spearman</th>\n",
       "      <th>mean_absolute_error</th>\n",
       "    </tr>\n",
       "  </thead>\n",
       "  <tbody>\n",
       "    <tr>\n",
       "      <th>self validation</th>\n",
       "      <td>0.193038</td>\n",
       "      <td>0.217277</td>\n",
       "      <td>0.436651</td>\n",
       "      <td>0.164923</td>\n",
       "    </tr>\n",
       "    <tr>\n",
       "      <th>1-fold validation</th>\n",
       "      <td>-0.052608</td>\n",
       "      <td>0.054271</td>\n",
       "      <td>0.213910</td>\n",
       "      <td>0.204980</td>\n",
       "    </tr>\n",
       "    <tr>\n",
       "      <th>10-fold cross validation</th>\n",
       "      <td>0.000000</td>\n",
       "      <td>0.000000</td>\n",
       "      <td>0.204739</td>\n",
       "      <td>0.201810</td>\n",
       "    </tr>\n",
       "  </tbody>\n",
       "</table>\n",
       "</div>"
      ],
      "text/plain": [
       "                              score  pearson^2  spearman  mean_absolute_error\n",
       "self validation            0.193038   0.217277  0.436651             0.164923\n",
       "1-fold validation         -0.052608   0.054271  0.213910             0.204980\n",
       "10-fold cross validation   0.000000   0.000000  0.204739             0.201810"
      ]
     },
     "execution_count": 39,
     "metadata": {},
     "output_type": "execute_result"
    }
   ],
   "source": [
    "manual_features = reviews_features[list(['word_count','stars'])].values\n",
    "\n",
    "model = SVR(C=1.0, epsilon=0.01, kernel='rbf')\n",
    "\n",
    "val_table(model, manual_features, labels, 10)"
   ]
  },
  {
   "cell_type": "markdown",
   "metadata": {},
   "source": [
    "### SVR RBF with 5 KBest"
   ]
  },
  {
   "cell_type": "code",
   "execution_count": 40,
   "metadata": {
    "collapsed": false
   },
   "outputs": [
    {
     "data": {
      "text/plain": [
       "['word_count',\n",
       " 'syllable_count',\n",
       " 'pronIncidence',\n",
       " 'sentence_count',\n",
       " 'LexicalDiversty']"
      ]
     },
     "execution_count": 40,
     "metadata": {},
     "output_type": "execute_result"
    }
   ],
   "source": [
    "from sklearn.feature_selection import SelectKBest, f_regression\n",
    "\n",
    "kbest_features = SelectKBest(f_regression, k=5).fit_transform(features, labels)\n",
    "\n",
    "model = SVR(C=1.0, epsilon=0.001, kernel='rbf')\n",
    "\n",
    "name_columns(kbest_features)"
   ]
  },
  {
   "cell_type": "code",
   "execution_count": 41,
   "metadata": {
    "collapsed": false
   },
   "outputs": [
    {
     "data": {
      "text/html": [
       "<div>\n",
       "<table border=\"1\" class=\"dataframe\">\n",
       "  <thead>\n",
       "    <tr style=\"text-align: right;\">\n",
       "      <th></th>\n",
       "      <th>score</th>\n",
       "      <th>pearson^2</th>\n",
       "      <th>spearman</th>\n",
       "      <th>mean_absolute_error</th>\n",
       "    </tr>\n",
       "  </thead>\n",
       "  <tbody>\n",
       "    <tr>\n",
       "      <th>self validation</th>\n",
       "      <td>0.935558</td>\n",
       "      <td>0.935763</td>\n",
       "      <td>0.974875</td>\n",
       "      <td>0.013917</td>\n",
       "    </tr>\n",
       "    <tr>\n",
       "      <th>1-fold validation</th>\n",
       "      <td>-0.050820</td>\n",
       "      <td>0.030829</td>\n",
       "      <td>0.143275</td>\n",
       "      <td>0.207383</td>\n",
       "    </tr>\n",
       "    <tr>\n",
       "      <th>10-fold cross validation</th>\n",
       "      <td>0.000000</td>\n",
       "      <td>0.000000</td>\n",
       "      <td>0.126684</td>\n",
       "      <td>0.209835</td>\n",
       "    </tr>\n",
       "  </tbody>\n",
       "</table>\n",
       "</div>"
      ],
      "text/plain": [
       "                              score  pearson^2  spearman  mean_absolute_error\n",
       "self validation            0.935558   0.935763  0.974875             0.013917\n",
       "1-fold validation         -0.050820   0.030829  0.143275             0.207383\n",
       "10-fold cross validation   0.000000   0.000000  0.126684             0.209835"
      ]
     },
     "execution_count": 41,
     "metadata": {},
     "output_type": "execute_result"
    }
   ],
   "source": [
    "val_table(model, kbest_features, labels, 10)"
   ]
  },
  {
   "cell_type": "markdown",
   "metadata": {},
   "source": [
    "### SVR RBF with 10 KBest"
   ]
  },
  {
   "cell_type": "code",
   "execution_count": 42,
   "metadata": {
    "collapsed": false
   },
   "outputs": [
    {
     "data": {
      "text/html": [
       "<div>\n",
       "<table border=\"1\" class=\"dataframe\">\n",
       "  <thead>\n",
       "    <tr style=\"text-align: right;\">\n",
       "      <th></th>\n",
       "      <th>score</th>\n",
       "      <th>pearson^2</th>\n",
       "      <th>spearman</th>\n",
       "      <th>mean_absolute_error</th>\n",
       "    </tr>\n",
       "  </thead>\n",
       "  <tbody>\n",
       "    <tr>\n",
       "      <th>self validation</th>\n",
       "      <td>0.979402</td>\n",
       "      <td>0.979413</td>\n",
       "      <td>0.988792</td>\n",
       "      <td>0.004830</td>\n",
       "    </tr>\n",
       "    <tr>\n",
       "      <th>1-fold validation</th>\n",
       "      <td>0.031960</td>\n",
       "      <td>0.036176</td>\n",
       "      <td>0.064758</td>\n",
       "      <td>0.207136</td>\n",
       "    </tr>\n",
       "    <tr>\n",
       "      <th>10-fold cross validation</th>\n",
       "      <td>0.000000</td>\n",
       "      <td>0.000000</td>\n",
       "      <td>0.063474</td>\n",
       "      <td>0.206886</td>\n",
       "    </tr>\n",
       "  </tbody>\n",
       "</table>\n",
       "</div>"
      ],
      "text/plain": [
       "                              score  pearson^2  spearman  mean_absolute_error\n",
       "self validation            0.979402   0.979413  0.988792             0.004830\n",
       "1-fold validation          0.031960   0.036176  0.064758             0.207136\n",
       "10-fold cross validation   0.000000   0.000000  0.063474             0.206886"
      ]
     },
     "execution_count": 42,
     "metadata": {},
     "output_type": "execute_result"
    }
   ],
   "source": [
    "from sklearn.feature_selection import SelectKBest, f_regression\n",
    "\n",
    "kbest_features = SelectKBest(f_regression, k=10).fit_transform(features, labels)\n",
    "\n",
    "model = SVR(C=1.0, epsilon=0.001, kernel='rbf')\n",
    "\n",
    "val_table(model, kbest_features, labels, 10)"
   ]
  },
  {
   "cell_type": "markdown",
   "metadata": {},
   "source": [
    "### SVR RBF with Percentile"
   ]
  },
  {
   "cell_type": "code",
   "execution_count": 43,
   "metadata": {
    "collapsed": false
   },
   "outputs": [
    {
     "data": {
      "text/plain": [
       "(9696, 4)"
      ]
     },
     "execution_count": 43,
     "metadata": {},
     "output_type": "execute_result"
    }
   ],
   "source": [
    "from sklearn.feature_selection import SelectPercentile\n",
    "\n",
    "percentile_features = SelectPercentile(f_regression).fit_transform(features, labels)\n",
    "\n",
    "percentile_features.shape"
   ]
  },
  {
   "cell_type": "code",
   "execution_count": 44,
   "metadata": {
    "collapsed": false
   },
   "outputs": [
    {
     "data": {
      "text/html": [
       "<div>\n",
       "<table border=\"1\" class=\"dataframe\">\n",
       "  <thead>\n",
       "    <tr style=\"text-align: right;\">\n",
       "      <th></th>\n",
       "      <th>score</th>\n",
       "      <th>pearson^2</th>\n",
       "      <th>spearman</th>\n",
       "      <th>mean_absolute_error</th>\n",
       "    </tr>\n",
       "  </thead>\n",
       "  <tbody>\n",
       "    <tr>\n",
       "      <th>self validation</th>\n",
       "      <td>0.598970</td>\n",
       "      <td>0.602408</td>\n",
       "      <td>0.805051</td>\n",
       "      <td>0.085593</td>\n",
       "    </tr>\n",
       "    <tr>\n",
       "      <th>1-fold validation</th>\n",
       "      <td>-0.140728</td>\n",
       "      <td>0.048337</td>\n",
       "      <td>0.159689</td>\n",
       "      <td>0.213468</td>\n",
       "    </tr>\n",
       "    <tr>\n",
       "      <th>10-fold cross validation</th>\n",
       "      <td>0.000000</td>\n",
       "      <td>0.000000</td>\n",
       "      <td>0.170376</td>\n",
       "      <td>0.216116</td>\n",
       "    </tr>\n",
       "  </tbody>\n",
       "</table>\n",
       "</div>"
      ],
      "text/plain": [
       "                              score  pearson^2  spearman  mean_absolute_error\n",
       "self validation            0.598970   0.602408  0.805051             0.085593\n",
       "1-fold validation         -0.140728   0.048337  0.159689             0.213468\n",
       "10-fold cross validation   0.000000   0.000000  0.170376             0.216116"
      ]
     },
     "execution_count": 44,
     "metadata": {},
     "output_type": "execute_result"
    }
   ],
   "source": [
    "model = SVR(C=1.0, epsilon=0.01, kernel='rbf')\n",
    "\n",
    "val_table(model, percentile_features, labels, 10)"
   ]
  },
  {
   "cell_type": "markdown",
   "metadata": {},
   "source": [
    "### recursive feature elimination and cross-validated"
   ]
  },
  {
   "cell_type": "code",
   "execution_count": 52,
   "metadata": {
    "collapsed": false
   },
   "outputs": [
    {
     "data": {
      "text/plain": [
       "['mean_word_length', 'avg_syllables_per_word']"
      ]
     },
     "execution_count": 52,
     "metadata": {},
     "output_type": "execute_result"
    }
   ],
   "source": [
    "from sklearn.linear_model import LinearRegression\n",
    "from sklearn.feature_selection import RFECV\n",
    "\n",
    "model = LinearSVR()\n",
    "selector = RFECV(model, step=5, cv=10)\n",
    "rfecv_features = selector.fit_transform(features, labels)\n",
    "\n",
    "name_columns(rfecv_features)"
   ]
  },
  {
   "cell_type": "code",
   "execution_count": 53,
   "metadata": {
    "collapsed": false
   },
   "outputs": [
    {
     "data": {
      "text/html": [
       "<div>\n",
       "<table border=\"1\" class=\"dataframe\">\n",
       "  <thead>\n",
       "    <tr style=\"text-align: right;\">\n",
       "      <th></th>\n",
       "      <th>score</th>\n",
       "      <th>pearson^2</th>\n",
       "      <th>spearman</th>\n",
       "      <th>mean_absolute_error</th>\n",
       "    </tr>\n",
       "  </thead>\n",
       "  <tbody>\n",
       "    <tr>\n",
       "      <th>self validation</th>\n",
       "      <td>-0.068495</td>\n",
       "      <td>0.007487</td>\n",
       "      <td>0.090083</td>\n",
       "      <td>0.199436</td>\n",
       "    </tr>\n",
       "    <tr>\n",
       "      <th>1-fold validation</th>\n",
       "      <td>-0.068350</td>\n",
       "      <td>0.015050</td>\n",
       "      <td>0.136093</td>\n",
       "      <td>0.202495</td>\n",
       "    </tr>\n",
       "    <tr>\n",
       "      <th>10-fold cross validation</th>\n",
       "      <td>0.000000</td>\n",
       "      <td>0.000000</td>\n",
       "      <td>0.091704</td>\n",
       "      <td>0.200973</td>\n",
       "    </tr>\n",
       "  </tbody>\n",
       "</table>\n",
       "</div>"
      ],
      "text/plain": [
       "                              score  pearson^2  spearman  mean_absolute_error\n",
       "self validation           -0.068495   0.007487  0.090083             0.199436\n",
       "1-fold validation         -0.068350   0.015050  0.136093             0.202495\n",
       "10-fold cross validation   0.000000   0.000000  0.091704             0.200973"
      ]
     },
     "execution_count": 53,
     "metadata": {},
     "output_type": "execute_result"
    }
   ],
   "source": [
    "val_table(model, rfecv_features, labels, 10)"
   ]
  },
  {
   "cell_type": "markdown",
   "metadata": {},
   "source": [
    "### Linear Regression"
   ]
  },
  {
   "cell_type": "code",
   "execution_count": 47,
   "metadata": {
    "collapsed": false
   },
   "outputs": [
    {
     "data": {
      "text/html": [
       "<div>\n",
       "<table border=\"1\" class=\"dataframe\">\n",
       "  <thead>\n",
       "    <tr style=\"text-align: right;\">\n",
       "      <th></th>\n",
       "      <th>score</th>\n",
       "      <th>pearson^2</th>\n",
       "      <th>spearman</th>\n",
       "      <th>mean_absolute_error</th>\n",
       "    </tr>\n",
       "  </thead>\n",
       "  <tbody>\n",
       "    <tr>\n",
       "      <th>self validation</th>\n",
       "      <td>0.100305</td>\n",
       "      <td>0.100305</td>\n",
       "      <td>0.282318</td>\n",
       "      <td>0.194735</td>\n",
       "    </tr>\n",
       "    <tr>\n",
       "      <th>1-fold validation</th>\n",
       "      <td>0.087557</td>\n",
       "      <td>0.087698</td>\n",
       "      <td>0.261688</td>\n",
       "      <td>0.203676</td>\n",
       "    </tr>\n",
       "    <tr>\n",
       "      <th>10-fold cross validation</th>\n",
       "      <td>0.000000</td>\n",
       "      <td>0.000000</td>\n",
       "      <td>0.273260</td>\n",
       "      <td>0.198058</td>\n",
       "    </tr>\n",
       "  </tbody>\n",
       "</table>\n",
       "</div>"
      ],
      "text/plain": [
       "                              score  pearson^2  spearman  mean_absolute_error\n",
       "self validation            0.100305   0.100305  0.282318             0.194735\n",
       "1-fold validation          0.087557   0.087698  0.261688             0.203676\n",
       "10-fold cross validation   0.000000   0.000000  0.273260             0.198058"
      ]
     },
     "execution_count": 47,
     "metadata": {},
     "output_type": "execute_result"
    }
   ],
   "source": [
    "from sklearn.linear_model import LinearRegression\n",
    "\n",
    "model = LinearRegression()\n",
    "kbest_features = SelectKBest(f_regression, k=10).fit_transform(features, labels)\n",
    "\n",
    "val_table(model, kbest_features, labels, 10)"
   ]
  }
 ],
 "metadata": {
  "kernelspec": {
   "display_name": "Python 2",
   "language": "python",
   "name": "python2"
  },
  "language_info": {
   "codemirror_mode": {
    "name": "ipython",
    "version": 2
   },
   "file_extension": ".py",
   "mimetype": "text/x-python",
   "name": "python",
   "nbconvert_exporter": "python",
   "pygments_lexer": "ipython2",
   "version": "2.7.10"
  }
 },
 "nbformat": 4,
 "nbformat_minor": 0
}
