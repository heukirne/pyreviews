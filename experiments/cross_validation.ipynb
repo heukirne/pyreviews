{
 "cells": [
  {
   "cell_type": "code",
   "execution_count": 1,
   "metadata": {
    "collapsed": true
   },
   "outputs": [],
   "source": [
    "import sys\n",
    "sys.path.append(\"../pylinguistics/pylinguistics/\")\n",
    "\n",
    "import Pylinguistics as pl\n",
    "import pandas as pd\n",
    "import plotsfunc as pf\n",
    "import numpy as np\n",
    "from scipy.stats import spearmanr\n",
    "\n",
    "%matplotlib inline"
   ]
  },
  {
   "cell_type": "code",
   "execution_count": 9,
   "metadata": {
    "collapsed": true
   },
   "outputs": [],
   "source": [
    "def helpInt(x): \n",
    "    try:\n",
    "        return int ( float(x['thumbsup']) * 1000 / (float(x['thumbsup']) + float(x['thumbsdown'])) )\n",
    "    except:\n",
    "        return 0"
   ]
  },
  {
   "cell_type": "code",
   "execution_count": 10,
   "metadata": {
    "collapsed": false
   },
   "outputs": [
    {
     "data": {
      "text/plain": [
       "(32226, 48)"
      ]
     },
     "execution_count": 10,
     "metadata": {},
     "output_type": "execute_result"
    }
   ],
   "source": [
    "# reset variables\n",
    "reviews_features = pd.read_csv('reviews.csv.gz', compression='gzip')\n",
    "reviews_columns = reviews_features.select_dtypes(include=['float64','int']).columns\n",
    "reviews_features['helpfulness'] = reviews_features.apply(helpInt,axis=1)\n",
    "\n",
    "reviews_features.shape"
   ]
  },
  {
   "cell_type": "code",
   "execution_count": 16,
   "metadata": {
    "collapsed": false
   },
   "outputs": [
    {
     "data": {
      "text/plain": [
       "(32226, 48)"
      ]
     },
     "execution_count": 16,
     "metadata": {},
     "output_type": "execute_result"
    }
   ],
   "source": [
    "#keep only the ones that are within +3 to -3 standard deviations\n",
    "\n",
    "help_mean = reviews_features.helpfulness.mean()\n",
    "help_std = reviews_features.helpfulness.std()\n",
    "\n",
    "reviews_features[np.abs(reviews_features.helpfulness-help_mean)<=(2*help_std)]\n",
    "reviews_features.shape"
   ]
  },
  {
   "cell_type": "code",
   "execution_count": 17,
   "metadata": {
    "collapsed": false
   },
   "outputs": [
    {
     "data": {
      "text/plain": [
       "(32226, 34)"
      ]
     },
     "execution_count": 17,
     "metadata": {},
     "output_type": "execute_result"
    }
   ],
   "source": [
    "# split class and features\n",
    "labels = reviews_features[\"helpfulness\"].values\n",
    "del reviews_features['helpfulness']\n",
    "features = reviews_features[list(reviews_columns)].values\n",
    "\n",
    "# clean features\n",
    "features = np.abs(features)\n",
    "features[np.isnan(features) == True] = 0\n",
    "\n",
    "features.shape"
   ]
  },
  {
   "cell_type": "code",
   "execution_count": 18,
   "metadata": {
    "collapsed": false
   },
   "outputs": [
    {
     "data": {
      "text/plain": [
       "(32226, 10)"
      ]
     },
     "execution_count": 18,
     "metadata": {},
     "output_type": "execute_result"
    }
   ],
   "source": [
    "from sklearn.feature_selection import SelectKBest, f_regression\n",
    "\n",
    "new_features = SelectKBest(f_regression, k=10).fit_transform(features, labels)\n",
    "new_features.shape"
   ]
  },
  {
   "cell_type": "code",
   "execution_count": null,
   "metadata": {
    "collapsed": false
   },
   "outputs": [],
   "source": [
    "from sklearn.svm import SVR\n",
    "from sklearn import cross_validation\n",
    "\n",
    "estimator = SVR(C=1.0, epsilon=0.2)\n",
    "scores = cross_validation.cross_val_score(estimator, new_features, labels, cv=10)\n",
    "scores.mean()"
   ]
  }
 ],
 "metadata": {
  "kernelspec": {
   "display_name": "Python 2",
   "language": "python",
   "name": "python2"
  },
  "language_info": {
   "codemirror_mode": {
    "name": "ipython",
    "version": 2
   },
   "file_extension": ".py",
   "mimetype": "text/x-python",
   "name": "python",
   "nbconvert_exporter": "python",
   "pygments_lexer": "ipython2",
   "version": "2.7.6"
  }
 },
 "nbformat": 4,
 "nbformat_minor": 0
}
