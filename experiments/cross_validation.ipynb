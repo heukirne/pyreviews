{
 "cells": [
  {
   "cell_type": "code",
   "execution_count": 1,
   "metadata": {
    "collapsed": false
   },
   "outputs": [],
   "source": [
    "import pandas as pd\n",
    "import numpy as np\n",
    "from scipy.stats import spearmanr"
   ]
  },
  {
   "cell_type": "code",
   "execution_count": 2,
   "metadata": {
    "collapsed": true
   },
   "outputs": [],
   "source": [
    "def helpInt(x): \n",
    "    try:\n",
    "        return float ( float(x['thumbsup']) / (float(x['thumbsup']) + float(x['thumbsdown'])) )\n",
    "    except:\n",
    "        return 0\n",
    "def thumbsSum(x): \n",
    "    try:\n",
    "        return int(x['thumbsup']) + int(x['thumbsdown']) \n",
    "    except:\n",
    "        return 0"
   ]
  },
  {
   "cell_type": "markdown",
   "metadata": {},
   "source": [
    "### load data"
   ]
  },
  {
   "cell_type": "code",
   "execution_count": 4,
   "metadata": {
    "collapsed": false
   },
   "outputs": [
    {
     "data": {
      "text/plain": [
       "(32226, 49)"
      ]
     },
     "execution_count": 4,
     "metadata": {},
     "output_type": "execute_result"
    }
   ],
   "source": [
    "# reset variables\n",
    "reviews_features = pd.read_csv('reviews.csv.gz', compression='gzip')\n",
    "#reviews_features = pd.read_csv('amazon-help.csv.gz')\n",
    "reviews_columns = reviews_features.select_dtypes(include=['float64','int']).columns\n",
    "reviews_features['helpfulness'] = reviews_features.apply(helpInt,axis=1)\n",
    "reviews_features['thumbstotal'] = reviews_features.apply(thumbsSum,axis=1)\n",
    "reviews_features.shape"
   ]
  },
  {
   "cell_type": "markdown",
   "metadata": {},
   "source": [
    "### filter dataset"
   ]
  },
  {
   "cell_type": "code",
   "execution_count": 5,
   "metadata": {
    "collapsed": false
   },
   "outputs": [
    {
     "data": {
      "text/plain": [
       "(9696, 49)"
      ]
     },
     "execution_count": 5,
     "metadata": {},
     "output_type": "execute_result"
    }
   ],
   "source": [
    "#reviews_features = reviews_features.sample(frac=0.5)\n",
    "reviews_features = reviews_features[np.isfinite(reviews_features.helpfulness)]\n",
    "reviews_features = reviews_features[reviews_features.thumbstotal>4]\n",
    "reviews_features.shape"
   ]
  },
  {
   "cell_type": "markdown",
   "metadata": {},
   "source": [
    "### split data and class"
   ]
  },
  {
   "cell_type": "code",
   "execution_count": 6,
   "metadata": {
    "collapsed": false
   },
   "outputs": [
    {
     "data": {
      "text/plain": [
       "(9696, 34)"
      ]
     },
     "execution_count": 6,
     "metadata": {},
     "output_type": "execute_result"
    }
   ],
   "source": [
    "# split class and features\n",
    "labels = reviews_features[\"helpfulness\"].values\n",
    "del reviews_features['helpfulness']\n",
    "features = reviews_features[list(reviews_columns)].values\n",
    "\n",
    "# clean features\n",
    "features = np.abs(features)\n",
    "features[np.isnan(features) == True] = 0\n",
    "\n",
    "features.shape"
   ]
  },
  {
   "cell_type": "markdown",
   "metadata": {},
   "source": [
    "### SVR Training Script\n",
    "#### based on https://github.com/ajschumacher/ajschumacher.github.io/blob/master/20150417-negative_r_squared/index.md"
   ]
  },
  {
   "cell_type": "code",
   "execution_count": 7,
   "metadata": {
    "collapsed": true
   },
   "outputs": [],
   "source": [
    "from sklearn.svm import SVR\n",
    "from sklearn.cross_validation import train_test_split, cross_val_score"
   ]
  },
  {
   "cell_type": "markdown",
   "metadata": {},
   "source": [
    "### define functions"
   ]
  },
  {
   "cell_type": "code",
   "execution_count": 8,
   "metadata": {
    "collapsed": false
   },
   "outputs": [],
   "source": [
    "from sklearn.metrics import make_scorer\n",
    "def simple_spearman(x,y): return spearmanr(x,y)[0]\n",
    "spearmanr_scorer = make_scorer(simple_spearman)\n",
    "\n",
    "def val_table(model, features, target, cvOpt=0):\n",
    "    feature_train, feature_test, label_train, label_test = train_test_split(features, target)\n",
    "\n",
    "    model.fit(feature_train, label_train)\n",
    "\n",
    "    columns = ['self validation', '1-fold validation']\n",
    "    if cvOpt > 0: columns.append(str(cvOpt) + '-fold cross validation ')\n",
    "    \n",
    "    score_list = []\n",
    "    score_list.append(model.score(feature_train, label_train))\n",
    "    score_list.append(model.score(feature_test,  label_test))\n",
    "    if cvOpt > 0: score_list.append(0)\n",
    "    \n",
    "    corr_df = pd.DataFrame(data={'score': np.array(score_list)}, index=columns)\n",
    "\n",
    "    pearson_list = []\n",
    "    pearson_list.append(np.corrcoef(model.predict(feature_train), label_train)[0, 1]**2)\n",
    "    pearson_list.append(np.corrcoef(model.predict(feature_test), label_test)[0, 1]**2)\n",
    "    if cvOpt > 0: pearson_list.append(0)\n",
    "    corr_df['pearson^2'] = pearson_list\n",
    "\n",
    "    spearman_list = []\n",
    "    spearman_list.append(simple_spearman(model.predict(feature_train), label_train))\n",
    "    spearman_list.append(simple_spearman(model.predict(feature_test), label_test))\n",
    "    if cvOpt > 0: \n",
    "        scores = cross_val_score(model, features, target, cv=cvOpt, scoring=spearmanr_scorer)\n",
    "        spearman_list.append(scores.mean())\n",
    "    corr_df['spearman'] = spearman_list   \n",
    "    \n",
    "    return corr_df\n",
    "\n",
    "def name_columns(features):\n",
    "    kbest_columns = []\n",
    "\n",
    "    for value in features[0]:\n",
    "        for column in reviews_columns:\n",
    "            if reviews_features[column].iloc[0] == value:\n",
    "                kbest_columns.append(column)\n",
    "            \n",
    "    return kbest_columns"
   ]
  },
  {
   "cell_type": "markdown",
   "metadata": {},
   "source": [
    "### SVR Linear"
   ]
  },
  {
   "cell_type": "code",
   "execution_count": 9,
   "metadata": {
    "collapsed": false
   },
   "outputs": [
    {
     "data": {
      "text/html": [
       "<div>\n",
       "<table border=\"1\" class=\"dataframe\">\n",
       "  <thead>\n",
       "    <tr style=\"text-align: right;\">\n",
       "      <th></th>\n",
       "      <th>score</th>\n",
       "      <th>pearson^2</th>\n",
       "      <th>spearman</th>\n",
       "    </tr>\n",
       "  </thead>\n",
       "  <tbody>\n",
       "    <tr>\n",
       "      <th>self validation</th>\n",
       "      <td>-0.063870</td>\n",
       "      <td>0.002647</td>\n",
       "      <td>0.052807</td>\n",
       "    </tr>\n",
       "    <tr>\n",
       "      <th>1-fold validation</th>\n",
       "      <td>-0.081492</td>\n",
       "      <td>0.002546</td>\n",
       "      <td>0.036138</td>\n",
       "    </tr>\n",
       "    <tr>\n",
       "      <th>10-fold cross validation</th>\n",
       "      <td>0.000000</td>\n",
       "      <td>0.000000</td>\n",
       "      <td>0.164418</td>\n",
       "    </tr>\n",
       "  </tbody>\n",
       "</table>\n",
       "</div>"
      ],
      "text/plain": [
       "                              score  pearson^2  spearman\n",
       "self validation           -0.063870   0.002647  0.052807\n",
       "1-fold validation         -0.081492   0.002546  0.036138\n",
       "10-fold cross validation   0.000000   0.000000  0.164418"
      ]
     },
     "execution_count": 9,
     "metadata": {},
     "output_type": "execute_result"
    }
   ],
   "source": [
    "from sklearn.svm import LinearSVR\n",
    "from sklearn.feature_selection import SelectKBest, f_regression\n",
    "\n",
    "kbest_features = SelectKBest(f_regression, k=15).fit_transform(features, labels)\n",
    "\n",
    "model = LinearSVR(epsilon=0.01)\n",
    "val_table(model, kbest_features, labels, 10)"
   ]
  },
  {
   "cell_type": "markdown",
   "metadata": {},
   "source": [
    "### SVR RBF with Obviuos"
   ]
  },
  {
   "cell_type": "code",
   "execution_count": 10,
   "metadata": {
    "collapsed": false
   },
   "outputs": [
    {
     "data": {
      "text/html": [
       "<div>\n",
       "<table border=\"1\" class=\"dataframe\">\n",
       "  <thead>\n",
       "    <tr style=\"text-align: right;\">\n",
       "      <th></th>\n",
       "      <th>score</th>\n",
       "      <th>pearson^2</th>\n",
       "      <th>spearman</th>\n",
       "    </tr>\n",
       "  </thead>\n",
       "  <tbody>\n",
       "    <tr>\n",
       "      <th>self validation</th>\n",
       "      <td>0.998705</td>\n",
       "      <td>0.999141</td>\n",
       "      <td>0.995415</td>\n",
       "    </tr>\n",
       "    <tr>\n",
       "      <th>1-fold validation</th>\n",
       "      <td>0.976047</td>\n",
       "      <td>0.976917</td>\n",
       "      <td>0.982348</td>\n",
       "    </tr>\n",
       "    <tr>\n",
       "      <th>10-fold cross validation</th>\n",
       "      <td>0.000000</td>\n",
       "      <td>0.000000</td>\n",
       "      <td>0.983750</td>\n",
       "    </tr>\n",
       "  </tbody>\n",
       "</table>\n",
       "</div>"
      ],
      "text/plain": [
       "                              score  pearson^2  spearman\n",
       "self validation            0.998705   0.999141  0.995415\n",
       "1-fold validation          0.976047   0.976917  0.982348\n",
       "10-fold cross validation   0.000000   0.000000  0.983750"
      ]
     },
     "execution_count": 10,
     "metadata": {},
     "output_type": "execute_result"
    }
   ],
   "source": [
    "obvious_features = reviews_features[list(['thumbsup','thumbsdown'])].values\n",
    "\n",
    "model = SVR(C=1.0, epsilon=0.01, kernel='rbf')\n",
    "\n",
    "val_table(model, obvious_features, labels, 10)"
   ]
  },
  {
   "cell_type": "markdown",
   "metadata": {},
   "source": [
    "### SVR RBF with Manual Selection"
   ]
  },
  {
   "cell_type": "code",
   "execution_count": 11,
   "metadata": {
    "collapsed": false
   },
   "outputs": [
    {
     "data": {
      "text/html": [
       "<div>\n",
       "<table border=\"1\" class=\"dataframe\">\n",
       "  <thead>\n",
       "    <tr style=\"text-align: right;\">\n",
       "      <th></th>\n",
       "      <th>score</th>\n",
       "      <th>pearson^2</th>\n",
       "      <th>spearman</th>\n",
       "    </tr>\n",
       "  </thead>\n",
       "  <tbody>\n",
       "    <tr>\n",
       "      <th>self validation</th>\n",
       "      <td>0.200808</td>\n",
       "      <td>0.225494</td>\n",
       "      <td>0.449868</td>\n",
       "    </tr>\n",
       "    <tr>\n",
       "      <th>1-fold validation</th>\n",
       "      <td>-0.060397</td>\n",
       "      <td>0.054587</td>\n",
       "      <td>0.179750</td>\n",
       "    </tr>\n",
       "    <tr>\n",
       "      <th>10-fold cross validation</th>\n",
       "      <td>0.000000</td>\n",
       "      <td>0.000000</td>\n",
       "      <td>0.204524</td>\n",
       "    </tr>\n",
       "  </tbody>\n",
       "</table>\n",
       "</div>"
      ],
      "text/plain": [
       "                              score  pearson^2  spearman\n",
       "self validation            0.200808   0.225494  0.449868\n",
       "1-fold validation         -0.060397   0.054587  0.179750\n",
       "10-fold cross validation   0.000000   0.000000  0.204524"
      ]
     },
     "execution_count": 11,
     "metadata": {},
     "output_type": "execute_result"
    }
   ],
   "source": [
    "manual_features = reviews_features[list(['word_count','stars'])].values\n",
    "\n",
    "model = SVR(C=1.0, epsilon=0.01, kernel='rbf')\n",
    "\n",
    "val_table(model, manual_features, labels, 10)"
   ]
  },
  {
   "cell_type": "markdown",
   "metadata": {},
   "source": [
    "### SVR RBF with 5 KBest"
   ]
  },
  {
   "cell_type": "code",
   "execution_count": 12,
   "metadata": {
    "collapsed": false
   },
   "outputs": [
    {
     "data": {
      "text/plain": [
       "['syllable_count',\n",
       " 'pronIncidence',\n",
       " 'ConnectiveAdditiveIncidence',\n",
       " 'ConnectiveLogicIncidence',\n",
       " 'LogicIfIncidence',\n",
       " 'LogicAndIncidence',\n",
       " 'LogicOperatorsIncidence',\n",
       " 'percentile_25_word_length',\n",
       " 'LogicNegationIncidence',\n",
       " 'ConnectiveTemporalIncidence',\n",
       " 'ConnectiveCasualIncidence',\n",
       " 'sentence_count',\n",
       " 'LexicalDiversty']"
      ]
     },
     "execution_count": 12,
     "metadata": {},
     "output_type": "execute_result"
    }
   ],
   "source": [
    "from sklearn.feature_selection import SelectKBest, f_regression\n",
    "\n",
    "kbest_features = SelectKBest(f_regression, k=5).fit_transform(features, labels)\n",
    "\n",
    "model = SVR(C=1.0, epsilon=0.001, kernel='rbf')\n",
    "\n",
    "name_columns(kbest_features)"
   ]
  },
  {
   "cell_type": "code",
   "execution_count": 13,
   "metadata": {
    "collapsed": false
   },
   "outputs": [
    {
     "data": {
      "text/html": [
       "<div>\n",
       "<table border=\"1\" class=\"dataframe\">\n",
       "  <thead>\n",
       "    <tr style=\"text-align: right;\">\n",
       "      <th></th>\n",
       "      <th>score</th>\n",
       "      <th>pearson^2</th>\n",
       "      <th>spearman</th>\n",
       "    </tr>\n",
       "  </thead>\n",
       "  <tbody>\n",
       "    <tr>\n",
       "      <th>self validation</th>\n",
       "      <td>0.866830</td>\n",
       "      <td>0.868405</td>\n",
       "      <td>0.948715</td>\n",
       "    </tr>\n",
       "    <tr>\n",
       "      <th>1-fold validation</th>\n",
       "      <td>-0.161551</td>\n",
       "      <td>0.031984</td>\n",
       "      <td>0.149779</td>\n",
       "    </tr>\n",
       "    <tr>\n",
       "      <th>10-fold cross validation</th>\n",
       "      <td>0.000000</td>\n",
       "      <td>0.000000</td>\n",
       "      <td>0.133382</td>\n",
       "    </tr>\n",
       "  </tbody>\n",
       "</table>\n",
       "</div>"
      ],
      "text/plain": [
       "                              score  pearson^2  spearman\n",
       "self validation            0.866830   0.868405  0.948715\n",
       "1-fold validation         -0.161551   0.031984  0.149779\n",
       "10-fold cross validation   0.000000   0.000000  0.133382"
      ]
     },
     "execution_count": 13,
     "metadata": {},
     "output_type": "execute_result"
    }
   ],
   "source": [
    "val_table(model, kbest_features, labels, 10)"
   ]
  },
  {
   "cell_type": "markdown",
   "metadata": {},
   "source": [
    "### SVR RBF with 10 KBest"
   ]
  },
  {
   "cell_type": "code",
   "execution_count": 14,
   "metadata": {
    "collapsed": false
   },
   "outputs": [
    {
     "data": {
      "text/html": [
       "<div>\n",
       "<table border=\"1\" class=\"dataframe\">\n",
       "  <thead>\n",
       "    <tr style=\"text-align: right;\">\n",
       "      <th></th>\n",
       "      <th>score</th>\n",
       "      <th>pearson^2</th>\n",
       "      <th>spearman</th>\n",
       "    </tr>\n",
       "  </thead>\n",
       "  <tbody>\n",
       "    <tr>\n",
       "      <th>self validation</th>\n",
       "      <td>0.980890</td>\n",
       "      <td>0.980892</td>\n",
       "      <td>0.988075</td>\n",
       "    </tr>\n",
       "    <tr>\n",
       "      <th>1-fold validation</th>\n",
       "      <td>0.035452</td>\n",
       "      <td>0.038194</td>\n",
       "      <td>0.111033</td>\n",
       "    </tr>\n",
       "    <tr>\n",
       "      <th>10-fold cross validation</th>\n",
       "      <td>0.000000</td>\n",
       "      <td>0.000000</td>\n",
       "      <td>0.080670</td>\n",
       "    </tr>\n",
       "  </tbody>\n",
       "</table>\n",
       "</div>"
      ],
      "text/plain": [
       "                              score  pearson^2  spearman\n",
       "self validation            0.980890   0.980892  0.988075\n",
       "1-fold validation          0.035452   0.038194  0.111033\n",
       "10-fold cross validation   0.000000   0.000000  0.080670"
      ]
     },
     "execution_count": 14,
     "metadata": {},
     "output_type": "execute_result"
    }
   ],
   "source": [
    "from sklearn.feature_selection import SelectKBest, f_regression\n",
    "\n",
    "kbest_features = SelectKBest(f_regression, k=10).fit_transform(features, labels)\n",
    "\n",
    "model = SVR(C=1.0, epsilon=0.001, kernel='rbf')\n",
    "\n",
    "val_table(model, kbest_features, labels, 10)"
   ]
  },
  {
   "cell_type": "markdown",
   "metadata": {},
   "source": [
    "### SVR RBF with Percentile"
   ]
  },
  {
   "cell_type": "code",
   "execution_count": 15,
   "metadata": {
    "collapsed": false
   },
   "outputs": [
    {
     "data": {
      "text/plain": [
       "(9696, 4)"
      ]
     },
     "execution_count": 15,
     "metadata": {},
     "output_type": "execute_result"
    }
   ],
   "source": [
    "from sklearn.feature_selection import SelectPercentile\n",
    "\n",
    "percentile_features = SelectPercentile(f_regression).fit_transform(features, labels)\n",
    "\n",
    "percentile_features.shape"
   ]
  },
  {
   "cell_type": "code",
   "execution_count": 16,
   "metadata": {
    "collapsed": false
   },
   "outputs": [
    {
     "data": {
      "text/html": [
       "<div>\n",
       "<table border=\"1\" class=\"dataframe\">\n",
       "  <thead>\n",
       "    <tr style=\"text-align: right;\">\n",
       "      <th></th>\n",
       "      <th>score</th>\n",
       "      <th>pearson^2</th>\n",
       "      <th>spearman</th>\n",
       "    </tr>\n",
       "  </thead>\n",
       "  <tbody>\n",
       "    <tr>\n",
       "      <th>self validation</th>\n",
       "      <td>0.860870</td>\n",
       "      <td>0.862380</td>\n",
       "      <td>0.942507</td>\n",
       "    </tr>\n",
       "    <tr>\n",
       "      <th>1-fold validation</th>\n",
       "      <td>-0.103548</td>\n",
       "      <td>0.041579</td>\n",
       "      <td>0.159240</td>\n",
       "    </tr>\n",
       "    <tr>\n",
       "      <th>10-fold cross validation</th>\n",
       "      <td>0.000000</td>\n",
       "      <td>0.000000</td>\n",
       "      <td>0.126978</td>\n",
       "    </tr>\n",
       "  </tbody>\n",
       "</table>\n",
       "</div>"
      ],
      "text/plain": [
       "                              score  pearson^2  spearman\n",
       "self validation            0.860870   0.862380  0.942507\n",
       "1-fold validation         -0.103548   0.041579  0.159240\n",
       "10-fold cross validation   0.000000   0.000000  0.126978"
      ]
     },
     "execution_count": 16,
     "metadata": {},
     "output_type": "execute_result"
    }
   ],
   "source": [
    "model = SVR(C=1.0, epsilon=0.01, kernel='rbf')\n",
    "\n",
    "val_table(model, percentile_features, labels, 10)"
   ]
  },
  {
   "cell_type": "markdown",
   "metadata": {},
   "source": [
    "### recursive feature elimination and cross-validated"
   ]
  },
  {
   "cell_type": "code",
   "execution_count": 17,
   "metadata": {
    "collapsed": false
   },
   "outputs": [
    {
     "data": {
      "text/plain": [
       "['ConnectiveAdditiveIncidence',\n",
       " 'ConnectiveLogicIncidence',\n",
       " 'LogicIfIncidence',\n",
       " 'LogicAndIncidence',\n",
       " 'LogicOperatorsIncidence',\n",
       " 'percentile_25_word_length',\n",
       " 'LogicNegationIncidence',\n",
       " 'ConnectiveTemporalIncidence',\n",
       " 'ConnectiveCasualIncidence']"
      ]
     },
     "execution_count": 17,
     "metadata": {},
     "output_type": "execute_result"
    }
   ],
   "source": [
    "from sklearn.linear_model import LinearRegression\n",
    "from sklearn.feature_selection import RFECV\n",
    "\n",
    "model = LinearRegression()\n",
    "selector = RFECV(model, step=1, cv=10)\n",
    "rfecv_features = selector.fit_transform(features, labels)\n",
    "\n",
    "name_columns(rfecv_features)"
   ]
  },
  {
   "cell_type": "code",
   "execution_count": 18,
   "metadata": {
    "collapsed": false
   },
   "outputs": [
    {
     "data": {
      "text/html": [
       "<div>\n",
       "<table border=\"1\" class=\"dataframe\">\n",
       "  <thead>\n",
       "    <tr style=\"text-align: right;\">\n",
       "      <th></th>\n",
       "      <th>score</th>\n",
       "      <th>pearson^2</th>\n",
       "      <th>spearman</th>\n",
       "    </tr>\n",
       "  </thead>\n",
       "  <tbody>\n",
       "    <tr>\n",
       "      <th>self validation</th>\n",
       "      <td>0.000718</td>\n",
       "      <td>0.000718</td>\n",
       "      <td>0.113057</td>\n",
       "    </tr>\n",
       "    <tr>\n",
       "      <th>1-fold validation</th>\n",
       "      <td>0.001368</td>\n",
       "      <td>0.001978</td>\n",
       "      <td>0.126914</td>\n",
       "    </tr>\n",
       "    <tr>\n",
       "      <th>10-fold cross validation</th>\n",
       "      <td>0.000000</td>\n",
       "      <td>0.000000</td>\n",
       "      <td>0.114982</td>\n",
       "    </tr>\n",
       "  </tbody>\n",
       "</table>\n",
       "</div>"
      ],
      "text/plain": [
       "                              score  pearson^2  spearman\n",
       "self validation            0.000718   0.000718  0.113057\n",
       "1-fold validation          0.001368   0.001978  0.126914\n",
       "10-fold cross validation   0.000000   0.000000  0.114982"
      ]
     },
     "execution_count": 18,
     "metadata": {},
     "output_type": "execute_result"
    }
   ],
   "source": [
    "val_table(model, rfecv_features, labels, 10)"
   ]
  },
  {
   "cell_type": "markdown",
   "metadata": {},
   "source": [
    "### Linear Regression"
   ]
  },
  {
   "cell_type": "code",
   "execution_count": 19,
   "metadata": {
    "collapsed": false
   },
   "outputs": [
    {
     "data": {
      "text/html": [
       "<div>\n",
       "<table border=\"1\" class=\"dataframe\">\n",
       "  <thead>\n",
       "    <tr style=\"text-align: right;\">\n",
       "      <th></th>\n",
       "      <th>score</th>\n",
       "      <th>pearson^2</th>\n",
       "      <th>spearman</th>\n",
       "    </tr>\n",
       "  </thead>\n",
       "  <tbody>\n",
       "    <tr>\n",
       "      <th>self validation</th>\n",
       "      <td>0.085369</td>\n",
       "      <td>0.085369</td>\n",
       "      <td>0.266209</td>\n",
       "    </tr>\n",
       "    <tr>\n",
       "      <th>1-fold validation</th>\n",
       "      <td>0.096020</td>\n",
       "      <td>0.096496</td>\n",
       "      <td>0.291289</td>\n",
       "    </tr>\n",
       "    <tr>\n",
       "      <th>10-fold cross validation</th>\n",
       "      <td>0.000000</td>\n",
       "      <td>0.000000</td>\n",
       "      <td>0.263472</td>\n",
       "    </tr>\n",
       "  </tbody>\n",
       "</table>\n",
       "</div>"
      ],
      "text/plain": [
       "                              score  pearson^2  spearman\n",
       "self validation            0.085369   0.085369  0.266209\n",
       "1-fold validation          0.096020   0.096496  0.291289\n",
       "10-fold cross validation   0.000000   0.000000  0.263472"
      ]
     },
     "execution_count": 19,
     "metadata": {},
     "output_type": "execute_result"
    }
   ],
   "source": [
    "from sklearn.linear_model import LinearRegression\n",
    "\n",
    "model = LinearRegression()\n",
    "kbest_features = SelectKBest(f_regression, k=10).fit_transform(features, labels)\n",
    "\n",
    "val_table(model, kbest_features, labels, 10)"
   ]
  }
 ],
 "metadata": {
  "kernelspec": {
   "display_name": "Python 2",
   "language": "python",
   "name": "python2"
  },
  "language_info": {
   "codemirror_mode": {
    "name": "ipython",
    "version": 2
   },
   "file_extension": ".py",
   "mimetype": "text/x-python",
   "name": "python",
   "nbconvert_exporter": "python",
   "pygments_lexer": "ipython2",
   "version": "2.7.6"
  }
 },
 "nbformat": 4,
 "nbformat_minor": 0
}
