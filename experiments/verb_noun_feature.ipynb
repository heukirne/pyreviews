{
 "cells": [
  {
   "cell_type": "code",
   "execution_count": 8,
   "metadata": {
    "collapsed": true
   },
   "outputs": [],
   "source": [
    "import pandas as pd\n",
    "import numpy as np\n",
    "\n",
    "def helpf(x): \n",
    "    try:\n",
    "        return float ( float(x['thumbsup']) / (float(x['thumbsup']) + float(x['thumbsdown'])) )\n",
    "    except:\n",
    "        return 0\n",
    "    \n",
    "def thumbssum(x): \n",
    "    try:\n",
    "        return int(x['thumbsup']) + int(x['thumbsdown']) \n",
    "    except:\n",
    "        return 0\n",
    "    \n",
    "def fillnanup(x): \n",
    "    try:\n",
    "        return float(x['thumbsup'])\n",
    "    except:\n",
    "        return 0\n",
    "    \n",
    "def fillnandown(x): \n",
    "    try:\n",
    "        return float(x['thumbsdown'])\n",
    "    except:\n",
    "        return 0\n",
    "    \n",
    "def fillnanstarts(x): \n",
    "    try:\n",
    "        return float(x['stars'])\n",
    "    except:\n",
    "        return 0"
   ]
  },
  {
   "cell_type": "code",
   "execution_count": 9,
   "metadata": {
    "collapsed": false
   },
   "outputs": [
    {
     "data": {
      "text/plain": [
       "(9633, 49)"
      ]
     },
     "execution_count": 9,
     "metadata": {},
     "output_type": "execute_result"
    }
   ],
   "source": [
    "reviews_features = pd.read_csv('reviews.csv.gz', compression='gzip')\n",
    "reviews_features['thumbsup'] = reviews_features.apply(fillnanup,axis=1)\n",
    "reviews_features['thumbsdown'] = reviews_features.apply(fillnandown,axis=1)\n",
    "reviews_features['helpfulness'] = reviews_features.apply(helpf,axis=1)\n",
    "reviews_features['thumbstotal'] = reviews_features.apply(thumbssum,axis=1)\n",
    "reviews_features['stars'] = reviews_features.apply(fillnanstarts,axis=1)\n",
    "reviews_features = reviews_features[reviews_features.thumbstotal>4]\n",
    "reviews_features = reviews_features[reviews_features.word_count>4]\n",
    "reviews_features.shape"
   ]
  },
  {
   "cell_type": "code",
   "execution_count": 5,
   "metadata": {
    "collapsed": false
   },
   "outputs": [
    {
     "data": {
      "text/plain": [
       "123.223848733726"
      ]
     },
     "execution_count": 5,
     "metadata": {},
     "output_type": "execute_result"
    }
   ],
   "source": [
    "def nounIncidence(x): \n",
    "    try:\n",
    "        return float(x['contentIncidence']) - float(x['adjectiveIncidence']) - float(x['verbIncidence']) - float(x['pronIncidence']) - float(x['advIncidence'])\n",
    "    except:\n",
    "        return 0\n",
    "    \n",
    "reviews_features['nounIncidence'] = reviews_features.apply(nounIncidence,axis=1)\n",
    "reviews_features.nounIncidence.mean()"
   ]
  },
  {
   "cell_type": "code",
   "execution_count": 10,
   "metadata": {
    "collapsed": false
   },
   "outputs": [
    {
     "data": {
      "text/plain": [
       "0.88747482603364503"
      ]
     },
     "execution_count": 10,
     "metadata": {},
     "output_type": "execute_result"
    }
   ],
   "source": [
    "def verbNounRatio(x): \n",
    "    try:\n",
    "        return float(x['verbIncidence']) / float(x['nounIncidence'])\n",
    "    except:\n",
    "        return 0\n",
    "    \n",
    "reviews_features['verbNounRatio'] = reviews_features.apply(verbNounRatio,axis=1)\n",
    "reviews_features.verbNounRatio.mean()"
   ]
  },
  {
   "cell_type": "code",
   "execution_count": 12,
   "metadata": {
    "collapsed": false
   },
   "outputs": [
    {
     "name": "stderr",
     "output_type": "stream",
     "text": [
      "/home/henrique/.local/lib/python2.7/site-packages/ipykernel/__main__.py:8: UserWarning: Boolean Series key will be reindexed to match DataFrame index.\n"
     ]
    },
    {
     "data": {
      "text/plain": [
       "(7574, 50)"
      ]
     },
     "execution_count": 12,
     "metadata": {},
     "output_type": "execute_result"
    }
   ],
   "source": [
    "list_search_categories = [ 'Celular e Smartphone' , 'TV', 'Camera Digital', 'Maquina de Lavar Roupas'\n",
    "                          , 'Geladeira / Refrigerador', 'Ar Condicionado', 'Tablet', 'Notebook'\n",
    "                          ,'Console de Videogame', 'Impressora', 'Fogao', 'Microondas'\n",
    "                          , 'Aparelho de Telefone', 'MP3 Player / MP4 Player', 'Aquecedor de Ambiente'\n",
    "                          , 'Forno Eletrico']\n",
    "reviews_features = reviews_features[reviews_features.category.isin(list_search_categories)]\n",
    "mixed_reviews = reviews_features[reviews_features.stars > 1]\n",
    "mixed_reviews = mixed_reviews[reviews_features.stars < 5]\n",
    "favorable_reviews = reviews_features[reviews_features.stars == 5]\n",
    "unfavorable_reviews = reviews_features[reviews_features.stars == 1]\n",
    "reviews_features.shape"
   ]
  },
  {
   "cell_type": "code",
   "execution_count": 15,
   "metadata": {
    "collapsed": true
   },
   "outputs": [],
   "source": [
    "from scipy.stats import spearmanr, f_oneway\n",
    "from sklearn.svm import SVR, LinearSVR\n",
    "from sklearn.cross_validation import cross_val_score\n",
    "from sklearn.metrics import make_scorer\n",
    "\n",
    "def simple_spearman(x,y): return np.abs(spearmanr(x,y)[0])\n",
    "spearmanr_scorer = make_scorer(simple_spearman)\n",
    "model = LinearSVR(epsilon=0.01)"
   ]
  },
  {
   "cell_type": "code",
   "execution_count": 16,
   "metadata": {
    "collapsed": false
   },
   "outputs": [
    {
     "name": "stdout",
     "output_type": "stream",
     "text": [
      "mixed_reviews\n",
      "5.38248776523e-17\n",
      "0.0966073789312\n",
      "favorable_reviews\n",
      "6.98592281355e-34\n",
      "0.068129599659\n",
      "unfavorable_reviews\n",
      "5.28441349151e-15\n",
      "0.134565961077\n"
     ]
    }
   ],
   "source": [
    "#compute mixed score\n",
    "labels = mixed_reviews[\"helpfulness\"].values\n",
    "features = mixed_reviews[list(['verbNounRatio'])].values\n",
    "features_flat = mixed_reviews['verbNounRatio'].values\n",
    "scores = cross_val_score(model, features, labels, cv=5, scoring=spearmanr_scorer)\n",
    "f_val,p_val = f_oneway(features_flat, labels)\n",
    "print 'mixed_reviews'\n",
    "print p_val\n",
    "print scores.mean()\n",
    "#compute favorable score\n",
    "labels = favorable_reviews[\"helpfulness\"].values\n",
    "features = favorable_reviews[list(['verbNounRatio'])].values\n",
    "features_flat = favorable_reviews['verbNounRatio'].values\n",
    "scores = cross_val_score(model, features, labels, cv=5, scoring=spearmanr_scorer)\n",
    "f_val,p_val = f_oneway(features_flat, labels)\n",
    "print 'favorable_reviews'\n",
    "print p_val\n",
    "print scores.mean()\n",
    "#compute unfavorable score\n",
    "labels = unfavorable_reviews[\"helpfulness\"].values\n",
    "features = unfavorable_reviews[list(['verbNounRatio'])].values\n",
    "features_flat = unfavorable_reviews['verbNounRatio'].values\n",
    "scores = cross_val_score(model, features, labels, cv=5, scoring=spearmanr_scorer)\n",
    "f_val,p_val = f_oneway(features_flat, labels)\n",
    "print 'unfavorable_reviews'\n",
    "print p_val\n",
    "print scores.mean()"
   ]
  },
  {
   "cell_type": "code",
   "execution_count": null,
   "metadata": {
    "collapsed": true
   },
   "outputs": [],
   "source": []
  }
 ],
 "metadata": {
  "kernelspec": {
   "display_name": "Python 2",
   "language": "python",
   "name": "python2"
  },
  "language_info": {
   "codemirror_mode": {
    "name": "ipython",
    "version": 2
   },
   "file_extension": ".py",
   "mimetype": "text/x-python",
   "name": "python",
   "nbconvert_exporter": "python",
   "pygments_lexer": "ipython2",
   "version": "2.7.12"
  }
 },
 "nbformat": 4,
 "nbformat_minor": 1
}
