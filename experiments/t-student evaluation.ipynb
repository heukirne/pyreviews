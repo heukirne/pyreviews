{
 "cells": [
  {
   "cell_type": "code",
   "execution_count": 2,
   "metadata": {
    "collapsed": false
   },
   "outputs": [
    {
     "data": {
      "text/plain": [
       "(7444, 49)"
      ]
     },
     "execution_count": 2,
     "metadata": {},
     "output_type": "execute_result"
    }
   ],
   "source": [
    "import pandas as pd\n",
    "import numpy as np\n",
    "from scipy.stats import ttest_ind\n",
    "from scipy.stats import ks_2samp\n",
    "from scipy.special import stdtr\n",
    "\n",
    "\n",
    "def helpFloat(x): \n",
    "    try:\n",
    "        return float ( float(x['thumbsup']) / (float(x['thumbsup']) + float(x['thumbsdown'])) )\n",
    "    except:\n",
    "        return 0\n",
    "    \n",
    "def thumbsSum(x): \n",
    "    try:\n",
    "        return int(x['thumbsup']) + int(x['thumbsdown']) \n",
    "    except:\n",
    "        return 0\n",
    "\n",
    "def sentiment(x): \n",
    "    if x['stars'] == 5:\n",
    "        return 'favorable'\n",
    "    if x['stars'] == 1:\n",
    "        return 'unfavorable'\n",
    "    else:\n",
    "        return 'mixed'\n",
    "    \n",
    "reviews_features = pd.read_csv('reviews.csv.gz', compression='gzip')\n",
    "reviews_features['helpfulness'] = reviews_features.apply(helpFloat,axis=1)\n",
    "reviews_features['thumbstotal'] = reviews_features.apply(thumbsSum,axis=1)\n",
    "reviews_features = reviews_features[reviews_features.thumbstotal>4]\n",
    "reviews_features = reviews_features[reviews_features.word_count>9]\n",
    "reviews_features = reviews_features[np.isfinite(reviews_features.helpfulness)]\n",
    "list_search_categories = [ 'Celular e Smartphone' , 'TV', 'Camera Digital', 'Maquina de Lavar Roupas'\n",
    "                          , 'Geladeira / Refrigerador', 'Ar Condicionado', 'Tablet', 'Notebook'\n",
    "                          ,'Console de Videogame', 'Impressora', 'Fogao', 'Microondas'\n",
    "                          , 'Aparelho de Telefone', 'MP3 Player / MP4 Player', 'Aquecedor de Ambiente'\n",
    "                          , 'Forno Eletrico']\n",
    "reviews_features = reviews_features[reviews_features.category.isin(list_search_categories)]\n",
    "reviews_features.shape"
   ]
  },
  {
   "cell_type": "markdown",
   "metadata": {},
   "source": [
    "## split dataset sentiment"
   ]
  },
  {
   "cell_type": "code",
   "execution_count": 10,
   "metadata": {
    "collapsed": false
   },
   "outputs": [],
   "source": [
    "mixed_reviews = reviews_features[reviews_features.stars > 1]\n",
    "mixed_reviews = mixed_reviews[reviews_features.stars < 5]\n",
    "favorable_reviews = reviews_features[reviews_features.stars == 5]\n",
    "unfavorable_reviews = reviews_features[reviews_features.stars == 1]"
   ]
  },
  {
   "cell_type": "markdown",
   "metadata": {},
   "source": [
    "## t-student test"
   ]
  },
  {
   "cell_type": "code",
   "execution_count": 11,
   "metadata": {
    "collapsed": false
   },
   "outputs": [],
   "source": [
    "def tstudent(df1, df2):\n",
    "    col =list(df1)\n",
    "    count=1\n",
    "    for i in xrange(len(col)-1): \n",
    "        try:\n",
    "            # Create sample data.\n",
    "            a = df1[col[i]].as_matrix()\n",
    "            b = df2[col[i]].as_matrix()\n",
    "            # Use scipy.stats.ttest_ind.\n",
    "            t, p = ttest_ind(a, b, equal_var=False)\n",
    "            if (p <= 0.05):\n",
    "                #print p\n",
    "                if (np.mean(a) > np.mean(b)):\n",
    "                    dife=\"scientific > non_scientific\"\n",
    "                else:\n",
    "                    dife=\"scientific < non_scientific\"\n",
    "\n",
    "                print \"%i. %s t = %f  p = %.4g  %s\" % (count, dife,  t, p, col[i])\n",
    "\n",
    "                count=count+1\n",
    "            else:\n",
    "                print \"IGUAL %s p=%f\" %(col[i],p)\n",
    "        except:\n",
    "            print \"ERROR %s \" %(col[i])"
   ]
  },
  {
   "cell_type": "markdown",
   "metadata": {},
   "source": [
    "## favorable x unfavorable"
   ]
  },
  {
   "cell_type": "code",
   "execution_count": 12,
   "metadata": {
    "collapsed": false
   },
   "outputs": [
    {
     "name": "stdout",
     "output_type": "stream",
     "text": [
      "1. scientific > non_scientific t = 6.192726  p = 9.948e-10  Unnamed: 0\n",
      "IGUAL ConnectiveAdditiveIncidence p=0.734745\n",
      "IGUAL sentence_sized_30 p=0.223197\n",
      "IGUAL redability p=0.814728\n",
      "IGUAL mean_sentence_length p=0.171871\n",
      "2. scientific < non_scientific t = -2.004392  p = 0.04542  percentile_75_sentence_length\n",
      "3. scientific > non_scientific t = 2.470721  p = 0.01367  percentile_75_word_length\n",
      "4. scientific < non_scientific t = -9.229879  p = 3.103e-19  word_count\n",
      "IGUAL ConnectiveLogicIncidence p=0.482387\n",
      "IGUAL percentile_90_word_length p=0.204028\n",
      "5. scientific > non_scientific t = 2.675829  p = 0.007563  mean_word_length\n",
      "6. scientific < non_scientific t = -9.218459  p = 3.62e-19  syllable_count\n",
      "IGUAL avg_word_per_sentence p=0.213321\n",
      "IGUAL LogicIfIncidence p=nan\n",
      "IGUAL percentile_50_sentence_length p=0.571777\n",
      "IGUAL median_sentence_length p=0.571777\n",
      "IGUAL LogicAndIncidence p=0.482387\n",
      "7. scientific < non_scientific t = -3.481081  p = 0.0005303  percentile_90_sentence_length\n",
      "IGUAL median_word_length p=0.571777\n",
      "8. scientific > non_scientific t = 6.096382  p = 1.483e-09  pronIncidence\n",
      "9. scientific < non_scientific t = -3.911329  p = 9.986e-05  LogicOperatorsIncidence\n",
      "IGUAL percentile_25_word_length p=0.691208\n",
      "10. scientific > non_scientific t = 8.283098  p = 5.425e-16  ContentDiversty\n",
      "11. scientific < non_scientific t = -7.843494  p = 1.193e-14  verbIncidence\n",
      "12. scientific < non_scientific t = -3.972121  p = 7.654e-05  functionalIncidence\n",
      "ERROR nounIncidence \n",
      "ERROR percentile_50_word_length \n",
      "ERROR percentile_25_sentence_length \n",
      "ERROR LogicOrIncidence \n",
      "13. scientific > non_scientific t = 16.390361  p = 1.777e-54  adjectiveIncidence\n",
      "14. scientific < non_scientific t = -2.416697  p = 0.01584  ConnectiveIncidence\n",
      "15. scientific > non_scientific t = 5.030748  p = 5.79e-07  contentIncidence\n",
      "16. scientific < non_scientific t = -3.943450  p = 8.763e-05  LogicNegationIncidence\n",
      "17. scientific > non_scientific t = 3.449873  p = 0.0005828  avg_syllables_per_word\n",
      "IGUAL ConnectiveTemporalIncidence p=0.207936\n",
      "18. scientific < non_scientific t = -9.223132  p = 3.918e-19  sentence_count\n",
      "IGUAL ConnectiveCasualIncidence p=0.401306\n",
      "19. scientific < non_scientific t = -3.914486  p = 9.704e-05  advIncidence\n",
      "20. scientific > non_scientific t = 10.996545  p = 2.647e-26  LexicalDiversty\n",
      "21. scientific > non_scientific t = 3.253706  p = 0.001175  adpPronRatio\n",
      "ERROR thumbsup \n",
      "ERROR thumbsdown \n",
      "22. scientific > non_scientific t = inf  p = 0  stars\n",
      "ERROR user \n",
      "ERROR category \n",
      "ERROR evaluation_date \n",
      "ERROR recommends \n",
      "IGUAL helpfulness p=0.246905\n"
     ]
    }
   ],
   "source": [
    "tstudent(favorable_reviews, unfavorable_reviews)"
   ]
  },
  {
   "cell_type": "markdown",
   "metadata": {},
   "source": [
    "## favorable x mixed"
   ]
  },
  {
   "cell_type": "code",
   "execution_count": 13,
   "metadata": {
    "collapsed": false
   },
   "outputs": [
    {
     "name": "stdout",
     "output_type": "stream",
     "text": [
      "IGUAL Unnamed: 0 p=0.507477\n",
      "IGUAL ConnectiveAdditiveIncidence p=0.400764\n",
      "1. scientific < non_scientific t = -3.690984  p = 0.0002277  sentence_sized_30\n",
      "IGUAL redability p=0.353477\n",
      "2. scientific < non_scientific t = -2.892443  p = 0.003853  mean_sentence_length\n",
      "3. scientific < non_scientific t = -3.930128  p = 8.705e-05  percentile_75_sentence_length\n",
      "IGUAL percentile_75_word_length p=0.262711\n",
      "4. scientific < non_scientific t = -14.218311  p = 1.282e-44  word_count\n",
      "IGUAL ConnectiveLogicIncidence p=0.713366\n",
      "IGUAL percentile_90_word_length p=0.591007\n",
      "5. scientific > non_scientific t = 2.630640  p = 0.008581  mean_word_length\n",
      "6. scientific < non_scientific t = -14.626015  p = 4.428e-47  syllable_count\n",
      "7. scientific < non_scientific t = -2.003444  p = 0.04524  avg_word_per_sentence\n",
      "IGUAL LogicIfIncidence p=nan\n",
      "8. scientific < non_scientific t = -2.010115  p = 0.04452  percentile_50_sentence_length\n",
      "9. scientific < non_scientific t = -2.010115  p = 0.04452  median_sentence_length\n",
      "IGUAL LogicAndIncidence p=0.697925\n",
      "10. scientific < non_scientific t = -5.483168  p = 4.567e-08  percentile_90_sentence_length\n",
      "11. scientific < non_scientific t = -2.010115  p = 0.04452  median_word_length\n",
      "12. scientific > non_scientific t = 7.953246  p = 2.861e-15  pronIncidence\n",
      "13. scientific < non_scientific t = -2.417026  p = 0.01572  LogicOperatorsIncidence\n",
      "14. scientific > non_scientific t = 3.880681  p = 0.0001067  percentile_25_word_length\n",
      "15. scientific > non_scientific t = 7.536504  p = 6.784e-14  ContentDiversty\n",
      "IGUAL verbIncidence p=0.624127\n",
      "IGUAL functionalIncidence p=0.468891\n",
      "ERROR nounIncidence \n",
      "ERROR percentile_50_word_length \n",
      "ERROR percentile_25_sentence_length \n",
      "ERROR LogicOrIncidence \n",
      "16. scientific > non_scientific t = 6.383135  p = 2.088e-10  adjectiveIncidence\n",
      "IGUAL ConnectiveIncidence p=0.382788\n",
      "IGUAL contentIncidence p=0.133936\n",
      "17. scientific < non_scientific t = -2.455183  p = 0.01415  LogicNegationIncidence\n",
      "18. scientific > non_scientific t = 2.402503  p = 0.01636  avg_syllables_per_word\n",
      "IGUAL ConnectiveTemporalIncidence p=0.185509\n",
      "19. scientific < non_scientific t = -13.314200  p = 1.479e-39  sentence_count\n",
      "IGUAL ConnectiveCasualIncidence p=0.145677\n",
      "20. scientific < non_scientific t = -3.503853  p = 0.0004666  advIncidence\n",
      "21. scientific > non_scientific t = 12.050752  p = 1.644e-32  LexicalDiversty\n",
      "22. scientific > non_scientific t = 4.006032  p = 6.367e-05  adpPronRatio\n",
      "ERROR thumbsup \n",
      "ERROR thumbsdown \n",
      "23. scientific > non_scientific t = 152.274537  p = 0  stars\n",
      "ERROR user \n",
      "ERROR category \n",
      "ERROR evaluation_date \n",
      "ERROR recommends \n",
      "24. scientific < non_scientific t = -12.945297  p = 3.801e-37  helpfulness\n"
     ]
    }
   ],
   "source": [
    "tstudent(favorable_reviews, mixed_reviews)"
   ]
  },
  {
   "cell_type": "markdown",
   "metadata": {},
   "source": [
    "## unfavorable x mixed"
   ]
  },
  {
   "cell_type": "code",
   "execution_count": 14,
   "metadata": {
    "collapsed": false
   },
   "outputs": [
    {
     "name": "stdout",
     "output_type": "stream",
     "text": [
      "1. scientific < non_scientific t = -6.231560  p = 8.977e-10  Unnamed: 0\n",
      "IGUAL ConnectiveAdditiveIncidence p=0.496898\n",
      "IGUAL sentence_sized_30 p=0.294586\n",
      "IGUAL redability p=0.858921\n",
      "IGUAL mean_sentence_length p=0.872871\n",
      "IGUAL percentile_75_sentence_length p=0.797118\n",
      "2. scientific < non_scientific t = -2.029472  p = 0.04286  percentile_75_word_length\n",
      "3. scientific > non_scientific t = 2.114147  p = 0.03492  word_count\n",
      "IGUAL ConnectiveLogicIncidence p=0.593622\n",
      "IGUAL percentile_90_word_length p=0.068819\n",
      "IGUAL mean_word_length p=0.255000\n",
      "4. scientific > non_scientific t = 2.059502  p = 0.03988  syllable_count\n",
      "IGUAL avg_word_per_sentence p=0.685544\n",
      "IGUAL LogicIfIncidence p=nan\n",
      "IGUAL percentile_50_sentence_length p=0.769062\n",
      "IGUAL median_sentence_length p=0.769062\n",
      "IGUAL LogicAndIncidence p=0.618282\n",
      "IGUAL percentile_90_sentence_length p=0.331119\n",
      "IGUAL median_word_length p=0.769062\n",
      "IGUAL pronIncidence p=0.318726\n",
      "5. scientific > non_scientific t = 2.894074  p = 0.003951  LogicOperatorsIncidence\n",
      "IGUAL percentile_25_word_length p=0.058657\n",
      "6. scientific < non_scientific t = -4.946272  p = 1.01e-06  ContentDiversty\n",
      "7. scientific > non_scientific t = 8.631821  p = 5.924e-17  verbIncidence\n",
      "8. scientific > non_scientific t = 4.073369  p = 5.282e-05  functionalIncidence\n",
      "ERROR nounIncidence \n",
      "ERROR percentile_50_word_length \n",
      "ERROR percentile_25_sentence_length \n",
      "ERROR LogicOrIncidence \n",
      "9. scientific < non_scientific t = -14.563872  p = 1.851e-41  adjectiveIncidence\n",
      "10. scientific > non_scientific t = 2.162603  p = 0.03097  ConnectiveIncidence\n",
      "11. scientific < non_scientific t = -4.771744  p = 2.313e-06  contentIncidence\n",
      "12. scientific > non_scientific t = 2.909492  p = 0.003764  LogicNegationIncidence\n",
      "13. scientific < non_scientific t = -2.249429  p = 0.02485  avg_syllables_per_word\n",
      "14. scientific < non_scientific t = -2.359825  p = 0.0186  ConnectiveTemporalIncidence\n",
      "15. scientific > non_scientific t = 3.070879  p = 0.002233  sentence_count\n",
      "IGUAL ConnectiveCasualIncidence p=0.053957\n",
      "16. scientific > non_scientific t = 2.016548  p = 0.04419  advIncidence\n",
      "17. scientific < non_scientific t = -5.125297  p = 4.116e-07  LexicalDiversty\n",
      "IGUAL adpPronRatio p=0.438260\n",
      "ERROR thumbsup \n",
      "ERROR thumbsdown \n",
      "18. scientific < non_scientific t = -255.655046  p = 0  stars\n",
      "ERROR user \n",
      "ERROR category \n",
      "ERROR evaluation_date \n",
      "ERROR recommends \n",
      "19. scientific < non_scientific t = -6.028118  p = 3.03e-09  helpfulness\n"
     ]
    }
   ],
   "source": [
    "tstudent(unfavorable_reviews, mixed_reviews)"
   ]
  },
  {
   "cell_type": "code",
   "execution_count": null,
   "metadata": {
    "collapsed": true
   },
   "outputs": [],
   "source": []
  }
 ],
 "metadata": {
  "kernelspec": {
   "display_name": "Python 2",
   "language": "python",
   "name": "python2"
  },
  "language_info": {
   "codemirror_mode": {
    "name": "ipython",
    "version": 2
   },
   "file_extension": ".py",
   "mimetype": "text/x-python",
   "name": "python",
   "nbconvert_exporter": "python",
   "pygments_lexer": "ipython2",
   "version": "2.7.6"
  }
 },
 "nbformat": 4,
 "nbformat_minor": 0
}
