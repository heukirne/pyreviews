{
 "cells": [
  {
   "cell_type": "markdown",
   "metadata": {},
   "source": [
    "# Regression Model Evaluation\n",
    "### March 2016"
   ]
  },
  {
   "cell_type": "code",
   "execution_count": 1,
   "metadata": {
    "collapsed": true
   },
   "outputs": [],
   "source": [
    "%matplotlib inline\n",
    "import pandas as pd\n",
    "import numpy as np\n",
    "import matplotlib.pyplot as plt\n",
    "from scipy.stats import spearmanr\n",
    "from sklearn.svm import SVR, LinearSVR\n",
    "from sklearn.linear_model import LinearRegression\n",
    "from sklearn.cross_validation import cross_val_score, train_test_split\n",
    "from sklearn.metrics import make_scorer\n",
    "from sklearn.feature_selection import SelectKBest, f_regression"
   ]
  },
  {
   "cell_type": "markdown",
   "metadata": {},
   "source": [
    "### define functions"
   ]
  },
  {
   "cell_type": "code",
   "execution_count": 2,
   "metadata": {
    "collapsed": true
   },
   "outputs": [],
   "source": [
    "def helpFloat(x): \n",
    "    try:\n",
    "        return float ( float(x['thumbsup']) / (float(x['thumbsup']) + float(x['thumbsdown'])) )\n",
    "    except:\n",
    "        return 0\n",
    "    \n",
    "def thumbsSum(x): \n",
    "    try:\n",
    "        return int(x['thumbsup']) + int(x['thumbsdown']) \n",
    "    except:\n",
    "        return 0\n",
    "    \n",
    "def simple_spearman(x,y): return np.abs(spearmanr(x,y)[0])\n",
    "spearmanr_scorer = make_scorer(simple_spearman)"
   ]
  },
  {
   "cell_type": "markdown",
   "metadata": {},
   "source": [
    "### load buscape reviews"
   ]
  },
  {
   "cell_type": "code",
   "execution_count": 4,
   "metadata": {
    "collapsed": false
   },
   "outputs": [
    {
     "data": {
      "text/plain": [
       "(32226, 49)"
      ]
     },
     "execution_count": 4,
     "metadata": {},
     "output_type": "execute_result"
    }
   ],
   "source": [
    "reviews_features = pd.read_csv('reviews.csv.gz', compression='gzip')\n",
    "#reviews_features = pd.read_csv('amazon-help.csv.gz', compression='gzip')\n",
    "reviews_features['helpfulness'] = reviews_features.apply(helpFloat,axis=1)\n",
    "reviews_features['thumbstotal'] = reviews_features.apply(thumbsSum,axis=1)\n",
    "reviews_features.shape"
   ]
  },
  {
   "cell_type": "markdown",
   "metadata": {},
   "source": [
    "### filter dataset"
   ]
  },
  {
   "cell_type": "code",
   "execution_count": 6,
   "metadata": {
    "collapsed": false
   },
   "outputs": [
    {
     "data": {
      "text/plain": [
       "(9451, 49)"
      ]
     },
     "execution_count": 6,
     "metadata": {},
     "output_type": "execute_result"
    }
   ],
   "source": [
    "reviews_features = reviews_features[reviews_features.thumbstotal>4]\n",
    "reviews_features = reviews_features[reviews_features.word_count>9]\n",
    "#reviews_features = reviews_features.sample(frac=0.6)\n",
    "reviews_features = reviews_features[np.isfinite(reviews_features.helpfulness)]\n",
    "reviews_features.shape"
   ]
  },
  {
   "cell_type": "markdown",
   "metadata": {},
   "source": [
    "### split data and class"
   ]
  },
  {
   "cell_type": "code",
   "execution_count": 7,
   "metadata": {
    "collapsed": false
   },
   "outputs": [
    {
     "data": {
      "text/plain": [
       "(9451, 38)"
      ]
     },
     "execution_count": 7,
     "metadata": {},
     "output_type": "execute_result"
    }
   ],
   "source": [
    "# split class and features\n",
    "labels = reviews_features[\"helpfulness\"].values\n",
    "reviews_columns = reviews_features.select_dtypes(include=['float64','int']).columns.drop('helpfulness')\n",
    "features = reviews_features[list(reviews_columns)].values\n",
    "\n",
    "# clean features\n",
    "features = np.abs(features)\n",
    "features[np.isnan(features) == True] = 0\n",
    "\n",
    "features.shape"
   ]
  },
  {
   "cell_type": "markdown",
   "metadata": {},
   "source": [
    "## 1. Run 10-fold cross validation over N kbest features"
   ]
  },
  {
   "cell_type": "code",
   "execution_count": 17,
   "metadata": {
    "collapsed": true
   },
   "outputs": [],
   "source": [
    "def cv4kBest(model, feats, labs, cvOpt, loops):\n",
    "    result_list = []\n",
    "    for i in range(14, loops+1):\n",
    "        kbest_features = SelectKBest(f_regression, k=i).fit_transform(feats, labs)\n",
    "        scores = cross_val_score(model, kbest_features, labels, cv=cvOpt, scoring=spearmanr_scorer)\n",
    "        result_list.append(scores.mean())\n",
    "\n",
    "        print str(i) + ',' + str(scores.mean())\n",
    "        \n",
    "    return result_list"
   ]
  },
  {
   "cell_type": "markdown",
   "metadata": {},
   "source": [
    "###  1.1. for  linear regression"
   ]
  },
  {
   "cell_type": "code",
   "execution_count": 15,
   "metadata": {
    "collapsed": false
   },
   "outputs": [
    {
     "name": "stdout",
     "output_type": "stream",
     "text": [
      "1,0.250789417639\n",
      "2,0.279124022854\n",
      "3,0.276783639417\n",
      "4,0.245064686773\n",
      "5,0.243251890431\n",
      "6,0.242389890957\n",
      "7,0.237559707384\n",
      "8,0.243548228148\n",
      "9,0.241763380781\n",
      "10,0.251131167361\n",
      "11,0.250925651578\n",
      "12,0.253330686411\n",
      "13,0.251657397433\n",
      "14,0.250884522496\n",
      "15,0.251290812344\n",
      "16,0.248982848437\n",
      "17,0.248479884088\n",
      "18,0.249127114916\n",
      "19,0.24914964539\n",
      "20,0.246884680263\n"
     ]
    }
   ],
   "source": [
    "linear_model = LinearRegression()\n",
    "\n",
    "spearmanr_scores_linear = cv4kBest(linear_model, features, labels, 10, 20)"
   ]
  },
  {
   "cell_type": "markdown",
   "metadata": {},
   "source": [
    "###  1.1. for svm linear regression"
   ]
  },
  {
   "cell_type": "code",
   "execution_count": 14,
   "metadata": {
    "collapsed": false
   },
   "outputs": [
    {
     "name": "stdout",
     "output_type": "stream",
     "text": [
      "1,0.250789417639\n",
      "2,0.263930531209\n",
      "3,0.245449412572\n",
      "4,0.131721003546\n",
      "5,0.214905786537\n",
      "6,0.200224304962\n",
      "7,0.188947872805\n",
      "8,0.175311686922\n",
      "9,0.133132988403\n",
      "10,0.174292176078\n",
      "11,0.192901048777\n",
      "12,0.17572936307\n",
      "13,0.183113169604\n",
      "14,0.18297918877\n",
      "15,0.206140288999\n",
      "16,0.206299791205\n",
      "17,0.184215581353\n",
      "18,0.16864970188\n",
      "19,0.192540133131\n",
      "20,0.184842647102\n"
     ]
    }
   ],
   "source": [
    "linearSVR_model = LinearSVR(epsilon=0.01)\n",
    "\n",
    "spearmanr_scores_svrLinear = cv4kBest(linearSVR_model, features, labels, 10, 20)"
   ]
  },
  {
   "cell_type": "markdown",
   "metadata": {},
   "source": [
    "###  1.2. for rbf regression"
   ]
  },
  {
   "cell_type": "code",
   "execution_count": 16,
   "metadata": {
    "collapsed": false
   },
   "outputs": [
    {
     "name": "stdout",
     "output_type": "stream",
     "text": [
      "1,0.24793394135\n",
      "2,0.18092968051\n",
      "3,0.135473689789\n",
      "4,0.106537195503\n",
      "5,0.109620389192\n",
      "6,0.113410813569\n",
      "7,0.0806673415542\n",
      "8,0.0814913285225\n",
      "9,0.0573649770001\n",
      "10,0.0466235215971\n",
      "11,0.0490897451949\n",
      "12,0.0664417009683\n",
      "13,0.0622295658347\n",
      "14,0.0662270568864\n",
      "15,nan\n",
      "16,nan\n",
      "17,nan\n",
      "18,nan\n",
      "19,nan\n",
      "20,nan\n"
     ]
    }
   ],
   "source": [
    "svr_model = SVR(C=1.0, epsilon=0.01, kernel='rbf')\n",
    "\n",
    "spearmanr_scores_svr = cv4kBest(svr_model, features, labels, 10, 20)"
   ]
  },
  {
   "cell_type": "markdown",
   "metadata": {},
   "source": [
    "### 1.3 Plot Chart"
   ]
  },
  {
   "cell_type": "code",
   "execution_count": 31,
   "metadata": {
    "collapsed": false
   },
   "outputs": [
    {
     "data": {
      "image/png": "[encoded data removed]",
      "text/plain": [
       "<matplotlib.figure.Figure at 0x113928190>"
      ]
     },
     "metadata": {},
     "output_type": "display_data"
    }
   ],
   "source": [
    "plt.figure()\n",
    "\n",
    "n_features = range(1, 21)\n",
    "\n",
    "plt.plot(n_features, spearmanr_scores_linear, 'g', label='Linear Regression')\n",
    "plt.plot(n_features, spearmanr_scores_svrLinear, 'b', label='SVR Linear')\n",
    "plt.plot(n_features, spearmanr_scores_svr, 'r', label='SVR RBF')\n",
    "plt.xlabel('N of Features')\n",
    "plt.ylabel('CV Spearmanr Scores')\n",
    "plt.legend(loc='lower left')\n",
    "plt.legend(bbox_to_anchor=(1.05, 1), loc=2, borderaxespad=0.)\n",
    "\n",
    "plt.title('Regression Model Evaluation for Buscape Reviews')\n",
    "plt.show()"
   ]
  },
  {
   "cell_type": "code",
   "execution_count": 43,
   "metadata": {
    "collapsed": false
   },
   "outputs": [
    {
     "data": {
      "image/png": "[encoded data removed]",
      "text/plain": [
       "<matplotlib.figure.Figure at 0x107b6c3d0>"
      ]
     },
     "metadata": {},
     "output_type": "display_data"
    }
   ],
   "source": [
    "plt.figure()\n",
    "\n",
    "n_features = range(1, 16)\n",
    "\n",
    "plt.plot(n_features, spearmanr_scores_linear, 'g', label='Linear Regression')\n",
    "plt.plot(n_features, spearmanr_scores_svrLinear, 'b', label='SVR Linear')\n",
    "plt.plot(n_features, spearmanr_scores_svr, 'r', label='SVR RBF')\n",
    "plt.xlabel('N of Features')\n",
    "plt.ylabel('CV Spearmanr Scores')\n",
    "plt.legend(bbox_to_anchor=(1.05, 1), loc=2, borderaxespad=0.)\n",
    "\n",
    "plt.title('Regression Model Evaluation for Amazon Reviews')\n",
    "plt.show()"
   ]
  },
  {
   "cell_type": "code",
   "execution_count": null,
   "metadata": {
    "collapsed": true
   },
   "outputs": [],
   "source": []
  }
 ],
 "metadata": {
  "kernelspec": {
   "display_name": "Python 2",
   "language": "python",
   "name": "python2"
  },
  "language_info": {
   "codemirror_mode": {
    "name": "ipython",
    "version": 2
   },
   "file_extension": ".py",
   "mimetype": "text/x-python",
   "name": "python",
   "nbconvert_exporter": "python",
   "pygments_lexer": "ipython2",
   "version": "2.7.10"
  }
 },
 "nbformat": 4,
 "nbformat_minor": 0
}
