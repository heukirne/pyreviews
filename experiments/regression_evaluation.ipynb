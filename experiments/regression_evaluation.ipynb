{
 "cells": [
  {
   "cell_type": "markdown",
   "metadata": {},
   "source": [
    "# Regression Model Evaluation\n",
    "### March 2016"
   ]
  },
  {
   "cell_type": "code",
   "execution_count": 9,
   "metadata": {
    "collapsed": true
   },
   "outputs": [],
   "source": [
    "%matplotlib inline\n",
    "import pandas as pd\n",
    "import numpy as np\n",
    "import matplotlib.pyplot as plt\n",
    "from scipy.stats import spearmanr\n",
    "from sklearn.svm import SVR, LinearSVR\n",
    "from sklearn.cross_validation import cross_val_score, train_test_split\n",
    "from sklearn.metrics import make_scorer\n",
    "from sklearn.feature_selection import SelectKBest, f_regression"
   ]
  },
  {
   "cell_type": "markdown",
   "metadata": {},
   "source": [
    "### define functions"
   ]
  },
  {
   "cell_type": "code",
   "execution_count": 18,
   "metadata": {
    "collapsed": true
   },
   "outputs": [],
   "source": [
    "def helpFloat(x): \n",
    "    try:\n",
    "        return float ( float(x['thumbsup']) / (float(x['thumbsup']) + float(x['thumbsdown'])) )\n",
    "    except:\n",
    "        return 0\n",
    "\n",
    "def simple_spearman(x,y): return np.abs(spearmanr(x,y)[0])\n",
    "spearmanr_scorer = make_scorer(simple_spearman)"
   ]
  },
  {
   "cell_type": "markdown",
   "metadata": {},
   "source": [
    "### load buscape reviews"
   ]
  },
  {
   "cell_type": "code",
   "execution_count": 4,
   "metadata": {
    "collapsed": false
   },
   "outputs": [
    {
     "data": {
      "text/plain": [
       "(35001, 45)"
      ]
     },
     "execution_count": 4,
     "metadata": {},
     "output_type": "execute_result"
    }
   ],
   "source": [
    "reviews_features = pd.read_csv('reviews.csv.gz', compression='gzip')\n",
    "#reviews_features = pd.read_csv('amazon-help.csv.gz', compression='gzip')\n",
    "reviews_columns = reviews_features.select_dtypes(include=['float64','int']).columns\n",
    "reviews_features['helpfulness'] = reviews_features.apply(helpFloat,axis=1)\n",
    "reviews_features.shape"
   ]
  },
  {
   "cell_type": "markdown",
   "metadata": {},
   "source": [
    "### select a category"
   ]
  },
  {
   "cell_type": "code",
   "execution_count": 6,
   "metadata": {
    "collapsed": false
   },
   "outputs": [
    {
     "data": {
      "text/plain": [
       "(30954, 45)"
      ]
     },
     "execution_count": 6,
     "metadata": {},
     "output_type": "execute_result"
    }
   ],
   "source": [
    "reviews_features = reviews_features[reviews_features.category == 'TV']\n",
    "reviews_features = reviews_features[reviews_features.helpfulness != 0]\n",
    "reviews_features.shape"
   ]
  },
  {
   "cell_type": "markdown",
   "metadata": {},
   "source": [
    "### split data and class"
   ]
  },
  {
   "cell_type": "code",
   "execution_count": 7,
   "metadata": {
    "collapsed": false
   },
   "outputs": [
    {
     "data": {
      "text/plain": [
       "(30954, 37)"
      ]
     },
     "execution_count": 7,
     "metadata": {},
     "output_type": "execute_result"
    }
   ],
   "source": [
    "# split class and features\n",
    "labels = reviews_features[\"helpfulness\"].values\n",
    "del reviews_features['helpfulness']\n",
    "features = reviews_features[list(reviews_columns)].values\n",
    "\n",
    "# clean features\n",
    "features = np.abs(features)\n",
    "features[np.isnan(features) == True] = 0\n",
    "\n",
    "features.shape"
   ]
  },
  {
   "cell_type": "markdown",
   "metadata": {},
   "source": [
    "### decrease dataset size"
   ]
  },
  {
   "cell_type": "code",
   "execution_count": 12,
   "metadata": {
    "collapsed": false
   },
   "outputs": [
    {
     "data": {
      "text/plain": [
       "(7739, 37)"
      ]
     },
     "execution_count": 12,
     "metadata": {},
     "output_type": "execute_result"
    }
   ],
   "source": [
    "#feature_train, feature_test, label_train, label_test = train_test_split(features, labels)\n",
    "#features = feature_test\n",
    "#labels = label_test\n",
    "features.shape"
   ]
  },
  {
   "cell_type": "markdown",
   "metadata": {},
   "source": [
    "## 1. Run 10-fold cross validation over N kbest features"
   ]
  },
  {
   "cell_type": "markdown",
   "metadata": {},
   "source": [
    "###  1.1. for linear regression"
   ]
  },
  {
   "cell_type": "code",
   "execution_count": 19,
   "metadata": {
    "collapsed": false
   },
   "outputs": [
    {
     "name": "stdout",
     "output_type": "stream",
     "text": [
      "1\n",
      "2\n"
     ]
    }
   ],
   "source": [
    "linear_model = LinearSVR(epsilon=0.01)\n",
    "\n",
    "n_features_linear = []\n",
    "spearmanr_scores_linear = []\n",
    "\n",
    "for i in range(1, 3):\n",
    "    n_features_linear.append(i)\n",
    "    \n",
    "    kbest_features = SelectKBest(f_regression, k=i).fit_transform(features, labels)\n",
    "    scores = cross_val_score(linear_model, kbest_features, labels, cv=10, scoring=spearmanr_scorer)\n",
    "    spearmanr_scores_linear.append(scores.mean())\n",
    "    \n",
    "    print i"
   ]
  },
  {
   "cell_type": "markdown",
   "metadata": {},
   "source": [
    "###  1.2. for rbf regression"
   ]
  },
  {
   "cell_type": "code",
   "execution_count": 14,
   "metadata": {
    "collapsed": false
   },
   "outputs": [
    {
     "name": "stdout",
     "output_type": "stream",
     "text": [
      "1\n",
      "2\n"
     ]
    }
   ],
   "source": [
    "svr_model = SVR(C=1.0, epsilon=0.01, kernel='rbf')\n",
    "\n",
    "n_features_svr = []\n",
    "spearmanr_scores_svr = []\n",
    "\n",
    "for i in range(1, 3):\n",
    "    n_features_svr.append(i)\n",
    "    \n",
    "    kbest_features = SelectKBest(f_regression, k=i).fit_transform(features, labels)\n",
    "    scores = cross_val_score(svr_model, kbest_features, labels, cv=10, scoring=spearmanr_scorer)\n",
    "    spearmanr_scores_svr.append(scores.mean())\n",
    "    \n",
    "    print i"
   ]
  },
  {
   "cell_type": "markdown",
   "metadata": {},
   "source": [
    "### 1.3 Plot Chart"
   ]
  },
  {
   "cell_type": "code",
   "execution_count": 9,
   "metadata": {
    "collapsed": false
   },
   "outputs": [
    {
     "data": {
      "image/png": "[encoded data removed]",
      "text/plain": [
       "<matplotlib.figure.Figure at 0xae5cd1ec>"
      ]
     },
     "metadata": {},
     "output_type": "display_data"
    }
   ],
   "source": [
    "plt.figure()\n",
    "\n",
    "plt.plot(n_features_linear, spearmanr_scores_linear, 'b', label='Linear Regression')\n",
    "plt.plot(n_features_svr, spearmanr_scores_svr, 'r', label='SVM Regression')\n",
    "plt.xlabel('N of Features')\n",
    "plt.ylabel('CV Spearmanr Scores')\n",
    "plt.legend(loc='lower right')\n",
    "\n",
    "plt.title('Regression Model Evaluation for Buscape Reviews')\n",
    "plt.show()"
   ]
  },
  {
   "cell_type": "code",
   "execution_count": 20,
   "metadata": {
    "collapsed": false
   },
   "outputs": [
    {
     "data": {
      "image/png": "[encoded data removed]",
      "text/plain": [
       "<matplotlib.figure.Figure at 0xae71b72c>"
      ]
     },
     "metadata": {},
     "output_type": "display_data"
    }
   ],
   "source": [
    "plt.figure()\n",
    "\n",
    "plt.plot(n_features_linear, spearmanr_scores_linear, 'b', label='Linear Regression')\n",
    "plt.plot(n_features_svr, spearmanr_scores_svr, 'r', label='SVM Regression')\n",
    "plt.xlabel('N of Features')\n",
    "plt.ylabel('CV Spearmanr Scores')\n",
    "plt.legend(loc='lower right')\n",
    "\n",
    "plt.title('Regression Model Evaluation for Amazon Reviews')\n",
    "plt.show()"
   ]
  }
 ],
 "metadata": {
  "kernelspec": {
   "display_name": "Python 2",
   "language": "python",
   "name": "python2"
  },
  "language_info": {
   "codemirror_mode": {
    "name": "ipython",
    "version": 2
   },
   "file_extension": ".py",
   "mimetype": "text/x-python",
   "name": "python",
   "nbconvert_exporter": "python",
   "pygments_lexer": "ipython2",
   "version": "2.7.6"
  }
 },
 "nbformat": 4,
 "nbformat_minor": 0
}
