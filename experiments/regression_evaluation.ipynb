{
 "cells": [
  {
   "cell_type": "markdown",
   "metadata": {},
   "source": [
    "# Regression Model Evaluation\n",
    "### March 2016"
   ]
  },
  {
   "cell_type": "code",
   "execution_count": 1,
   "metadata": {
    "collapsed": true
   },
   "outputs": [],
   "source": [
    "%matplotlib inline\n",
    "import pandas as pd\n",
    "import numpy as np\n",
    "import matplotlib.pyplot as plt\n",
    "from scipy.stats import spearmanr\n",
    "from sklearn.svm import SVR, LinearSVR\n",
    "from sklearn.cross_validation import cross_val_score, train_test_split\n",
    "from sklearn.metrics import make_scorer\n",
    "from sklearn.feature_selection import SelectKBest, f_regression"
   ]
  },
  {
   "cell_type": "markdown",
   "metadata": {},
   "source": [
    "### define functions"
   ]
  },
  {
   "cell_type": "code",
   "execution_count": 2,
   "metadata": {
    "collapsed": true
   },
   "outputs": [],
   "source": [
    "def helpFloat(x): \n",
    "    try:\n",
    "        return float ( float(x['thumbsup']) / (float(x['thumbsup']) + float(x['thumbsdown'])) )\n",
    "    except:\n",
    "        return 0\n",
    "    \n",
    "def thumbsSum(x): \n",
    "    try:\n",
    "        return int(x['thumbsup']) + int(x['thumbsdown']) \n",
    "    except:\n",
    "        return 0\n",
    "    \n",
    "def simple_spearman(x,y): return np.abs(spearmanr(x,y)[0])\n",
    "spearmanr_scorer = make_scorer(simple_spearman)"
   ]
  },
  {
   "cell_type": "markdown",
   "metadata": {},
   "source": [
    "### load buscape reviews"
   ]
  },
  {
   "cell_type": "code",
   "execution_count": 16,
   "metadata": {
    "collapsed": false
   },
   "outputs": [
    {
     "data": {
      "text/plain": [
       "(35001, 46)"
      ]
     },
     "execution_count": 16,
     "metadata": {},
     "output_type": "execute_result"
    }
   ],
   "source": [
    "#reviews_features = pd.read_csv('reviews.csv.gz', compression='gzip')\n",
    "reviews_features = pd.read_csv('amazon-help.csv.gz', compression='gzip')\n",
    "reviews_features['helpfulness'] = reviews_features.apply(helpFloat,axis=1)\n",
    "reviews_features['thumbstotal'] = reviews_features.apply(thumbsSum,axis=1)\n",
    "reviews_features.shape"
   ]
  },
  {
   "cell_type": "markdown",
   "metadata": {},
   "source": [
    "### filter dataset"
   ]
  },
  {
   "cell_type": "code",
   "execution_count": 17,
   "metadata": {
    "collapsed": false
   },
   "outputs": [
    {
     "data": {
      "text/plain": [
       "(7560, 46)"
      ]
     },
     "execution_count": 17,
     "metadata": {},
     "output_type": "execute_result"
    }
   ],
   "source": [
    "reviews_features = reviews_features[reviews_features.thumbstotal>4]\n",
    "reviews_features = reviews_features.sample(frac=0.5)\n",
    "reviews_features = reviews_features[np.isfinite(reviews_features.helpfulness)]\n",
    "reviews_features.shape"
   ]
  },
  {
   "cell_type": "markdown",
   "metadata": {},
   "source": [
    "### split data and class"
   ]
  },
  {
   "cell_type": "code",
   "execution_count": 18,
   "metadata": {
    "collapsed": false
   },
   "outputs": [
    {
     "data": {
      "text/plain": [
       "(7560, 37)"
      ]
     },
     "execution_count": 18,
     "metadata": {},
     "output_type": "execute_result"
    }
   ],
   "source": [
    "# split class and features\n",
    "labels = reviews_features[\"helpfulness\"].values\n",
    "reviews_columns = reviews_features.select_dtypes(include=['float64','int']).columns.drop('helpfulness')\n",
    "features = reviews_features[list(reviews_columns)].values\n",
    "\n",
    "# clean features\n",
    "features = np.abs(features)\n",
    "features[np.isnan(features) == True] = 0\n",
    "\n",
    "features.shape"
   ]
  },
  {
   "cell_type": "markdown",
   "metadata": {},
   "source": [
    "## 1. Run 10-fold cross validation over N kbest features"
   ]
  },
  {
   "cell_type": "markdown",
   "metadata": {},
   "source": [
    "###  1.1. for linear regression"
   ]
  },
  {
   "cell_type": "code",
   "execution_count": 19,
   "metadata": {
    "collapsed": false
   },
   "outputs": [
    {
     "name": "stdout",
     "output_type": "stream",
     "text": [
      "1,0.264577479247\n",
      "2,0.309061121099\n",
      "3,0.246335820587\n",
      "4,0.189046124511\n",
      "5,0.218878392375\n",
      "6,0.192894486525\n",
      "7,0.247329444234\n",
      "8,0.278356429175\n",
      "9,0.258949066942\n",
      "10,0.277353898699\n",
      "11,0.261650527562\n",
      "12,0.228022927681\n",
      "13,0.270860695266\n",
      "14,0.283777662371\n",
      "15,0.245552850761\n"
     ]
    }
   ],
   "source": [
    "linear_model = LinearSVR(epsilon=0.01)\n",
    "\n",
    "n_features_linear = []\n",
    "spearmanr_scores_linear = []\n",
    "\n",
    "for i in range(1, 16):\n",
    "    n_features_linear.append(i)\n",
    "    \n",
    "    kbest_features = SelectKBest(f_regression, k=i).fit_transform(features, labels)\n",
    "    scores = cross_val_score(linear_model, kbest_features, labels, cv=5, scoring=spearmanr_scorer)\n",
    "    spearmanr_scores_linear.append(scores.mean())\n",
    "    \n",
    "    print str(i) + ',' + str(scores.mean())"
   ]
  },
  {
   "cell_type": "markdown",
   "metadata": {},
   "source": [
    "###  1.2. for rbf regression"
   ]
  },
  {
   "cell_type": "code",
   "execution_count": 20,
   "metadata": {
    "collapsed": false
   },
   "outputs": [
    {
     "name": "stdout",
     "output_type": "stream",
     "text": [
      "1,0.2632771355\n",
      "2,0.318860449804\n",
      "3,0.180562856459\n",
      "4,0.0851601758336\n",
      "5,0.0837264083553\n",
      "6,0.0443358796982\n",
      "7,0.0497812021299\n",
      "8,0.0535269984956\n",
      "9,0.0374884498102\n",
      "10,0.0362105208214\n",
      "11,0.0246590369491\n",
      "12,0.0135820704079\n",
      "13,0.0184882931187\n",
      "14,0.019847366111\n",
      "15,0.0275927761559\n"
     ]
    }
   ],
   "source": [
    "svr_model = SVR(C=1.0, epsilon=0.01, kernel='rbf')\n",
    "\n",
    "n_features_svr = []\n",
    "spearmanr_scores_svr = []\n",
    "\n",
    "for i in range(1, 16):\n",
    "    n_features_svr.append(i)\n",
    "    \n",
    "    kbest_features = SelectKBest(f_regression, k=i).fit_transform(features, labels)\n",
    "    scores = cross_val_score(svr_model, kbest_features, labels, cv=5, scoring=spearmanr_scorer)\n",
    "    spearmanr_scores_svr.append(scores.mean())\n",
    "    \n",
    "    print str(i) + ',' + str(scores.mean())"
   ]
  },
  {
   "cell_type": "markdown",
   "metadata": {},
   "source": [
    "### 1.3 Plot Chart"
   ]
  },
  {
   "cell_type": "code",
   "execution_count": 15,
   "metadata": {
    "collapsed": false
   },
   "outputs": [
    {
     "data": {
      "image/png": "[encoded data removed]",
      "text/plain": [
       "<matplotlib.figure.Figure at 0xae686c8c>"
      ]
     },
     "metadata": {},
     "output_type": "display_data"
    }
   ],
   "source": [
    "plt.figure()\n",
    "\n",
    "plt.plot(n_features_linear, spearmanr_scores_linear, 'b', label='Linear Regression')\n",
    "plt.plot(n_features_svr, spearmanr_scores_svr, 'r', label='SVM Regression')\n",
    "plt.xlabel('N of Features')\n",
    "plt.ylabel('CV Spearmanr Scores')\n",
    "plt.legend(loc='lower left')\n",
    "\n",
    "plt.title('Regression Model Evaluation for Buscape Reviews')\n",
    "plt.show()"
   ]
  },
  {
   "cell_type": "code",
   "execution_count": 23,
   "metadata": {
    "collapsed": false
   },
   "outputs": [
    {
     "data": {
      "image/png": "[encoded data removed]",
      "text/plain": [
       "<matplotlib.figure.Figure at 0xadfab9cc>"
      ]
     },
     "metadata": {},
     "output_type": "display_data"
    }
   ],
   "source": [
    "plt.figure()\n",
    "\n",
    "plt.plot(n_features_linear, spearmanr_scores_linear, 'b', label='Linear Regression')\n",
    "plt.plot(n_features_svr, spearmanr_scores_svr, 'r', label='SVM Regression')\n",
    "plt.xlabel('N of Features')\n",
    "plt.ylabel('CV Spearmanr Scores')\n",
    "plt.legend(loc='center right')\n",
    "\n",
    "plt.title('Regression Model Evaluation for Amazon Reviews')\n",
    "plt.show()"
   ]
  }
 ],
 "metadata": {
  "kernelspec": {
   "display_name": "Python 2",
   "language": "python",
   "name": "python2"
  },
  "language_info": {
   "codemirror_mode": {
    "name": "ipython",
    "version": 2
   },
   "file_extension": ".py",
   "mimetype": "text/x-python",
   "name": "python",
   "nbconvert_exporter": "python",
   "pygments_lexer": "ipython2",
   "version": "2.7.6"
  }
 },
 "nbformat": 4,
 "nbformat_minor": 0
}
