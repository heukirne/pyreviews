{
 "cells": [
  {
   "cell_type": "markdown",
   "metadata": {},
   "source": [
    "# Regression Model Evaluation\n",
    "### March 2016"
   ]
  },
  {
   "cell_type": "code",
   "execution_count": 1,
   "metadata": {
    "collapsed": true
   },
   "outputs": [],
   "source": [
    "%matplotlib inline\n",
    "import pandas as pd\n",
    "import numpy as np\n",
    "import matplotlib.pyplot as plt\n",
    "from scipy.stats import spearmanr\n",
    "from sklearn.svm import SVR, LinearSVR\n",
    "from sklearn.linear_model import LinearRegression\n",
    "from sklearn.cross_validation import cross_val_score, train_test_split\n",
    "from sklearn.metrics import make_scorer\n",
    "from sklearn.feature_selection import SelectKBest, f_regression"
   ]
  },
  {
   "cell_type": "markdown",
   "metadata": {},
   "source": [
    "### define functions"
   ]
  },
  {
   "cell_type": "code",
   "execution_count": 2,
   "metadata": {
    "collapsed": true
   },
   "outputs": [],
   "source": [
    "def helpFloat(x): \n",
    "    try:\n",
    "        return float ( float(x['thumbsup']) / (float(x['thumbsup']) + float(x['thumbsdown'])) )\n",
    "    except:\n",
    "        return 0\n",
    "    \n",
    "def thumbsSum(x): \n",
    "    try:\n",
    "        return int(x['thumbsup']) + int(x['thumbsdown']) \n",
    "    except:\n",
    "        return 0\n",
    "    \n",
    "def simple_spearman(x,y): return np.abs(spearmanr(x,y)[0])\n",
    "spearmanr_scorer = make_scorer(simple_spearman)"
   ]
  },
  {
   "cell_type": "markdown",
   "metadata": {},
   "source": [
    "### load buscape reviews"
   ]
  },
  {
   "cell_type": "code",
   "execution_count": 36,
   "metadata": {
    "collapsed": false
   },
   "outputs": [
    {
     "data": {
      "text/plain": [
       "(35001, 46)"
      ]
     },
     "execution_count": 36,
     "metadata": {},
     "output_type": "execute_result"
    }
   ],
   "source": [
    "#reviews_features = pd.read_csv('reviews.csv.gz', compression='gzip')\n",
    "reviews_features = pd.read_csv('amazon-help.csv.gz', compression='gzip')\n",
    "reviews_features['helpfulness'] = reviews_features.apply(helpFloat,axis=1)\n",
    "reviews_features['thumbstotal'] = reviews_features.apply(thumbsSum,axis=1)\n",
    "reviews_features.shape"
   ]
  },
  {
   "cell_type": "markdown",
   "metadata": {},
   "source": [
    "### filter dataset"
   ]
  },
  {
   "cell_type": "code",
   "execution_count": 37,
   "metadata": {
    "collapsed": false
   },
   "outputs": [
    {
     "data": {
      "text/plain": [
       "(9072, 46)"
      ]
     },
     "execution_count": 37,
     "metadata": {},
     "output_type": "execute_result"
    }
   ],
   "source": [
    "reviews_features = reviews_features[reviews_features.thumbstotal>4]\n",
    "reviews_features = reviews_features.sample(frac=0.6)\n",
    "reviews_features = reviews_features[np.isfinite(reviews_features.helpfulness)]\n",
    "reviews_features.shape"
   ]
  },
  {
   "cell_type": "markdown",
   "metadata": {},
   "source": [
    "### split data and class"
   ]
  },
  {
   "cell_type": "code",
   "execution_count": 38,
   "metadata": {
    "collapsed": false
   },
   "outputs": [
    {
     "data": {
      "text/plain": [
       "(9072, 45)"
      ]
     },
     "execution_count": 38,
     "metadata": {},
     "output_type": "execute_result"
    }
   ],
   "source": [
    "# split class and features\n",
    "labels = reviews_features[\"helpfulness\"].values\n",
    "reviews_columns = reviews_features.select_dtypes(include=['float64','int']).columns.drop('helpfulness')\n",
    "features = reviews_features[list(reviews_columns)].values\n",
    "\n",
    "# clean features\n",
    "features = np.abs(features)\n",
    "features[np.isnan(features) == True] = 0\n",
    "\n",
    "features.shape"
   ]
  },
  {
   "cell_type": "markdown",
   "metadata": {},
   "source": [
    "## 1. Run 10-fold cross validation over N kbest features"
   ]
  },
  {
   "cell_type": "code",
   "execution_count": 39,
   "metadata": {
    "collapsed": true
   },
   "outputs": [],
   "source": [
    "def cv4kBest(model, feats, labs, cvOpt, loops):\n",
    "    result_list = []\n",
    "    for i in range(1, loops+1):\n",
    "        n_features_linear.append(i)\n",
    "\n",
    "        kbest_features = SelectKBest(f_regression, k=i).fit_transform(feats, labs)\n",
    "        scores = cross_val_score(model, kbest_features, labels, cv=cvOpt, scoring=spearmanr_scorer)\n",
    "        result_list.append(scores.mean())\n",
    "\n",
    "        print str(i) + ',' + str(scores.mean())\n",
    "        \n",
    "    return result_list"
   ]
  },
  {
   "cell_type": "markdown",
   "metadata": {},
   "source": [
    "###  1.1. for  linear regression"
   ]
  },
  {
   "cell_type": "code",
   "execution_count": 40,
   "metadata": {
    "collapsed": false
   },
   "outputs": [
    {
     "name": "stdout",
     "output_type": "stream",
     "text": [
      "1,0.270422405441\n",
      "2,0.318978618223\n",
      "3,0.319426479168\n",
      "4,0.321367457028\n",
      "5,0.321359025409\n",
      "6,0.33628077983\n",
      "7,0.341011944717\n",
      "8,0.341643072906\n",
      "9,0.347024431939\n",
      "10,0.347163068582\n",
      "11,0.349123427743\n",
      "12,0.351060059752\n",
      "13,0.350944195107\n",
      "14,0.350110132927\n",
      "15,0.348991667788\n"
     ]
    }
   ],
   "source": [
    "linear_model = LinearRegression()\n",
    "\n",
    "spearmanr_scores_linear = cv4kBest(linear_model, features, labels, 5, 15)"
   ]
  },
  {
   "cell_type": "markdown",
   "metadata": {},
   "source": [
    "###  1.1. for svm linear regression"
   ]
  },
  {
   "cell_type": "code",
   "execution_count": 41,
   "metadata": {
    "collapsed": false
   },
   "outputs": [
    {
     "name": "stdout",
     "output_type": "stream",
     "text": [
      "1,0.270422405441\n",
      "2,0.314954679986\n",
      "3,0.238214288655\n",
      "4,0.238389267399\n",
      "5,0.178098629565\n",
      "6,0.186986540729\n",
      "7,0.195447371032\n",
      "8,0.235428937224\n",
      "9,0.253214485969\n",
      "10,0.227389772852\n",
      "11,0.273826735803\n",
      "12,0.279993069586\n",
      "13,0.267512918577\n",
      "14,0.307151205411\n",
      "15,0.261760383121\n"
     ]
    }
   ],
   "source": [
    "linearSVR_model = LinearSVR(epsilon=0.01)\n",
    "\n",
    "spearmanr_scores_svrLinear = cv4kBest(linearSVR_model, features, labels, 5, 15)"
   ]
  },
  {
   "cell_type": "markdown",
   "metadata": {},
   "source": [
    "###  1.2. for rbf regression"
   ]
  },
  {
   "cell_type": "code",
   "execution_count": 42,
   "metadata": {
    "collapsed": false
   },
   "outputs": [
    {
     "name": "stdout",
     "output_type": "stream",
     "text": [
      "1,0.268466483641\n",
      "2,0.321828726247\n",
      "3,0.199598559734\n",
      "4,0.112706543043\n",
      "5,0.102216336389\n",
      "6,0.0312896858128\n",
      "7,0.0323703215359\n",
      "8,0.0358939924466\n",
      "9,0.0559682368267\n",
      "10,0.0377132166662\n",
      "11,0.0359527431018\n",
      "12,0.0560093917859\n",
      "13,0.056855687169\n",
      "14,0.0469960836026\n",
      "15,0.0413370763421\n"
     ]
    }
   ],
   "source": [
    "svr_model = SVR(C=1.0, epsilon=0.01, kernel='rbf')\n",
    "\n",
    "spearmanr_scores_svr = cv4kBest(svr_model, features, labels, 5, 15)"
   ]
  },
  {
   "cell_type": "markdown",
   "metadata": {},
   "source": [
    "### 1.3 Plot Chart"
   ]
  },
  {
   "cell_type": "code",
   "execution_count": 31,
   "metadata": {
    "collapsed": false
   },
   "outputs": [
    {
     "data": {
      "image/png": "[encoded data removed]",
      "text/plain": [
       "<matplotlib.figure.Figure at 0x1081f6190>"
      ]
     },
     "metadata": {},
     "output_type": "display_data"
    }
   ],
   "source": [
    "plt.figure()\n",
    "\n",
    "n_features = range(1, 16)\n",
    "\n",
    "plt.plot(n_features, spearmanr_scores_linear, 'g', label='Linear Regression')\n",
    "plt.plot(n_features, spearmanr_scores_svrLinear, 'b', label='SVR Linear')\n",
    "plt.plot(n_features, spearmanr_scores_svr, 'r', label='SVR RBF')\n",
    "plt.xlabel('N of Features')\n",
    "plt.ylabel('CV Spearmanr Scores')\n",
    "plt.legend(loc='lower left')\n",
    "plt.legend(bbox_to_anchor=(1.05, 1), loc=2, borderaxespad=0.)\n",
    "\n",
    "plt.title('Regression Model Evaluation for Buscape Reviews')\n",
    "plt.show()"
   ]
  },
  {
   "cell_type": "code",
   "execution_count": 43,
   "metadata": {
    "collapsed": false
   },
   "outputs": [
    {
     "data": {
      "image/png": "[encoded data removed]",
      "text/plain": [
       "<matplotlib.figure.Figure at 0x107b6c3d0>"
      ]
     },
     "metadata": {},
     "output_type": "display_data"
    }
   ],
   "source": [
    "plt.figure()\n",
    "\n",
    "n_features = range(1, 16)\n",
    "\n",
    "plt.plot(n_features, spearmanr_scores_linear, 'g', label='Linear Regression')\n",
    "plt.plot(n_features, spearmanr_scores_svrLinear, 'b', label='SVR Linear')\n",
    "plt.plot(n_features, spearmanr_scores_svr, 'r', label='SVR RBF')\n",
    "plt.xlabel('N of Features')\n",
    "plt.ylabel('CV Spearmanr Scores')\n",
    "plt.legend(bbox_to_anchor=(1.05, 1), loc=2, borderaxespad=0.)\n",
    "\n",
    "plt.title('Regression Model Evaluation for Amazon Reviews')\n",
    "plt.show()"
   ]
  },
  {
   "cell_type": "code",
   "execution_count": null,
   "metadata": {
    "collapsed": true
   },
   "outputs": [],
   "source": []
  }
 ],
 "metadata": {
  "kernelspec": {
   "display_name": "Python 2",
   "language": "python",
   "name": "python2"
  },
  "language_info": {
   "codemirror_mode": {
    "name": "ipython",
    "version": 2
   },
   "file_extension": ".py",
   "mimetype": "text/x-python",
   "name": "python",
   "nbconvert_exporter": "python",
   "pygments_lexer": "ipython2",
   "version": "2.7.10"
  }
 },
 "nbformat": 4,
 "nbformat_minor": 0
}
