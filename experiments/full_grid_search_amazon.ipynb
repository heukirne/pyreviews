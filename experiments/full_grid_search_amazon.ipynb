{
 "cells": [
  {
   "cell_type": "code",
   "execution_count": 18,
   "metadata": {
    "collapsed": true
   },
   "outputs": [],
   "source": [
    "import pandas as pd\n",
    "import plotsfunc as pf\n",
    "import numpy as np\n",
    "%matplotlib inline"
   ]
  },
  {
   "cell_type": "code",
   "execution_count": 19,
   "metadata": {
    "collapsed": true
   },
   "outputs": [],
   "source": [
    "## adiciona coluna de helpfulness no corpus\n",
    "def helpf(x): \n",
    "    try:\n",
    "        return float ( float(x['thumbsup']) / (float(x['thumbsup']) + float(x['thumbsdown'])) )\n",
    "    except:\n",
    "        return 0\n",
    "    \n",
    "def thumbssum(x): \n",
    "    try:\n",
    "        return int(x['thumbsup']) + int(x['thumbsdown']) \n",
    "    except:\n",
    "        return 0\n",
    "    \n",
    "def fillnanup(x): \n",
    "    try:\n",
    "        return float(x['thumbsup'])\n",
    "    except:\n",
    "        return 0\n",
    "    \n",
    "def fillnandown(x): \n",
    "    try:\n",
    "        return float(x['thumbsdown'])\n",
    "    except:\n",
    "        return 0\n",
    "    \n",
    "def length(x): \n",
    "    try:\n",
    "        return int(x['word_count']) * int(x['mean_word_length'])\n",
    "    except:\n",
    "        return 0\n",
    "    \n",
    "def sentiment(x): \n",
    "    if x['stars'] == 5:\n",
    "        return 'favorable'\n",
    "    if x['stars'] == 1:\n",
    "        return 'unfavorable'\n",
    "    else:\n",
    "        return 'mixed'"
   ]
  },
  {
   "cell_type": "code",
   "execution_count": 24,
   "metadata": {
    "collapsed": false
   },
   "outputs": [
    {
     "data": {
      "text/plain": [
       "(15096, 47)"
      ]
     },
     "execution_count": 24,
     "metadata": {},
     "output_type": "execute_result"
    }
   ],
   "source": [
    "reviews_features = pd.read_csv('amazon-help.csv.gz')\n",
    "reviews_features['thumbsup'] = reviews_features.apply(fillnanup,axis=1)\n",
    "reviews_features['thumbsdown'] = reviews_features.apply(fillnandown,axis=1)\n",
    "reviews_features['helpfulness'] = reviews_features.apply(helpf,axis=1)\n",
    "reviews_features['thumbstotal'] = reviews_features.apply(thumbssum,axis=1)\n",
    "reviews_features['length'] = reviews_features.apply(length,axis=1)\n",
    "reviews_features = reviews_features[reviews_features.thumbstotal>4]\n",
    "reviews_features = reviews_features[reviews_features.word_count>10]\n",
    "reviews_features.shape"
   ]
  },
  {
   "cell_type": "code",
   "execution_count": 25,
   "metadata": {
    "collapsed": false
   },
   "outputs": [],
   "source": [
    "from sklearn.svm import SVR, LinearSVR\n",
    "from sklearn.grid_search import GridSearchCV\n",
    "from scipy.stats import spearmanr\n",
    "from sklearn.metrics import make_scorer\n",
    "from time import time\n",
    "\n",
    "def simple_spearman(x,y): return np.abs(spearmanr(x,y)[0])\n",
    "spearmanr_scorer = make_scorer(simple_spearman)"
   ]
  },
  {
   "cell_type": "markdown",
   "metadata": {},
   "source": [
    "## grid search LinearSVM"
   ]
  },
  {
   "cell_type": "code",
   "execution_count": 28,
   "metadata": {
    "collapsed": false
   },
   "outputs": [
    {
     "name": "stdout",
     "output_type": "stream",
     "text": [
      "GridSearchCV took 33.79 seconds for 3 candidates\n"
     ]
    },
    {
     "data": {
      "text/plain": [
       "[mean: 0.18736, std: 0.04971, params: {'epsilon': 0.0001},\n",
       " mean: 0.18736, std: 0.04971, params: {'epsilon': 0.001},\n",
       " mean: 0.18736, std: 0.04971, params: {'epsilon': 0.01}]"
      ]
     },
     "execution_count": 28,
     "metadata": {},
     "output_type": "execute_result"
    }
   ],
   "source": [
    "features = reviews_features[list(['word_count'])].values\n",
    "labels = reviews_features[\"helpfulness\"].values\n",
    "\n",
    "param_grid = [\n",
    "    {'epsilon':[10**i for i in range(-4,-1)]},\n",
    "]\n",
    "grid_search = GridSearchCV(LinearSVR(), param_grid=param_grid, scoring=spearmanr_scorer, cv=10, n_jobs=-1)\n",
    "start = time()\n",
    "grid_search.fit(features, labels)\n",
    "print(\"GridSearchCV took %.2f seconds for %d candidates\" % (time() - start, len(grid_search.grid_scores_)))\n",
    "grid_search.grid_scores_"
   ]
  },
  {
   "cell_type": "markdown",
   "metadata": {},
   "source": [
    "## grid search SVM RBF"
   ]
  },
  {
   "cell_type": "code",
   "execution_count": 29,
   "metadata": {
    "collapsed": false
   },
   "outputs": [
    {
     "name": "stdout",
     "output_type": "stream",
     "text": [
      "GridSearchCV took 126.44 seconds for 1 candidates\n"
     ]
    },
    {
     "data": {
      "text/plain": [
       "[mean: 0.06266, std: 0.02579, params: {'kernel': 'rbf', 'C': 1, 'gamma': 0.001}]"
      ]
     },
     "execution_count": 29,
     "metadata": {},
     "output_type": "execute_result"
    }
   ],
   "source": [
    "features = reviews_features[list(['word_count'])].values\n",
    "labels = reviews_features[\"helpfulness\"].values\n",
    "\n",
    "param_grid = [\n",
    "    #{'C': [1, 10, 100, 1000], 'gamma': [0.001, 0.0001], 'kernel': ['rbf']},\n",
    "    {'C': [1], 'gamma': [0.001], 'kernel': ['rbf']},\n",
    "]\n",
    "grid_search = GridSearchCV(SVR(), param_grid=param_grid, scoring=spearmanr_scorer, cv=10, n_jobs=-1)\n",
    "start = time()\n",
    "grid_search.fit(features, labels)\n",
    "print(\"GridSearchCV took %.2f seconds for %d candidates\" % (time() - start, len(grid_search.grid_scores_)))\n",
    "grid_search.grid_scores_"
   ]
  },
  {
   "cell_type": "code",
   "execution_count": null,
   "metadata": {
    "collapsed": true
   },
   "outputs": [],
   "source": []
  }
 ],
 "metadata": {
  "kernelspec": {
   "display_name": "Python 2",
   "language": "python",
   "name": "python2"
  },
  "language_info": {
   "codemirror_mode": {
    "name": "ipython",
    "version": 2
   },
   "file_extension": ".py",
   "mimetype": "text/x-python",
   "name": "python",
   "nbconvert_exporter": "python",
   "pygments_lexer": "ipython2",
   "version": "2.7.12"
  }
 },
 "nbformat": 4,
 "nbformat_minor": 1
}
