{
 "cells": [
  {
   "cell_type": "markdown",
   "metadata": {},
   "source": [
    "# Análise Descritiva dos Reviews\n",
    "### Março de 2016"
   ]
  },
  {
   "cell_type": "code",
   "execution_count": 1,
   "metadata": {
    "collapsed": false
   },
   "outputs": [
    {
     "name": "stderr",
     "output_type": "stream",
     "text": [
      "/usr/local/lib/python2.7/dist-packages/IPython/core/interactiveshell.py:2723: DtypeWarning: Columns (40,41) have mixed types. Specify dtype option on import or set low_memory=False.\n",
      "  interactivity=interactivity, compiler=compiler, result=result)\n"
     ]
    }
   ],
   "source": [
    "import sys\n",
    "sys.path.append(\"../pylinguistics/pylinguistics/\")\n",
    "\n",
    "import Pylinguistics as pl\n",
    "import pandas as pd\n",
    "import plotsfunc as pf\n",
    "import numpy as np\n",
    "from scipy.stats import spearmanr\n",
    "%matplotlib inline\n",
    "\n",
    "reviews_features = pd.read_csv('reviews.csv.gz', compression='gzip')"
   ]
  },
  {
   "cell_type": "markdown",
   "metadata": {},
   "source": [
    "## 1. Contagens Básicas"
   ]
  },
  {
   "cell_type": "code",
   "execution_count": 2,
   "metadata": {
    "collapsed": false
   },
   "outputs": [
    {
     "name": "stdout",
     "output_type": "stream",
     "text": [
      "Reviews - Amostragem: 32226\n",
      "Reviews - Total de tokens no corpus: 1922927\n"
     ]
    }
   ],
   "source": [
    "print('Reviews - Amostragem: %i' %len(reviews_features))\n",
    "print('Reviews - Total de tokens no corpus: %i' % sum(reviews_features.word_count))"
   ]
  },
  {
   "cell_type": "markdown",
   "metadata": {},
   "source": [
    "### 1.1 Categorias mais comentadas"
   ]
  },
  {
   "cell_type": "code",
   "execution_count": 3,
   "metadata": {
    "collapsed": false
   },
   "outputs": [
    {
     "data": {
      "text/html": [
       "<div>\n",
       "<table border=\"1\" class=\"dataframe\">\n",
       "  <thead>\n",
       "    <tr style=\"text-align: right;\">\n",
       "      <th></th>\n",
       "      <th>count</th>\n",
       "      <th>mean</th>\n",
       "    </tr>\n",
       "    <tr>\n",
       "      <th>category</th>\n",
       "      <th></th>\n",
       "      <th></th>\n",
       "    </tr>\n",
       "  </thead>\n",
       "  <tbody>\n",
       "    <tr>\n",
       "      <th>TV</th>\n",
       "      <td>5748</td>\n",
       "      <td>63.752436</td>\n",
       "    </tr>\n",
       "    <tr>\n",
       "      <th>Celular e Smartphone</th>\n",
       "      <td>4985</td>\n",
       "      <td>72.055366</td>\n",
       "    </tr>\n",
       "    <tr>\n",
       "      <th>Camera Digital</th>\n",
       "      <td>2243</td>\n",
       "      <td>60.616139</td>\n",
       "    </tr>\n",
       "    <tr>\n",
       "      <th>Notebook</th>\n",
       "      <td>1406</td>\n",
       "      <td>60.017070</td>\n",
       "    </tr>\n",
       "    <tr>\n",
       "      <th>Ar Condicionado</th>\n",
       "      <td>1406</td>\n",
       "      <td>55.628734</td>\n",
       "    </tr>\n",
       "    <tr>\n",
       "      <th>Tablet</th>\n",
       "      <td>1306</td>\n",
       "      <td>62.266462</td>\n",
       "    </tr>\n",
       "    <tr>\n",
       "      <th>Geladeira / Refrigerador</th>\n",
       "      <td>1047</td>\n",
       "      <td>67.870105</td>\n",
       "    </tr>\n",
       "    <tr>\n",
       "      <th>Perfume</th>\n",
       "      <td>959</td>\n",
       "      <td>36.709072</td>\n",
       "    </tr>\n",
       "    <tr>\n",
       "      <th>Maquina de Lavar Roupas</th>\n",
       "      <td>945</td>\n",
       "      <td>76.206349</td>\n",
       "    </tr>\n",
       "    <tr>\n",
       "      <th>Fogao</th>\n",
       "      <td>853</td>\n",
       "      <td>56.788980</td>\n",
       "    </tr>\n",
       "  </tbody>\n",
       "</table>\n",
       "</div>"
      ],
      "text/plain": [
       "                          count       mean\n",
       "category                                  \n",
       "TV                         5748  63.752436\n",
       "Celular e Smartphone       4985  72.055366\n",
       "Camera Digital             2243  60.616139\n",
       "Notebook                   1406  60.017070\n",
       "Ar Condicionado            1406  55.628734\n",
       "Tablet                     1306  62.266462\n",
       "Geladeira / Refrigerador   1047  67.870105\n",
       "Perfume                     959  36.709072\n",
       "Maquina de Lavar Roupas     945  76.206349\n",
       "Fogao                       853  56.788980"
      ]
     },
     "execution_count": 3,
     "metadata": {},
     "output_type": "execute_result"
    }
   ],
   "source": [
    "df_agg = reviews_features[['word_count','category']].groupby(['category']).agg(['count','mean'])\n",
    "df_agg['word_count'].sort_values('count',ascending=False).head(10)"
   ]
  },
  {
   "cell_type": "markdown",
   "metadata": {},
   "source": [
    "### 1.2 Tokens"
   ]
  },
  {
   "cell_type": "code",
   "execution_count": 4,
   "metadata": {
    "collapsed": false
   },
   "outputs": [
    {
     "name": "stderr",
     "output_type": "stream",
     "text": [
      "/usr/lib/pymodules/python2.7/matplotlib/collections.py:548: FutureWarning: elementwise comparison failed; returning scalar instead, but in the future will perform elementwise comparison\n",
      "  if self._edgecolors == 'face':\n"
     ]
    },
    {
     "data": {
      "image/png": "[encoded data removed]",
      "text/plain": [
       "<matplotlib.figure.Figure at 0xb4bb9aec>"
      ]
     },
     "metadata": {},
     "output_type": "display_data"
    }
   ],
   "source": [
    "pf.comparaMedias(reviews_features,'word_count',['TV','Celular e Smartphone','Camera Digital'])"
   ]
  },
  {
   "cell_type": "markdown",
   "metadata": {},
   "source": [
    "### 1.3 Sentenças"
   ]
  },
  {
   "cell_type": "code",
   "execution_count": 5,
   "metadata": {
    "collapsed": false
   },
   "outputs": [
    {
     "data": {
      "image/png": "[encoded data removed]",
      "text/plain": [
       "<matplotlib.figure.Figure at 0xad8c7e6c>"
      ]
     },
     "metadata": {},
     "output_type": "display_data"
    }
   ],
   "source": [
    "pf.comparaMedias(reviews_features,'sentence_count',['TV','Celular e Smartphone','Camera Digital'])"
   ]
  },
  {
   "cell_type": "markdown",
   "metadata": {},
   "source": [
    "### 1.4 Tokens por sentença"
   ]
  },
  {
   "cell_type": "code",
   "execution_count": 6,
   "metadata": {
    "collapsed": false
   },
   "outputs": [
    {
     "data": {
      "image/png": "[encoded data removed]",
      "text/plain": [
       "<matplotlib.figure.Figure at 0xad74f36c>"
      ]
     },
     "metadata": {},
     "output_type": "display_data"
    }
   ],
   "source": [
    "pf.comparaMedias(reviews_features,'avg_word_per_sentence',['TV','Celular e Smartphone','Camera Digital'])"
   ]
  },
  {
   "cell_type": "markdown",
   "metadata": {},
   "source": [
    "### 1.5 Sílabas por token"
   ]
  },
  {
   "cell_type": "code",
   "execution_count": 7,
   "metadata": {
    "collapsed": false
   },
   "outputs": [
    {
     "data": {
      "image/png": "[encoded data removed]",
      "text/plain": [
       "<matplotlib.figure.Figure at 0xb557e24c>"
      ]
     },
     "metadata": {},
     "output_type": "display_data"
    }
   ],
   "source": [
    "pf.comparaMedias(reviews_features,'avg_syllables_per_word',['TV','Celular e Smartphone','Camera Digital'])"
   ]
  },
  {
   "cell_type": "code",
   "execution_count": 8,
   "metadata": {
    "collapsed": true
   },
   "outputs": [],
   "source": [
    "mean_tv = reviews_features[reviews_features.category == 'TV'].groupby(['category']).agg(['mean'])\n",
    "mean_cell = reviews_features[reviews_features.category == 'Celular e Smartphone'].groupby(['category']).agg(['mean'])\n",
    "mean_camera = reviews_features[reviews_features.category == 'Camera Digital'].groupby(['category']).agg(['mean'])\n",
    "most_cat = pd.concat([mean_tv, mean_cell, mean_camera])"
   ]
  },
  {
   "cell_type": "markdown",
   "metadata": {},
   "source": [
    "### 1.6 Características Lógicas"
   ]
  },
  {
   "cell_type": "code",
   "execution_count": 12,
   "metadata": {
    "collapsed": false
   },
   "outputs": [
    {
     "data": {
      "text/html": [
       "<div>\n",
       "<table border=\"1\" class=\"dataframe\">\n",
       "  <thead>\n",
       "    <tr>\n",
       "      <th></th>\n",
       "      <th>LogicOperatorsIncidence</th>\n",
       "      <th>LogicIfIncidence</th>\n",
       "      <th>LogicAndIncidence</th>\n",
       "      <th>LogicNegationIncidence</th>\n",
       "    </tr>\n",
       "    <tr>\n",
       "      <th></th>\n",
       "      <th>mean</th>\n",
       "      <th>mean</th>\n",
       "      <th>mean</th>\n",
       "      <th>mean</th>\n",
       "    </tr>\n",
       "    <tr>\n",
       "      <th>category</th>\n",
       "      <th></th>\n",
       "      <th></th>\n",
       "      <th></th>\n",
       "      <th></th>\n",
       "    </tr>\n",
       "  </thead>\n",
       "  <tbody>\n",
       "    <tr>\n",
       "      <th>TV</th>\n",
       "      <td>4.402237</td>\n",
       "      <td>0</td>\n",
       "      <td>0.005369</td>\n",
       "      <td>4.396401</td>\n",
       "    </tr>\n",
       "    <tr>\n",
       "      <th>Celular e Smartphone</th>\n",
       "      <td>4.738757</td>\n",
       "      <td>0</td>\n",
       "      <td>0.032127</td>\n",
       "      <td>4.702697</td>\n",
       "    </tr>\n",
       "    <tr>\n",
       "      <th>Camera Digital</th>\n",
       "      <td>4.243688</td>\n",
       "      <td>0</td>\n",
       "      <td>0.036854</td>\n",
       "      <td>4.206834</td>\n",
       "    </tr>\n",
       "  </tbody>\n",
       "</table>\n",
       "</div>"
      ],
      "text/plain": [
       "                     LogicOperatorsIncidence LogicIfIncidence  \\\n",
       "                                        mean             mean   \n",
       "category                                                        \n",
       "TV                                  4.402237                0   \n",
       "Celular e Smartphone                4.738757                0   \n",
       "Camera Digital                      4.243688                0   \n",
       "\n",
       "                     LogicAndIncidence LogicNegationIncidence  \n",
       "                                  mean                   mean  \n",
       "category                                                       \n",
       "TV                            0.005369               4.396401  \n",
       "Celular e Smartphone          0.032127               4.702697  \n",
       "Camera Digital                0.036854               4.206834  "
      ]
     },
     "execution_count": 12,
     "metadata": {},
     "output_type": "execute_result"
    }
   ],
   "source": [
    "most_cat[['LogicOperatorsIncidence','LogicIfIncidence','LogicAndIncidence','LogicNegationIncidence']]"
   ]
  },
  {
   "cell_type": "markdown",
   "metadata": {},
   "source": [
    "### 1.7 Características Sintáticas"
   ]
  },
  {
   "cell_type": "code",
   "execution_count": 13,
   "metadata": {
    "collapsed": false
   },
   "outputs": [
    {
     "data": {
      "text/html": [
       "<div>\n",
       "<table border=\"1\" class=\"dataframe\">\n",
       "  <thead>\n",
       "    <tr>\n",
       "      <th></th>\n",
       "      <th>pronIncidence</th>\n",
       "      <th>verbIncidence</th>\n",
       "      <th>adjectiveIncidence</th>\n",
       "      <th>advIncidence</th>\n",
       "    </tr>\n",
       "    <tr>\n",
       "      <th></th>\n",
       "      <th>mean</th>\n",
       "      <th>mean</th>\n",
       "      <th>mean</th>\n",
       "      <th>mean</th>\n",
       "    </tr>\n",
       "    <tr>\n",
       "      <th>category</th>\n",
       "      <th></th>\n",
       "      <th></th>\n",
       "      <th></th>\n",
       "      <th></th>\n",
       "    </tr>\n",
       "  </thead>\n",
       "  <tbody>\n",
       "    <tr>\n",
       "      <th>TV</th>\n",
       "      <td>118.604096</td>\n",
       "      <td>170.640095</td>\n",
       "      <td>99.694399</td>\n",
       "      <td>80.492622</td>\n",
       "    </tr>\n",
       "    <tr>\n",
       "      <th>Celular e Smartphone</th>\n",
       "      <td>119.922896</td>\n",
       "      <td>177.725731</td>\n",
       "      <td>101.957168</td>\n",
       "      <td>82.657532</td>\n",
       "    </tr>\n",
       "    <tr>\n",
       "      <th>Camera Digital</th>\n",
       "      <td>127.402929</td>\n",
       "      <td>177.055740</td>\n",
       "      <td>110.523308</td>\n",
       "      <td>80.853214</td>\n",
       "    </tr>\n",
       "  </tbody>\n",
       "</table>\n",
       "</div>"
      ],
      "text/plain": [
       "                     pronIncidence verbIncidence adjectiveIncidence  \\\n",
       "                              mean          mean               mean   \n",
       "category                                                              \n",
       "TV                      118.604096    170.640095          99.694399   \n",
       "Celular e Smartphone    119.922896    177.725731         101.957168   \n",
       "Camera Digital          127.402929    177.055740         110.523308   \n",
       "\n",
       "                     advIncidence  \n",
       "                             mean  \n",
       "category                           \n",
       "TV                      80.492622  \n",
       "Celular e Smartphone    82.657532  \n",
       "Camera Digital          80.853214  "
      ]
     },
     "execution_count": 13,
     "metadata": {},
     "output_type": "execute_result"
    }
   ],
   "source": [
    "most_cat[['pronIncidence','verbIncidence','adjectiveIncidence','advIncidence']]"
   ]
  },
  {
   "cell_type": "markdown",
   "metadata": {},
   "source": [
    "### 1.8 Outras Características"
   ]
  },
  {
   "cell_type": "code",
   "execution_count": 14,
   "metadata": {
    "collapsed": false
   },
   "outputs": [
    {
     "data": {
      "text/html": [
       "<div>\n",
       "<table border=\"1\" class=\"dataframe\">\n",
       "  <thead>\n",
       "    <tr>\n",
       "      <th></th>\n",
       "      <th>LexicalDiversty</th>\n",
       "      <th>ContentDiversty</th>\n",
       "      <th>ConnectiveTemporalIncidence</th>\n",
       "      <th>ConnectiveCasualIncidence</th>\n",
       "    </tr>\n",
       "    <tr>\n",
       "      <th></th>\n",
       "      <th>mean</th>\n",
       "      <th>mean</th>\n",
       "      <th>mean</th>\n",
       "      <th>mean</th>\n",
       "    </tr>\n",
       "    <tr>\n",
       "      <th>category</th>\n",
       "      <th></th>\n",
       "      <th></th>\n",
       "      <th></th>\n",
       "      <th></th>\n",
       "    </tr>\n",
       "  </thead>\n",
       "  <tbody>\n",
       "    <tr>\n",
       "      <th>TV</th>\n",
       "      <td>0.755529</td>\n",
       "      <td>0.827203</td>\n",
       "      <td>3.482776</td>\n",
       "      <td>3.886675</td>\n",
       "    </tr>\n",
       "    <tr>\n",
       "      <th>Celular e Smartphone</th>\n",
       "      <td>0.752233</td>\n",
       "      <td>0.830933</td>\n",
       "      <td>3.549805</td>\n",
       "      <td>4.094878</td>\n",
       "    </tr>\n",
       "    <tr>\n",
       "      <th>Camera Digital</th>\n",
       "      <td>0.757610</td>\n",
       "      <td>0.832260</td>\n",
       "      <td>6.034256</td>\n",
       "      <td>6.281362</td>\n",
       "    </tr>\n",
       "  </tbody>\n",
       "</table>\n",
       "</div>"
      ],
      "text/plain": [
       "                     LexicalDiversty ContentDiversty  \\\n",
       "                                mean            mean   \n",
       "category                                               \n",
       "TV                          0.755529        0.827203   \n",
       "Celular e Smartphone        0.752233        0.830933   \n",
       "Camera Digital              0.757610        0.832260   \n",
       "\n",
       "                     ConnectiveTemporalIncidence ConnectiveCasualIncidence  \n",
       "                                            mean                      mean  \n",
       "category                                                                    \n",
       "TV                                      3.482776                  3.886675  \n",
       "Celular e Smartphone                    3.549805                  4.094878  \n",
       "Camera Digital                          6.034256                  6.281362  "
      ]
     },
     "execution_count": 14,
     "metadata": {},
     "output_type": "execute_result"
    }
   ],
   "source": [
    "most_cat[['LexicalDiversty','ContentDiversty','ConnectiveTemporalIncidence','ConnectiveCasualIncidence']]"
   ]
  },
  {
   "cell_type": "markdown",
   "metadata": {},
   "source": [
    "## 2. Inteligibilidade"
   ]
  },
  {
   "cell_type": "code",
   "execution_count": 15,
   "metadata": {
    "collapsed": false
   },
   "outputs": [
    {
     "data": {
      "image/png": "[encoded data removed]",
      "text/plain": [
       "<matplotlib.figure.Figure at 0xad8b9c8c>"
      ]
     },
     "metadata": {},
     "output_type": "display_data"
    }
   ],
   "source": [
    "pf.comparaMedias(reviews_features,'redability',['TV','Celular e Smartphone','Camera Digital'])"
   ]
  },
  {
   "cell_type": "markdown",
   "metadata": {},
   "source": [
    "## 3. Helpfulness"
   ]
  },
  {
   "cell_type": "code",
   "execution_count": 21,
   "metadata": {
    "collapsed": true
   },
   "outputs": [],
   "source": [
    "## adiciona coluna de helpfulness no corpus\n",
    "def helpf(x): \n",
    "    try:\n",
    "        return float ( float(x['thumbsup']) / (float(x['thumbsup']) + float(x['thumbsdown'])) )\n",
    "    except:\n",
    "        return 0\n",
    "reviews_features['helpfulness'] = reviews_features.apply(helpf,axis=1)\n",
    "## para usar no weka\n",
    "## reviews_features.to_csv('reviews-help.csv',encoding='utf-8')"
   ]
  },
  {
   "cell_type": "markdown",
   "metadata": {},
   "source": [
    "## 4. Correlações"
   ]
  },
  {
   "cell_type": "code",
   "execution_count": 22,
   "metadata": {
    "collapsed": false
   },
   "outputs": [
    {
     "data": {
      "image/png": "[encoded data removed]",
      "text/plain": [
       "<matplotlib.figure.Figure at 0xad63416c>"
      ]
     },
     "metadata": {},
     "output_type": "display_data"
    }
   ],
   "source": [
    "pf.plot_corr(reviews_features)"
   ]
  },
  {
   "cell_type": "markdown",
   "metadata": {},
   "source": [
    "### 4.1 Correlação de Pearson sobre Helpfulness"
   ]
  },
  {
   "cell_type": "code",
   "execution_count": 41,
   "metadata": {
    "collapsed": false
   },
   "outputs": [
    {
     "data": {
      "text/plain": [
       "array([[ nan,  nan],\n",
       "       [ nan,  nan]])"
      ]
     },
     "execution_count": 41,
     "metadata": {},
     "output_type": "execute_result"
    }
   ],
   "source": [
    "np.corrcoef(reviews_features['sentence_count'],reviews_features['helpfulness'])"
   ]
  },
  {
   "cell_type": "code",
   "execution_count": 24,
   "metadata": {
    "collapsed": false
   },
   "outputs": [
    {
     "data": {
      "text/plain": [
       "array([[  1.,  nan],\n",
       "       [ nan,  nan]])"
      ]
     },
     "execution_count": 24,
     "metadata": {},
     "output_type": "execute_result"
    }
   ],
   "source": [
    "np.corrcoef(reviews_features['word_count'],reviews_features['helpfulness'])"
   ]
  },
  {
   "cell_type": "code",
   "execution_count": 25,
   "metadata": {
    "collapsed": false
   },
   "outputs": [
    {
     "data": {
      "text/plain": [
       "array([[  1.,  nan],\n",
       "       [ nan,  nan]])"
      ]
     },
     "execution_count": 25,
     "metadata": {},
     "output_type": "execute_result"
    }
   ],
   "source": [
    "np.corrcoef(reviews_features['syllable_count'],reviews_features['helpfulness'])"
   ]
  },
  {
   "cell_type": "code",
   "execution_count": 26,
   "metadata": {
    "collapsed": false
   },
   "outputs": [
    {
     "data": {
      "text/plain": [
       "array([[ nan,  nan],\n",
       "       [ nan,  nan]])"
      ]
     },
     "execution_count": 26,
     "metadata": {},
     "output_type": "execute_result"
    }
   ],
   "source": [
    "np.corrcoef(reviews_features['avg_syllables_per_word'],reviews_features['helpfulness'])"
   ]
  },
  {
   "cell_type": "code",
   "execution_count": 27,
   "metadata": {
    "collapsed": false
   },
   "outputs": [
    {
     "data": {
      "text/plain": [
       "array([[ nan,  nan],\n",
       "       [ nan,  nan]])"
      ]
     },
     "execution_count": 27,
     "metadata": {},
     "output_type": "execute_result"
    }
   ],
   "source": [
    "np.corrcoef(reviews_features['stars'],reviews_features['helpfulness'])"
   ]
  },
  {
   "cell_type": "code",
   "execution_count": 28,
   "metadata": {
    "collapsed": false
   },
   "outputs": [
    {
     "data": {
      "text/plain": [
       "array([[  1.,  nan],\n",
       "       [ nan,  nan]])"
      ]
     },
     "execution_count": 28,
     "metadata": {},
     "output_type": "execute_result"
    }
   ],
   "source": [
    "np.corrcoef(reviews_features['LogicIfIncidence'],reviews_features['helpfulness'])"
   ]
  },
  {
   "cell_type": "code",
   "execution_count": 29,
   "metadata": {
    "collapsed": false
   },
   "outputs": [
    {
     "data": {
      "text/plain": [
       "array([[ nan,  nan],\n",
       "       [ nan,  nan]])"
      ]
     },
     "execution_count": 29,
     "metadata": {},
     "output_type": "execute_result"
    }
   ],
   "source": [
    "np.corrcoef(reviews_features['ConnectiveIncidence'],reviews_features['helpfulness'])"
   ]
  },
  {
   "cell_type": "code",
   "execution_count": 30,
   "metadata": {
    "collapsed": false
   },
   "outputs": [
    {
     "data": {
      "text/plain": [
       "array([[ nan,  nan],\n",
       "       [ nan,  nan]])"
      ]
     },
     "execution_count": 30,
     "metadata": {},
     "output_type": "execute_result"
    }
   ],
   "source": [
    "np.corrcoef(reviews_features['ConnectiveTemporalIncidence'],reviews_features['helpfulness'])"
   ]
  },
  {
   "cell_type": "code",
   "execution_count": 31,
   "metadata": {
    "collapsed": false
   },
   "outputs": [
    {
     "data": {
      "text/plain": [
       "array([[  1.,  nan],\n",
       "       [ nan,  nan]])"
      ]
     },
     "execution_count": 31,
     "metadata": {},
     "output_type": "execute_result"
    }
   ],
   "source": [
    "np.corrcoef(reviews_features['avg_word_per_sentence'],reviews_features['helpfulness'])"
   ]
  },
  {
   "cell_type": "markdown",
   "metadata": {},
   "source": [
    "### 4.2 Correlação de Spearman"
   ]
  },
  {
   "cell_type": "code",
   "execution_count": 32,
   "metadata": {
    "collapsed": false
   },
   "outputs": [
    {
     "data": {
      "text/plain": [
       "(0.10545961943935618, 2.3168441837306903e-80)"
      ]
     },
     "execution_count": 32,
     "metadata": {},
     "output_type": "execute_result"
    }
   ],
   "source": [
    "spearmanr(reviews_features['sentence_count'],reviews_features['helpfulness'])"
   ]
  },
  {
   "cell_type": "code",
   "execution_count": 33,
   "metadata": {
    "collapsed": false
   },
   "outputs": [
    {
     "data": {
      "text/plain": [
       "(0.090230424292761971, 3.0799223910366605e-59)"
      ]
     },
     "execution_count": 33,
     "metadata": {},
     "output_type": "execute_result"
    }
   ],
   "source": [
    "spearmanr(reviews_features['word_count'],reviews_features['helpfulness'])"
   ]
  },
  {
   "cell_type": "code",
   "execution_count": 34,
   "metadata": {
    "collapsed": false
   },
   "outputs": [
    {
     "data": {
      "text/plain": [
       "(0.098541967780139836, 2.3598082202166365e-70)"
      ]
     },
     "execution_count": 34,
     "metadata": {},
     "output_type": "execute_result"
    }
   ],
   "source": [
    "spearmanr(reviews_features['syllable_count'],reviews_features['helpfulness'])"
   ]
  },
  {
   "cell_type": "code",
   "execution_count": 35,
   "metadata": {
    "collapsed": false
   },
   "outputs": [
    {
     "data": {
      "text/plain": [
       "(0.047503960351871009, 1.435810914280146e-17)"
      ]
     },
     "execution_count": 35,
     "metadata": {},
     "output_type": "execute_result"
    }
   ],
   "source": [
    "spearmanr(reviews_features['avg_syllables_per_word'],reviews_features['helpfulness'])"
   ]
  },
  {
   "cell_type": "code",
   "execution_count": 36,
   "metadata": {
    "collapsed": false
   },
   "outputs": [
    {
     "data": {
      "text/plain": [
       "(0.029224593366063773, 1.5442845280301776e-07)"
      ]
     },
     "execution_count": 36,
     "metadata": {},
     "output_type": "execute_result"
    }
   ],
   "source": [
    "spearmanr(reviews_features['stars'],reviews_features['helpfulness'])"
   ]
  },
  {
   "cell_type": "markdown",
   "metadata": {},
   "source": [
    "### 4.3 Correlações Combinadas"
   ]
  },
  {
   "cell_type": "code",
   "execution_count": 37,
   "metadata": {
    "collapsed": true
   },
   "outputs": [],
   "source": [
    "## função para combinar colunas\n",
    "def sentPword(x): \n",
    "    try:\n",
    "        return float(x['sentence_count']) + float(x['word_count'])\n",
    "    except:\n",
    "        return 0\n",
    "reviews_features['sent_word_count'] = reviews_features.apply(sentPword,axis=1)"
   ]
  },
  {
   "cell_type": "code",
   "execution_count": 42,
   "metadata": {
    "collapsed": false
   },
   "outputs": [
    {
     "data": {
      "text/plain": [
       "(0.0029976547849821771, 0.59050291798780197)"
      ]
     },
     "execution_count": 42,
     "metadata": {},
     "output_type": "execute_result"
    }
   ],
   "source": [
    "spearmanr(reviews_features['avg_word_per_sentence'],reviews_features['helpfulness'])"
   ]
  },
  {
   "cell_type": "markdown",
   "metadata": {},
   "source": [
    "## 5. Análises no Weka"
   ]
  },
  {
   "cell_type": "markdown",
   "metadata": {},
   "source": [
    "### 5.1 Ranker + ReliefAttributeEval , target helpfulness"
   ]
  },
  {
   "cell_type": "code",
   "execution_count": 40,
   "metadata": {
    "collapsed": false
   },
   "outputs": [
    {
     "data": {
      "text/html": [
       "<style> table {float:left} </style>"
      ],
      "text/plain": [
       "<IPython.core.display.HTML object>"
      ]
     },
     "metadata": {},
     "output_type": "display_data"
    }
   ],
   "source": [
    "%%html\n",
    "<style> table {float:left} </style>"
   ]
  },
  {
   "cell_type": "markdown",
   "metadata": {},
   "source": [
    "score | attribute\n",
    " :- |-------------:\n",
    "0.5264773 | thumbsdown\n",
    "0.4941516 | thumbsup\n",
    "0.0000933 | ConnectiveAdditiveIncidence\n",
    "0.0000694 | LogicOrIncidence\n",
    "0  | LogicIfIncidence\n",
    "-0.0000695 | LogicAndIncidence\n",
    "-0.0000768 | ConnectiveLogicIncidence\n",
    "-0.0001056 | percentile_90_word_length\n",
    "-0.0001667 | mean_word_length\n",
    "-0.0001873 | avg_syllables_per_word\n",
    "-0.0003181 | redability\n",
    "-0.0009159 | avg_word_per_sentence\n",
    "-0.0010063 |  mean_sentence_length\n",
    "-0.0010762 | percentile_75_sentence_length\n",
    "-0.0010764 | median_sentence_length\n",
    "-0.0010764 | median_word_length\n",
    "-0.0010764 | percentile_50_sentence_length\n",
    "-0.0011477 | percentile_90_sentence_length\n",
    "-0.0013115 | ConnectiveCasualIncidence\n",
    "-0.0015525 | ConnectiveTemporalIncidence\n",
    "-0.0020459 | advIncidence\n",
    "-0.0021855 | verbIncidence\n",
    "-0.0022928 | LogicNegationIncidence\n",
    "-0.0023062 | LogicOperatorsIncidence\n",
    "-0.0027714 | adjectiveIncidence\n",
    "-0.0028178 | percentile_75_word_length\n",
    "-0.0030587 | syllable_count\n",
    "-0.0030935 | word_count\n",
    "-0.0032031 | contentIncidence\n",
    "-0.0032986 | pronIncidence\n",
    "-0.0033796 | adpPronRatio\n",
    "-0.0036235 | percentile_50_word_length\n",
    "-0.0037293 | functionalIncidence\n",
    "-0.0041076 | percentile_25_word_length\n",
    "-0.0044149 | stars\n",
    "-0.0047208 | sentence_count\n",
    "-0.0051737 | ContentDiversty\n",
    "-0.0054476 | ConnectiveIncidence\n",
    "-0.0055495 | LexicalDiversty\n",
    "-0.0110385 | sentence_sized_30\n",
    "-0.12254 | nounIncidence\n",
    "-0.142444 | percentile_25_sentence_length"
   ]
  }
 ],
 "metadata": {
  "kernelspec": {
   "display_name": "Python 2",
   "language": "python",
   "name": "python2"
  },
  "language_info": {
   "codemirror_mode": {
    "name": "ipython",
    "version": 2
   },
   "file_extension": ".py",
   "mimetype": "text/x-python",
   "name": "python",
   "nbconvert_exporter": "python",
   "pygments_lexer": "ipython2",
   "version": "2.7.6"
  }
 },
 "nbformat": 4,
 "nbformat_minor": 0
}
