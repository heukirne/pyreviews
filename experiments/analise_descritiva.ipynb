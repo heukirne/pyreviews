{
 "cells": [
  {
   "cell_type": "markdown",
   "metadata": {},
   "source": [
    "# Análise Descritiva dos Reviews\n",
    "### Março de 2016"
   ]
  },
  {
   "cell_type": "code",
   "execution_count": 10,
   "metadata": {
    "collapsed": false
   },
   "outputs": [],
   "source": [
    "import sys\n",
    "sys.path.append(\"../pylinguistics/pylinguistics/\")\n",
    "\n",
    "import Pylinguistics as pl\n",
    "import pandas as pd\n",
    "import plotsfunc as pf\n",
    "import numpy as np\n",
    "from scipy.stats import spearmanr\n",
    "%matplotlib inline\n",
    "\n",
    "reviews_features = pd.read_csv('reviews.csv.gz', compression='gzip')"
   ]
  },
  {
   "cell_type": "markdown",
   "metadata": {},
   "source": [
    "## 1. Contagens Básicas"
   ]
  },
  {
   "cell_type": "code",
   "execution_count": 11,
   "metadata": {
    "collapsed": false
   },
   "outputs": [
    {
     "name": "stdout",
     "output_type": "stream",
     "text": [
      "Reviews - Amostragem: 32226\n",
      "Reviews - Total de tokens no corpus: 2103289\n"
     ]
    }
   ],
   "source": [
    "print('Reviews - Amostragem: %i' %len(reviews_features))\n",
    "print('Reviews - Total de tokens no corpus: %i' % sum(reviews_features.word_count))"
   ]
  },
  {
   "cell_type": "markdown",
   "metadata": {},
   "source": [
    "### 1.1 Categorias mais comentadas"
   ]
  },
  {
   "cell_type": "code",
   "execution_count": 12,
   "metadata": {
    "collapsed": false
   },
   "outputs": [
    {
     "data": {
      "text/html": [
       "<div>\n",
       "<table border=\"1\" class=\"dataframe\">\n",
       "  <thead>\n",
       "    <tr style=\"text-align: right;\">\n",
       "      <th></th>\n",
       "      <th>count</th>\n",
       "      <th>mean</th>\n",
       "    </tr>\n",
       "    <tr>\n",
       "      <th>category</th>\n",
       "      <th></th>\n",
       "      <th></th>\n",
       "    </tr>\n",
       "  </thead>\n",
       "  <tbody>\n",
       "    <tr>\n",
       "      <th>TV</th>\n",
       "      <td>5748</td>\n",
       "      <td>69.491997</td>\n",
       "    </tr>\n",
       "    <tr>\n",
       "      <th>Celular e Smartphone</th>\n",
       "      <td>4985</td>\n",
       "      <td>79.095085</td>\n",
       "    </tr>\n",
       "    <tr>\n",
       "      <th>Camera Digital</th>\n",
       "      <td>2243</td>\n",
       "      <td>66.487294</td>\n",
       "    </tr>\n",
       "    <tr>\n",
       "      <th>Notebook</th>\n",
       "      <td>1407</td>\n",
       "      <td>65.659559</td>\n",
       "    </tr>\n",
       "    <tr>\n",
       "      <th>Ar Condicionado</th>\n",
       "      <td>1406</td>\n",
       "      <td>60.781650</td>\n",
       "    </tr>\n",
       "    <tr>\n",
       "      <th>Tablet</th>\n",
       "      <td>1306</td>\n",
       "      <td>67.910413</td>\n",
       "    </tr>\n",
       "    <tr>\n",
       "      <th>Geladeira / Refrigerador</th>\n",
       "      <td>1047</td>\n",
       "      <td>74.074499</td>\n",
       "    </tr>\n",
       "    <tr>\n",
       "      <th>Perfume</th>\n",
       "      <td>959</td>\n",
       "      <td>40.823775</td>\n",
       "    </tr>\n",
       "    <tr>\n",
       "      <th>Maquina de Lavar Roupas</th>\n",
       "      <td>945</td>\n",
       "      <td>82.765079</td>\n",
       "    </tr>\n",
       "    <tr>\n",
       "      <th>Fogao</th>\n",
       "      <td>853</td>\n",
       "      <td>61.997655</td>\n",
       "    </tr>\n",
       "  </tbody>\n",
       "</table>\n",
       "</div>"
      ],
      "text/plain": [
       "                          count       mean\n",
       "category                                  \n",
       "TV                         5748  69.491997\n",
       "Celular e Smartphone       4985  79.095085\n",
       "Camera Digital             2243  66.487294\n",
       "Notebook                   1407  65.659559\n",
       "Ar Condicionado            1406  60.781650\n",
       "Tablet                     1306  67.910413\n",
       "Geladeira / Refrigerador   1047  74.074499\n",
       "Perfume                     959  40.823775\n",
       "Maquina de Lavar Roupas     945  82.765079\n",
       "Fogao                       853  61.997655"
      ]
     },
     "execution_count": 12,
     "metadata": {},
     "output_type": "execute_result"
    }
   ],
   "source": [
    "df_agg = reviews_features[['word_count','category']].groupby(['category']).agg(['count','mean'])\n",
    "df_agg['word_count'].sort_values('count',ascending=False).head(10)"
   ]
  },
  {
   "cell_type": "markdown",
   "metadata": {},
   "source": [
    "### 1.2 Tokens"
   ]
  },
  {
   "cell_type": "code",
   "execution_count": 13,
   "metadata": {
    "collapsed": false
   },
   "outputs": [
    {
     "name": "stderr",
     "output_type": "stream",
     "text": [
      "/usr/lib/pymodules/python2.7/matplotlib/collections.py:548: FutureWarning: elementwise comparison failed; returning scalar instead, but in the future will perform elementwise comparison\n",
      "  if self._edgecolors == 'face':\n"
     ]
    },
    {
     "data": {
      "image/png": "[encoded data removed]",
      "text/plain": [
       "<matplotlib.figure.Figure at 0xad71e62c>"
      ]
     },
     "metadata": {},
     "output_type": "display_data"
    }
   ],
   "source": [
    "pf.comparaMedias(reviews_features,'word_count',['TV','Celular e Smartphone','Camera Digital'])"
   ]
  },
  {
   "cell_type": "markdown",
   "metadata": {},
   "source": [
    "### 1.3 Sentenças"
   ]
  },
  {
   "cell_type": "code",
   "execution_count": 14,
   "metadata": {
    "collapsed": false
   },
   "outputs": [
    {
     "data": {
      "image/png": "[encoded data removed]",
      "text/plain": [
       "<matplotlib.figure.Figure at 0xad664aec>"
      ]
     },
     "metadata": {},
     "output_type": "display_data"
    }
   ],
   "source": [
    "pf.comparaMedias(reviews_features,'sentence_count',['TV','Celular e Smartphone','Camera Digital'])"
   ]
  },
  {
   "cell_type": "markdown",
   "metadata": {},
   "source": [
    "### 1.4 Tokens por sentença"
   ]
  },
  {
   "cell_type": "code",
   "execution_count": 15,
   "metadata": {
    "collapsed": false
   },
   "outputs": [
    {
     "data": {
      "image/png": "[encoded data removed]",
      "text/plain": [
       "<matplotlib.figure.Figure at 0xad48522c>"
      ]
     },
     "metadata": {},
     "output_type": "display_data"
    }
   ],
   "source": [
    "pf.comparaMedias(reviews_features,'avg_word_per_sentence',['TV','Celular e Smartphone','Camera Digital'])"
   ]
  },
  {
   "cell_type": "markdown",
   "metadata": {},
   "source": [
    "### 1.5 Sílabas por token"
   ]
  },
  {
   "cell_type": "code",
   "execution_count": 16,
   "metadata": {
    "collapsed": false
   },
   "outputs": [
    {
     "data": {
      "image/png": "[encoded data removed]",
      "text/plain": [
       "<matplotlib.figure.Figure at 0xad4b050c>"
      ]
     },
     "metadata": {},
     "output_type": "display_data"
    }
   ],
   "source": [
    "pf.comparaMedias(reviews_features,'avg_syllables_per_word',['TV','Celular e Smartphone','Camera Digital'])"
   ]
  },
  {
   "cell_type": "code",
   "execution_count": 17,
   "metadata": {
    "collapsed": true
   },
   "outputs": [],
   "source": [
    "mean_tv = reviews_features[reviews_features.category == 'TV'].groupby(['category']).agg(['mean'])\n",
    "mean_cell = reviews_features[reviews_features.category == 'Celular e Smartphone'].groupby(['category']).agg(['mean'])\n",
    "mean_camera = reviews_features[reviews_features.category == 'Camera Digital'].groupby(['category']).agg(['mean'])\n",
    "most_cat = pd.concat([mean_tv, mean_cell, mean_camera])"
   ]
  },
  {
   "cell_type": "markdown",
   "metadata": {},
   "source": [
    "### 1.6 Características Lógicas"
   ]
  },
  {
   "cell_type": "code",
   "execution_count": 18,
   "metadata": {
    "collapsed": false
   },
   "outputs": [
    {
     "data": {
      "text/html": [
       "<div>\n",
       "<table border=\"1\" class=\"dataframe\">\n",
       "  <thead>\n",
       "    <tr>\n",
       "      <th></th>\n",
       "      <th>LogicOperatorsIncidence</th>\n",
       "      <th>LogicIfIncidence</th>\n",
       "      <th>LogicAndIncidence</th>\n",
       "      <th>LogicOrIncidence</th>\n",
       "      <th>LogicNegationIncidence</th>\n",
       "    </tr>\n",
       "    <tr>\n",
       "      <th></th>\n",
       "      <th>mean</th>\n",
       "      <th>mean</th>\n",
       "      <th>mean</th>\n",
       "      <th>mean</th>\n",
       "      <th>mean</th>\n",
       "    </tr>\n",
       "    <tr>\n",
       "      <th>category</th>\n",
       "      <th></th>\n",
       "      <th></th>\n",
       "      <th></th>\n",
       "      <th></th>\n",
       "      <th></th>\n",
       "    </tr>\n",
       "  </thead>\n",
       "  <tbody>\n",
       "    <tr>\n",
       "      <th>TV</th>\n",
       "      <td>65.616748</td>\n",
       "      <td>2.856635</td>\n",
       "      <td>27.689322</td>\n",
       "      <td>1.338335</td>\n",
       "      <td>33.732457</td>\n",
       "    </tr>\n",
       "    <tr>\n",
       "      <th>Celular e Smartphone</th>\n",
       "      <td>65.215880</td>\n",
       "      <td>3.408774</td>\n",
       "      <td>28.573739</td>\n",
       "      <td>1.302160</td>\n",
       "      <td>31.931207</td>\n",
       "    </tr>\n",
       "    <tr>\n",
       "      <th>Camera Digital</th>\n",
       "      <td>65.440287</td>\n",
       "      <td>2.811543</td>\n",
       "      <td>25.931947</td>\n",
       "      <td>1.072281</td>\n",
       "      <td>35.624515</td>\n",
       "    </tr>\n",
       "  </tbody>\n",
       "</table>\n",
       "</div>"
      ],
      "text/plain": [
       "                     LogicOperatorsIncidence LogicIfIncidence  \\\n",
       "                                        mean             mean   \n",
       "category                                                        \n",
       "TV                                 65.616748         2.856635   \n",
       "Celular e Smartphone               65.215880         3.408774   \n",
       "Camera Digital                     65.440287         2.811543   \n",
       "\n",
       "                     LogicAndIncidence LogicOrIncidence LogicNegationIncidence  \n",
       "                                  mean             mean                   mean  \n",
       "category                                                                        \n",
       "TV                           27.689322         1.338335              33.732457  \n",
       "Celular e Smartphone         28.573739         1.302160              31.931207  \n",
       "Camera Digital               25.931947         1.072281              35.624515  "
      ]
     },
     "execution_count": 18,
     "metadata": {},
     "output_type": "execute_result"
    }
   ],
   "source": [
    "most_cat[['LogicOperatorsIncidence','LogicIfIncidence','LogicAndIncidence','LogicOrIncidence','LogicNegationIncidence']]"
   ]
  },
  {
   "cell_type": "markdown",
   "metadata": {},
   "source": [
    "### 1.7 Características Sintáticas"
   ]
  },
  {
   "cell_type": "code",
   "execution_count": 19,
   "metadata": {
    "collapsed": false
   },
   "outputs": [
    {
     "data": {
      "text/html": [
       "<div>\n",
       "<table border=\"1\" class=\"dataframe\">\n",
       "  <thead>\n",
       "    <tr>\n",
       "      <th></th>\n",
       "      <th>pronIncidence</th>\n",
       "      <th>verbIncidence</th>\n",
       "      <th>nounIncidence</th>\n",
       "      <th>adjectiveIncidence</th>\n",
       "      <th>advIncidence</th>\n",
       "    </tr>\n",
       "    <tr>\n",
       "      <th></th>\n",
       "      <th>mean</th>\n",
       "      <th>mean</th>\n",
       "      <th>mean</th>\n",
       "      <th>mean</th>\n",
       "      <th>mean</th>\n",
       "    </tr>\n",
       "    <tr>\n",
       "      <th>category</th>\n",
       "      <th></th>\n",
       "      <th></th>\n",
       "      <th></th>\n",
       "      <th></th>\n",
       "      <th></th>\n",
       "    </tr>\n",
       "  </thead>\n",
       "  <tbody>\n",
       "    <tr>\n",
       "      <th>TV</th>\n",
       "      <td>1.739341</td>\n",
       "      <td>52.328119</td>\n",
       "      <td>612.958787</td>\n",
       "      <td>110.586038</td>\n",
       "      <td>4.431607</td>\n",
       "    </tr>\n",
       "    <tr>\n",
       "      <th>Celular e Smartphone</th>\n",
       "      <td>1.676369</td>\n",
       "      <td>55.065272</td>\n",
       "      <td>604.276461</td>\n",
       "      <td>116.388110</td>\n",
       "      <td>5.401710</td>\n",
       "    </tr>\n",
       "    <tr>\n",
       "      <th>Camera Digital</th>\n",
       "      <td>1.595599</td>\n",
       "      <td>51.031340</td>\n",
       "      <td>604.530377</td>\n",
       "      <td>113.674527</td>\n",
       "      <td>4.239591</td>\n",
       "    </tr>\n",
       "  </tbody>\n",
       "</table>\n",
       "</div>"
      ],
      "text/plain": [
       "                     pronIncidence verbIncidence nounIncidence  \\\n",
       "                              mean          mean          mean   \n",
       "category                                                         \n",
       "TV                        1.739341     52.328119    612.958787   \n",
       "Celular e Smartphone      1.676369     55.065272    604.276461   \n",
       "Camera Digital            1.595599     51.031340    604.530377   \n",
       "\n",
       "                     adjectiveIncidence advIncidence  \n",
       "                                   mean         mean  \n",
       "category                                              \n",
       "TV                           110.586038     4.431607  \n",
       "Celular e Smartphone         116.388110     5.401710  \n",
       "Camera Digital               113.674527     4.239591  "
      ]
     },
     "execution_count": 19,
     "metadata": {},
     "output_type": "execute_result"
    }
   ],
   "source": [
    "most_cat[['pronIncidence','verbIncidence','nounIncidence','adjectiveIncidence','advIncidence']]"
   ]
  },
  {
   "cell_type": "markdown",
   "metadata": {},
   "source": [
    "### 1.8 Outras Características"
   ]
  },
  {
   "cell_type": "code",
   "execution_count": 20,
   "metadata": {
    "collapsed": false
   },
   "outputs": [
    {
     "data": {
      "text/html": [
       "<div>\n",
       "<table border=\"1\" class=\"dataframe\">\n",
       "  <thead>\n",
       "    <tr>\n",
       "      <th></th>\n",
       "      <th>LexicalDiversty</th>\n",
       "      <th>ContentDiversty</th>\n",
       "      <th>ConnectiveTemporalIncidence</th>\n",
       "      <th>ConnectiveCasualIncidence</th>\n",
       "    </tr>\n",
       "    <tr>\n",
       "      <th></th>\n",
       "      <th>mean</th>\n",
       "      <th>mean</th>\n",
       "      <th>mean</th>\n",
       "      <th>mean</th>\n",
       "    </tr>\n",
       "    <tr>\n",
       "      <th>category</th>\n",
       "      <th></th>\n",
       "      <th></th>\n",
       "      <th></th>\n",
       "      <th></th>\n",
       "    </tr>\n",
       "  </thead>\n",
       "  <tbody>\n",
       "    <tr>\n",
       "      <th>TV</th>\n",
       "      <td>0.749240</td>\n",
       "      <td>0.797425</td>\n",
       "      <td>0.503537</td>\n",
       "      <td>0.149189</td>\n",
       "    </tr>\n",
       "    <tr>\n",
       "      <th>Celular e Smartphone</th>\n",
       "      <td>0.741338</td>\n",
       "      <td>0.793429</td>\n",
       "      <td>0.376773</td>\n",
       "      <td>0.049271</td>\n",
       "    </tr>\n",
       "    <tr>\n",
       "      <th>Camera Digital</th>\n",
       "      <td>0.748507</td>\n",
       "      <td>0.798338</td>\n",
       "      <td>0.316019</td>\n",
       "      <td>0.121617</td>\n",
       "    </tr>\n",
       "  </tbody>\n",
       "</table>\n",
       "</div>"
      ],
      "text/plain": [
       "                     LexicalDiversty ContentDiversty  \\\n",
       "                                mean            mean   \n",
       "category                                               \n",
       "TV                          0.749240        0.797425   \n",
       "Celular e Smartphone        0.741338        0.793429   \n",
       "Camera Digital              0.748507        0.798338   \n",
       "\n",
       "                     ConnectiveTemporalIncidence ConnectiveCasualIncidence  \n",
       "                                            mean                      mean  \n",
       "category                                                                    \n",
       "TV                                      0.503537                  0.149189  \n",
       "Celular e Smartphone                    0.376773                  0.049271  \n",
       "Camera Digital                          0.316019                  0.121617  "
      ]
     },
     "execution_count": 20,
     "metadata": {},
     "output_type": "execute_result"
    }
   ],
   "source": [
    "most_cat[['LexicalDiversty','ContentDiversty','ConnectiveTemporalIncidence','ConnectiveCasualIncidence']]"
   ]
  },
  {
   "cell_type": "markdown",
   "metadata": {},
   "source": [
    "## 2. Inteligibilidade"
   ]
  },
  {
   "cell_type": "code",
   "execution_count": 21,
   "metadata": {
    "collapsed": false
   },
   "outputs": [
    {
     "data": {
      "image/png": "[encoded data removed]",
      "text/plain": [
       "<matplotlib.figure.Figure at 0xad4b6dac>"
      ]
     },
     "metadata": {},
     "output_type": "display_data"
    }
   ],
   "source": [
    "pf.comparaMedias(reviews_features,'redability',['TV','Celular e Smartphone','Camera Digital'])"
   ]
  },
  {
   "cell_type": "markdown",
   "metadata": {},
   "source": [
    "## 3. Helpfulness"
   ]
  },
  {
   "cell_type": "code",
   "execution_count": 22,
   "metadata": {
    "collapsed": true
   },
   "outputs": [],
   "source": [
    "## adiciona coluna de helpfulness no corpus\n",
    "def helpf(x): \n",
    "    try:\n",
    "        return float ( float(x['thumbsup']) / (float(x['thumbsup']) + float(x['thumbsdown'])) )\n",
    "    except:\n",
    "        return 0\n",
    "reviews_features['helpfulness'] = reviews_features.apply(helpf,axis=1)\n",
    "## para usar no weka\n",
    "## reviews_features.to_csv('reviews-help.csv',encoding='utf-8')"
   ]
  },
  {
   "cell_type": "markdown",
   "metadata": {},
   "source": [
    "## 4. Correlações"
   ]
  },
  {
   "cell_type": "code",
   "execution_count": 23,
   "metadata": {
    "collapsed": false
   },
   "outputs": [
    {
     "data": {
      "image/png": "[encoded data removed]",
      "text/plain": [
       "<matplotlib.figure.Figure at 0xad60e4ac>"
      ]
     },
     "metadata": {},
     "output_type": "display_data"
    }
   ],
   "source": [
    "pf.plot_corr(reviews_features)"
   ]
  },
  {
   "cell_type": "markdown",
   "metadata": {},
   "source": [
    "### 4.1 Correlação de Pearson sobre Helpfulness"
   ]
  },
  {
   "cell_type": "code",
   "execution_count": 24,
   "metadata": {
    "collapsed": false
   },
   "outputs": [
    {
     "data": {
      "text/plain": [
       "array([[ 1.        ,  0.14181221],\n",
       "       [ 0.14181221,  1.        ]])"
      ]
     },
     "execution_count": 24,
     "metadata": {},
     "output_type": "execute_result"
    }
   ],
   "source": [
    "np.corrcoef(reviews_features['sentence_count'],reviews_features['helpfulness'])"
   ]
  },
  {
   "cell_type": "code",
   "execution_count": 25,
   "metadata": {
    "collapsed": false
   },
   "outputs": [
    {
     "data": {
      "text/plain": [
       "array([[ 1.        ,  0.12937658],\n",
       "       [ 0.12937658,  1.        ]])"
      ]
     },
     "execution_count": 25,
     "metadata": {},
     "output_type": "execute_result"
    }
   ],
   "source": [
    "np.corrcoef(reviews_features['word_count'],reviews_features['helpfulness'])"
   ]
  },
  {
   "cell_type": "code",
   "execution_count": 26,
   "metadata": {
    "collapsed": false
   },
   "outputs": [
    {
     "data": {
      "text/plain": [
       "array([[ 1.        ,  0.13650037],\n",
       "       [ 0.13650037,  1.        ]])"
      ]
     },
     "execution_count": 26,
     "metadata": {},
     "output_type": "execute_result"
    }
   ],
   "source": [
    "np.corrcoef(reviews_features['syllable_count'],reviews_features['helpfulness'])"
   ]
  },
  {
   "cell_type": "code",
   "execution_count": 27,
   "metadata": {
    "collapsed": false
   },
   "outputs": [
    {
     "data": {
      "text/plain": [
       "array([[ 1.        ,  0.02022862],\n",
       "       [ 0.02022862,  1.        ]])"
      ]
     },
     "execution_count": 27,
     "metadata": {},
     "output_type": "execute_result"
    }
   ],
   "source": [
    "np.corrcoef(reviews_features['avg_syllables_per_word'],reviews_features['helpfulness'])"
   ]
  },
  {
   "cell_type": "code",
   "execution_count": 28,
   "metadata": {
    "collapsed": false
   },
   "outputs": [
    {
     "data": {
      "text/plain": [
       "array([[ 1.        ,  0.01381401],\n",
       "       [ 0.01381401,  1.        ]])"
      ]
     },
     "execution_count": 28,
     "metadata": {},
     "output_type": "execute_result"
    }
   ],
   "source": [
    "np.corrcoef(reviews_features['stars'],reviews_features['helpfulness'])"
   ]
  },
  {
   "cell_type": "code",
   "execution_count": 29,
   "metadata": {
    "collapsed": false
   },
   "outputs": [
    {
     "data": {
      "text/plain": [
       "array([[ 1.      ,  0.007919],\n",
       "       [ 0.007919,  1.      ]])"
      ]
     },
     "execution_count": 29,
     "metadata": {},
     "output_type": "execute_result"
    }
   ],
   "source": [
    "np.corrcoef(reviews_features['LogicIfIncidence'],reviews_features['helpfulness'])"
   ]
  },
  {
   "cell_type": "code",
   "execution_count": 30,
   "metadata": {
    "collapsed": false
   },
   "outputs": [
    {
     "data": {
      "text/plain": [
       "array([[ 1.       , -0.0217736],\n",
       "       [-0.0217736,  1.       ]])"
      ]
     },
     "execution_count": 30,
     "metadata": {},
     "output_type": "execute_result"
    }
   ],
   "source": [
    "np.corrcoef(reviews_features['ConnectiveIncidence'],reviews_features['helpfulness'])"
   ]
  },
  {
   "cell_type": "code",
   "execution_count": 31,
   "metadata": {
    "collapsed": false
   },
   "outputs": [
    {
     "data": {
      "text/plain": [
       "array([[ 1.        , -0.03607318],\n",
       "       [-0.03607318,  1.        ]])"
      ]
     },
     "execution_count": 31,
     "metadata": {},
     "output_type": "execute_result"
    }
   ],
   "source": [
    "np.corrcoef(reviews_features['ConnectiveTemporalIncidence'],reviews_features['helpfulness'])"
   ]
  },
  {
   "cell_type": "code",
   "execution_count": 32,
   "metadata": {
    "collapsed": false
   },
   "outputs": [
    {
     "data": {
      "text/plain": [
       "array([[ 1.       ,  0.0046235],\n",
       "       [ 0.0046235,  1.       ]])"
      ]
     },
     "execution_count": 32,
     "metadata": {},
     "output_type": "execute_result"
    }
   ],
   "source": [
    "np.corrcoef(reviews_features['avg_word_per_sentence'],reviews_features['helpfulness'])"
   ]
  },
  {
   "cell_type": "markdown",
   "metadata": {},
   "source": [
    "### 4.2 Correlação de Spearman"
   ]
  },
  {
   "cell_type": "code",
   "execution_count": 33,
   "metadata": {
    "collapsed": false
   },
   "outputs": [
    {
     "data": {
      "text/plain": [
       "(0.10539499206271018, 2.8945837761401704e-80)"
      ]
     },
     "execution_count": 33,
     "metadata": {},
     "output_type": "execute_result"
    }
   ],
   "source": [
    "spearmanr(reviews_features['sentence_count'],reviews_features['helpfulness'])"
   ]
  },
  {
   "cell_type": "code",
   "execution_count": 34,
   "metadata": {
    "collapsed": false
   },
   "outputs": [
    {
     "data": {
      "text/plain": [
       "(0.092719123416545327, 1.8364598318225347e-62)"
      ]
     },
     "execution_count": 34,
     "metadata": {},
     "output_type": "execute_result"
    }
   ],
   "source": [
    "spearmanr(reviews_features['word_count'],reviews_features['helpfulness'])"
   ]
  },
  {
   "cell_type": "code",
   "execution_count": 35,
   "metadata": {
    "collapsed": false
   },
   "outputs": [
    {
     "data": {
      "text/plain": [
       "(0.10349261765617228, 1.9087412237240529e-77)"
      ]
     },
     "execution_count": 35,
     "metadata": {},
     "output_type": "execute_result"
    }
   ],
   "source": [
    "spearmanr(reviews_features['syllable_count'],reviews_features['helpfulness'])"
   ]
  },
  {
   "cell_type": "code",
   "execution_count": 36,
   "metadata": {
    "collapsed": false
   },
   "outputs": [
    {
     "data": {
      "text/plain": [
       "(0.03692347543479739, 3.3487172154980535e-11)"
      ]
     },
     "execution_count": 36,
     "metadata": {},
     "output_type": "execute_result"
    }
   ],
   "source": [
    "spearmanr(reviews_features['avg_syllables_per_word'],reviews_features['helpfulness'])"
   ]
  },
  {
   "cell_type": "code",
   "execution_count": 37,
   "metadata": {
    "collapsed": false
   },
   "outputs": [
    {
     "data": {
      "text/plain": [
       "(0.029069664387250106, 1.7953196307180541e-07)"
      ]
     },
     "execution_count": 37,
     "metadata": {},
     "output_type": "execute_result"
    }
   ],
   "source": [
    "spearmanr(reviews_features['stars'],reviews_features['helpfulness'])"
   ]
  },
  {
   "cell_type": "markdown",
   "metadata": {},
   "source": [
    "### 4.3 Correlações Combinadas"
   ]
  },
  {
   "cell_type": "code",
   "execution_count": 38,
   "metadata": {
    "collapsed": true
   },
   "outputs": [],
   "source": [
    "## função para combinar colunas\n",
    "def sentPword(x): \n",
    "    try:\n",
    "        return float(x['sentence_count']) + float(x['word_count'])\n",
    "    except:\n",
    "        return 0\n",
    "reviews_features['sent_word_count'] = reviews_features.apply(sentPword,axis=1)"
   ]
  },
  {
   "cell_type": "code",
   "execution_count": 39,
   "metadata": {
    "collapsed": false
   },
   "outputs": [
    {
     "data": {
      "text/plain": [
       "array([[ 1.       ,  0.0046235],\n",
       "       [ 0.0046235,  1.       ]])"
      ]
     },
     "execution_count": 39,
     "metadata": {},
     "output_type": "execute_result"
    }
   ],
   "source": [
    "np.corrcoef(reviews_features['avg_word_per_sentence'],reviews_features['helpfulness'])"
   ]
  },
  {
   "cell_type": "markdown",
   "metadata": {},
   "source": [
    "## 5. Análises no Weka"
   ]
  },
  {
   "cell_type": "markdown",
   "metadata": {},
   "source": [
    "### 5.1 Ranker + ReliefAttributeEval , target helpfulness"
   ]
  },
  {
   "cell_type": "code",
   "execution_count": 40,
   "metadata": {
    "collapsed": false
   },
   "outputs": [
    {
     "data": {
      "text/html": [
       "<style> table {float:left} </style>"
      ],
      "text/plain": [
       "<IPython.core.display.HTML object>"
      ]
     },
     "metadata": {},
     "output_type": "display_data"
    }
   ],
   "source": [
    "%%html\n",
    "<style> table {float:left} </style>"
   ]
  },
  {
   "cell_type": "markdown",
   "metadata": {},
   "source": [
    "score | attribute\n",
    " :- |-------------:\n",
    " 0.5176086 | thumbsdown\n",
    " 0.472665 | thumbsup\n",
    " 0.0063871 | sentence_count\n",
    " 0.0044643 | word_count\n",
    " 0.0032982 | stars\n",
    " 0.0023554 | syllable_count\n",
    " 0.0016757 | LogicIfIncidence\n",
    " 0.001165 | ConnectiveIncidence\n",
    " 0.0010448 | ContentDiversty\n",
    " 0.0010135 | ConnectiveTemporalIncidence\n",
    " 0.000998 | LogicOrIncidence\n",
    " 0.0008688 | ConnectiveAdditiveIncidence\n",
    " 0.0006316 | LexicalDiversty\n",
    " 0.0005297 | ConnectiveCasualIncidence\n",
    " 0.000465 | avg_word_per_sentence\n",
    " 0.0003471 | LogicAndIncidence\n",
    " 0.000189  |  ConnectiveLogicIncidence\n",
    " 0.0001392  | LogicOperatorsIncidence\n",
    " 0.0000577  | redability"
   ]
  }
 ],
 "metadata": {
  "kernelspec": {
   "display_name": "Python 2",
   "language": "python",
   "name": "python2"
  },
  "language_info": {
   "codemirror_mode": {
    "name": "ipython",
    "version": 2
   },
   "file_extension": ".py",
   "mimetype": "text/x-python",
   "name": "python",
   "nbconvert_exporter": "python",
   "pygments_lexer": "ipython2",
   "version": "2.7.6"
  }
 },
 "nbformat": 4,
 "nbformat_minor": 0
}
