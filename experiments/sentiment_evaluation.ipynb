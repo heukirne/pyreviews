{
 "cells": [
  {
   "cell_type": "markdown",
   "metadata": {},
   "source": [
    "# Regression Model Evaluation\n",
    "### March 2016"
   ]
  },
  {
   "cell_type": "code",
   "execution_count": 1,
   "metadata": {
    "collapsed": true
   },
   "outputs": [],
   "source": [
    "%matplotlib inline\n",
    "import pandas as pd\n",
    "import numpy as np\n",
    "import matplotlib.pyplot as plt\n",
    "from scipy.stats import spearmanr\n",
    "from sklearn.cross_validation import cross_val_score, train_test_split\n",
    "from sklearn.feature_selection import SelectKBest, chi2"
   ]
  },
  {
   "cell_type": "markdown",
   "metadata": {},
   "source": [
    "### define functions"
   ]
  },
  {
   "cell_type": "code",
   "execution_count": 3,
   "metadata": {
    "collapsed": false
   },
   "outputs": [],
   "source": [
    "def thumbsSum(x): \n",
    "    try:\n",
    "        return int(x['thumbsup']) + int(x['thumbsdown']) \n",
    "    except:\n",
    "        return 0\n",
    "\n",
    "def sentiment(x): \n",
    "    if x['stars'] == 5:\n",
    "        return 'favorable'\n",
    "    if x['stars'] == 1:\n",
    "        return 'unfavorable'\n",
    "    else:\n",
    "        return 'mixed'"
   ]
  },
  {
   "cell_type": "markdown",
   "metadata": {},
   "source": [
    "### load buscape reviews"
   ]
  },
  {
   "cell_type": "code",
   "execution_count": 40,
   "metadata": {
    "collapsed": false
   },
   "outputs": [
    {
     "data": {
      "text/plain": [
       "(32226, 49)"
      ]
     },
     "execution_count": 40,
     "metadata": {},
     "output_type": "execute_result"
    }
   ],
   "source": [
    "reviews_features = pd.read_csv('reviews.csv.gz', compression='gzip')\n",
    "#reviews_features = pd.read_csv('amazon-help.csv.gz', compression='gzip')\n",
    "reviews_features['thumbstotal'] = reviews_features.apply(thumbsSum,axis=1)\n",
    "reviews_features['sentiment'] = reviews_features.apply(sentiment,axis=1)\n",
    "reviews_features.shape"
   ]
  },
  {
   "cell_type": "markdown",
   "metadata": {},
   "source": [
    "### filter dataset"
   ]
  },
  {
   "cell_type": "code",
   "execution_count": 41,
   "metadata": {
    "collapsed": false
   },
   "outputs": [
    {
     "data": {
      "text/plain": [
       "(9696, 49)"
      ]
     },
     "execution_count": 41,
     "metadata": {},
     "output_type": "execute_result"
    }
   ],
   "source": [
    "reviews_features = reviews_features[reviews_features.thumbstotal>4]\n",
    "#reviews_features = reviews_features.sample(frac=0.6)\n",
    "reviews_features.shape"
   ]
  },
  {
   "cell_type": "markdown",
   "metadata": {},
   "source": [
    "### split data and class"
   ]
  },
  {
   "cell_type": "code",
   "execution_count": 42,
   "metadata": {
    "collapsed": false
   },
   "outputs": [
    {
     "data": {
      "text/plain": [
       "(9696, 33)"
      ]
     },
     "execution_count": 42,
     "metadata": {},
     "output_type": "execute_result"
    }
   ],
   "source": [
    "# split class and features\n",
    "labels = reviews_features[\"sentiment\"].values\n",
    "reviews_columns = reviews_features.select_dtypes(include=['float64','int']).columns.drop('stars')\n",
    "features = reviews_features[list(reviews_columns)].values\n",
    "\n",
    "# clean features\n",
    "features = np.abs(features)\n",
    "features[np.isnan(features) == True] = 0\n",
    "\n",
    "features.shape"
   ]
  },
  {
   "cell_type": "markdown",
   "metadata": {},
   "source": [
    "## 1. Run 10-fold cross validation over N kbest features"
   ]
  },
  {
   "cell_type": "code",
   "execution_count": 26,
   "metadata": {
    "collapsed": true
   },
   "outputs": [],
   "source": [
    "def cv4kBest(model, feats, labs, cvOpt, loops):\n",
    "    result_list = []\n",
    "    for i in range(1, loops+1):\n",
    "        \n",
    "        kbest_features = SelectKBest(chi2, k=i).fit_transform(feats, labs)\n",
    "        scores = cross_val_score(model, kbest_features, labels, cv=cvOpt, scoring = \"accuracy\")\n",
    "        result_list.append(scores.mean())\n",
    "\n",
    "        print str(i) + ',' + str(scores.mean())\n",
    "        \n",
    "    return result_list"
   ]
  },
  {
   "cell_type": "markdown",
   "metadata": {},
   "source": [
    "###  1.1. for  Gaussian Naive Bayes"
   ]
  },
  {
   "cell_type": "code",
   "execution_count": 27,
   "metadata": {
    "collapsed": false
   },
   "outputs": [
    {
     "name": "stdout",
     "output_type": "stream",
     "text": [
      "1,0.408270078031\n",
      "2,0.446031590187\n",
      "3,0.458796622508\n",
      "4,0.478969805905\n",
      "5,0.481416917643\n",
      "6,0.484392517699\n",
      "7,0.481086754699\n",
      "8,0.477912217116\n",
      "9,0.475465105088\n",
      "10,0.476390637338\n",
      "11,0.471430560204\n",
      "12,0.474406597967\n",
      "13,0.470239690497\n",
      "14,0.470041562026\n",
      "15,0.464155077792\n"
     ]
    }
   ],
   "source": [
    "from sklearn.naive_bayes import GaussianNB\n",
    "\n",
    "gnb_model = GaussianNB()\n",
    "\n",
    "scores_gnb = cv4kBest(gnb_model, features, labels, 5, 15)"
   ]
  },
  {
   "cell_type": "markdown",
   "metadata": {},
   "source": [
    "###  1.1. for Multinomial NB"
   ]
  },
  {
   "cell_type": "code",
   "execution_count": 28,
   "metadata": {
    "collapsed": false
   },
   "outputs": [
    {
     "name": "stdout",
     "output_type": "stream",
     "text": [
      "1,0.419312187654\n",
      "2,0.392264415242\n",
      "3,0.430426317309\n",
      "4,0.443918753265\n",
      "5,0.449937228302\n",
      "6,0.425995974548\n",
      "7,0.427517247975\n",
      "8,0.426856003596\n",
      "9,0.430096678891\n",
      "10,0.431551442924\n",
      "11,0.432080762205\n",
      "12,0.425400386606\n",
      "13,0.426789166234\n",
      "14,0.427450673092\n",
      "15,0.42758294821\n"
     ]
    }
   ],
   "source": [
    "from sklearn.naive_bayes import MultinomialNB\n",
    "\n",
    "mnb_model = MultinomialNB()\n",
    "\n",
    "scores_mnb = cv4kBest(mnb_model, features, labels, 5, 15)"
   ]
  },
  {
   "cell_type": "markdown",
   "metadata": {},
   "source": [
    "###  1.2. forDecision Tree"
   ]
  },
  {
   "cell_type": "code",
   "execution_count": 29,
   "metadata": {
    "collapsed": false
   },
   "outputs": [
    {
     "name": "stdout",
     "output_type": "stream",
     "text": [
      "1,0.389287218503\n",
      "2,0.387500563631\n",
      "3,0.389287612222\n",
      "4,0.40654899295\n",
      "5,0.402514994542\n",
      "6,0.405689423025\n",
      "7,0.399736451016\n",
      "8,0.397289361329\n",
      "9,0.405093156932\n",
      "10,0.406415514738\n",
      "11,0.409920827463\n",
      "12,0.405091954229\n",
      "13,0.405093747671\n",
      "14,0.406878783952\n",
      "15,0.410913547284\n"
     ]
    }
   ],
   "source": [
    "from sklearn.tree import DecisionTreeClassifier\n",
    "\n",
    "tree_model = DecisionTreeClassifier(random_state=0)\n",
    "\n",
    "scores_tree = cv4kBest(tree_model, features, labels, 5, 15)"
   ]
  },
  {
   "cell_type": "markdown",
   "metadata": {},
   "source": [
    "### 1.3 Plot Chart"
   ]
  },
  {
   "cell_type": "code",
   "execution_count": 22,
   "metadata": {
    "collapsed": false
   },
   "outputs": [
    {
     "data": {
      "image/png": "[encoded data removed]",
      "text/plain": [
       "<matplotlib.figure.Figure at 0xaeaba84c>"
      ]
     },
     "metadata": {},
     "output_type": "display_data"
    }
   ],
   "source": [
    "plt.figure()\n",
    "\n",
    "n_features = range(1, 16)\n",
    "\n",
    "plt.plot(n_features, scores_gnb, 'g', label='Gaussian Naive Bayes')\n",
    "plt.plot(n_features, scores_mnb, 'b', label='Multinominal Naive Bayes')\n",
    "plt.plot(n_features, scores_tree, 'r', label='Decision Tree')\n",
    "plt.xlabel('N of Features')\n",
    "plt.ylabel('CV Scores')\n",
    "plt.legend(loc='lower left')\n",
    "plt.legend(bbox_to_anchor=(1.05, 1), loc=2, borderaxespad=0.)\n",
    "\n",
    "plt.title('Regression Model Evaluation for Buscape Reviews')\n",
    "plt.show()"
   ]
  },
  {
   "cell_type": "code",
   "execution_count": 30,
   "metadata": {
    "collapsed": false
   },
   "outputs": [
    {
     "data": {
      "image/png": "[encoded data removed]",
      "text/plain": [
       "<matplotlib.figure.Figure at 0xaeab8cec>"
      ]
     },
     "metadata": {},
     "output_type": "display_data"
    }
   ],
   "source": [
    "plt.figure()\n",
    "\n",
    "n_features = range(1, 16)\n",
    "\n",
    "plt.plot(n_features, scores_gnb, 'g', label='Gaussian Naive Bayes')\n",
    "plt.plot(n_features, scores_mnb, 'b', label='Multinominal Naive Bayes')\n",
    "plt.plot(n_features, scores_tree, 'r', label='Decision Tree')\n",
    "plt.xlabel('N of Features')\n",
    "plt.ylabel('CV Spearmanr Scores')\n",
    "plt.legend(bbox_to_anchor=(1.05, 1), loc=2, borderaxespad=0.)\n",
    "\n",
    "plt.title('Regression Model Evaluation for Amazon Reviews')\n",
    "plt.show()"
   ]
  },
  {
   "cell_type": "markdown",
   "metadata": {},
   "source": [
    "## Naive Bayes Correlation"
   ]
  },
  {
   "cell_type": "code",
   "execution_count": 47,
   "metadata": {
    "collapsed": false
   },
   "outputs": [],
   "source": [
    "gnb_model = GaussianNB()\n",
    "\n",
    "# split mixed subset\n",
    "mixed_reviews = reviews_features[reviews_features.stars > 1]\n",
    "mixed_reviews = mixed_reviews[reviews_features.stars < 5]\n",
    "# split favorable subset\n",
    "favorable_reviews = reviews_features[reviews_features.stars == 5]\n",
    "# split unfavorable subset\n",
    "unfavorable_reviews = reviews_features[reviews_features.stars == 1]\n",
    "\n",
    "df_columns = reviews_features.select_dtypes(include=['float64','int']).columns.drop('stars')"
   ]
  },
  {
   "cell_type": "code",
   "execution_count": 44,
   "metadata": {
    "collapsed": false
   },
   "outputs": [
    {
     "name": "stdout",
     "output_type": "stream",
     "text": [
      "ConnectiveAdditiveIncidence\n",
      "redability\n",
      "mean_sentence_length\n",
      "percentile_75_sentence_length\n",
      "percentile_75_word_length\n",
      "ConnectiveLogicIncidence\n",
      "percentile_90_word_length\n",
      "mean_word_length\n",
      "syllable_count\n",
      "avg_word_per_sentence\n",
      "LogicIfIncidence\n",
      "percentile_50_sentence_length\n",
      "median_sentence_length\n",
      "LogicAndIncidence\n",
      "percentile_90_sentence_length\n",
      "median_word_length\n",
      "pronIncidence\n",
      "LogicOperatorsIncidence\n",
      "percentile_25_word_length\n",
      "ContentDiversty\n",
      "verbIncidence\n",
      "functionalIncidence\n",
      "adjectiveIncidence\n",
      "ConnectiveIncidence\n",
      "contentIncidence\n",
      "LogicNegationIncidence\n",
      "avg_syllables_per_word\n",
      "ConnectiveTemporalIncidence\n",
      "sentence_count\n",
      "ConnectiveCasualIncidence\n",
      "advIncidence\n",
      "LexicalDiversty\n",
      "adpPronRatio\n"
     ]
    }
   ],
   "source": [
    "#compute correlation\n",
    "total_list = []\n",
    "\n",
    "for i in df_columns:\n",
    "    #compute total score\n",
    "    labels = reviews_features[\"sentiment\"].values\n",
    "    features = reviews_features[list([i])].values\n",
    "    scores = cross_val_score(gnb_model, features, labels, cv=5, scoring=\"accuracy\")\n",
    "    total_list.append(scores.mean())\n",
    "    #print status\n",
    "    print i\n",
    "\n",
    "corr_df = pd.DataFrame(data={'total': np.array(total_list)}, index=df_columns)"
   ]
  },
  {
   "cell_type": "code",
   "execution_count": 45,
   "metadata": {
    "collapsed": false
   },
   "outputs": [
    {
     "data": {
      "text/html": [
       "<div>\n",
       "<table border=\"1\" class=\"dataframe\">\n",
       "  <thead>\n",
       "    <tr style=\"text-align: right;\">\n",
       "      <th></th>\n",
       "      <th>total</th>\n",
       "    </tr>\n",
       "  </thead>\n",
       "  <tbody>\n",
       "    <tr>\n",
       "      <th>LexicalDiversty</th>\n",
       "      <td>0.697197</td>\n",
       "    </tr>\n",
       "    <tr>\n",
       "      <th>verbIncidence</th>\n",
       "      <td>0.688945</td>\n",
       "    </tr>\n",
       "    <tr>\n",
       "      <th>contentIncidence</th>\n",
       "      <td>0.686779</td>\n",
       "    </tr>\n",
       "    <tr>\n",
       "      <th>percentile_90_word_length</th>\n",
       "      <td>0.685540</td>\n",
       "    </tr>\n",
       "    <tr>\n",
       "      <th>ConnectiveIncidence</th>\n",
       "      <td>0.684509</td>\n",
       "    </tr>\n",
       "    <tr>\n",
       "      <th>percentile_25_word_length</th>\n",
       "      <td>0.684303</td>\n",
       "    </tr>\n",
       "    <tr>\n",
       "      <th>avg_syllables_per_word</th>\n",
       "      <td>0.684098</td>\n",
       "    </tr>\n",
       "    <tr>\n",
       "      <th>mean_word_length</th>\n",
       "      <td>0.683892</td>\n",
       "    </tr>\n",
       "    <tr>\n",
       "      <th>percentile_75_word_length</th>\n",
       "      <td>0.683684</td>\n",
       "    </tr>\n",
       "    <tr>\n",
       "      <th>syllable_count</th>\n",
       "      <td>0.683375</td>\n",
       "    </tr>\n",
       "    <tr>\n",
       "      <th>pronIncidence</th>\n",
       "      <td>0.681826</td>\n",
       "    </tr>\n",
       "    <tr>\n",
       "      <th>adjectiveIncidence</th>\n",
       "      <td>0.681004</td>\n",
       "    </tr>\n",
       "    <tr>\n",
       "      <th>LogicOperatorsIncidence</th>\n",
       "      <td>0.680591</td>\n",
       "    </tr>\n",
       "    <tr>\n",
       "      <th>sentence_count</th>\n",
       "      <td>0.680280</td>\n",
       "    </tr>\n",
       "    <tr>\n",
       "      <th>LogicNegationIncidence</th>\n",
       "      <td>0.680178</td>\n",
       "    </tr>\n",
       "    <tr>\n",
       "      <th>functionalIncidence</th>\n",
       "      <td>0.680075</td>\n",
       "    </tr>\n",
       "    <tr>\n",
       "      <th>advIncidence</th>\n",
       "      <td>0.679661</td>\n",
       "    </tr>\n",
       "    <tr>\n",
       "      <th>ContentDiversty</th>\n",
       "      <td>0.678322</td>\n",
       "    </tr>\n",
       "    <tr>\n",
       "      <th>percentile_90_sentence_length</th>\n",
       "      <td>0.676568</td>\n",
       "    </tr>\n",
       "    <tr>\n",
       "      <th>redability</th>\n",
       "      <td>0.676362</td>\n",
       "    </tr>\n",
       "    <tr>\n",
       "      <th>percentile_75_sentence_length</th>\n",
       "      <td>0.675846</td>\n",
       "    </tr>\n",
       "    <tr>\n",
       "      <th>mean_sentence_length</th>\n",
       "      <td>0.675537</td>\n",
       "    </tr>\n",
       "    <tr>\n",
       "      <th>median_word_length</th>\n",
       "      <td>0.675434</td>\n",
       "    </tr>\n",
       "    <tr>\n",
       "      <th>median_sentence_length</th>\n",
       "      <td>0.675434</td>\n",
       "    </tr>\n",
       "    <tr>\n",
       "      <th>percentile_50_sentence_length</th>\n",
       "      <td>0.675434</td>\n",
       "    </tr>\n",
       "    <tr>\n",
       "      <th>avg_word_per_sentence</th>\n",
       "      <td>0.674402</td>\n",
       "    </tr>\n",
       "    <tr>\n",
       "      <th>adpPronRatio</th>\n",
       "      <td>0.672647</td>\n",
       "    </tr>\n",
       "    <tr>\n",
       "      <th>ConnectiveCasualIncidence</th>\n",
       "      <td>0.666872</td>\n",
       "    </tr>\n",
       "    <tr>\n",
       "      <th>ConnectiveTemporalIncidence</th>\n",
       "      <td>0.664913</td>\n",
       "    </tr>\n",
       "    <tr>\n",
       "      <th>LogicAndIncidence</th>\n",
       "      <td>0.560528</td>\n",
       "    </tr>\n",
       "    <tr>\n",
       "      <th>ConnectiveLogicIncidence</th>\n",
       "      <td>0.560425</td>\n",
       "    </tr>\n",
       "    <tr>\n",
       "      <th>ConnectiveAdditiveIncidence</th>\n",
       "      <td>0.558775</td>\n",
       "    </tr>\n",
       "    <tr>\n",
       "      <th>LogicIfIncidence</th>\n",
       "      <td>0.248556</td>\n",
       "    </tr>\n",
       "  </tbody>\n",
       "</table>\n",
       "</div>"
      ],
      "text/plain": [
       "                                  total\n",
       "LexicalDiversty                0.697197\n",
       "verbIncidence                  0.688945\n",
       "contentIncidence               0.686779\n",
       "percentile_90_word_length      0.685540\n",
       "ConnectiveIncidence            0.684509\n",
       "percentile_25_word_length      0.684303\n",
       "avg_syllables_per_word         0.684098\n",
       "mean_word_length               0.683892\n",
       "percentile_75_word_length      0.683684\n",
       "syllable_count                 0.683375\n",
       "pronIncidence                  0.681826\n",
       "adjectiveIncidence             0.681004\n",
       "LogicOperatorsIncidence        0.680591\n",
       "sentence_count                 0.680280\n",
       "LogicNegationIncidence         0.680178\n",
       "functionalIncidence            0.680075\n",
       "advIncidence                   0.679661\n",
       "ContentDiversty                0.678322\n",
       "percentile_90_sentence_length  0.676568\n",
       "redability                     0.676362\n",
       "percentile_75_sentence_length  0.675846\n",
       "mean_sentence_length           0.675537\n",
       "median_word_length             0.675434\n",
       "median_sentence_length         0.675434\n",
       "percentile_50_sentence_length  0.675434\n",
       "avg_word_per_sentence          0.674402\n",
       "adpPronRatio                   0.672647\n",
       "ConnectiveCasualIncidence      0.666872\n",
       "ConnectiveTemporalIncidence    0.664913\n",
       "LogicAndIncidence              0.560528\n",
       "ConnectiveLogicIncidence       0.560425\n",
       "ConnectiveAdditiveIncidence    0.558775\n",
       "LogicIfIncidence               0.248556"
      ]
     },
     "execution_count": 45,
     "metadata": {},
     "output_type": "execute_result"
    }
   ],
   "source": [
    "corr_df.sort_values('total',ascending=False)"
   ]
  },
  {
   "cell_type": "code",
   "execution_count": null,
   "metadata": {
    "collapsed": true
   },
   "outputs": [],
   "source": []
  }
 ],
 "metadata": {
  "kernelspec": {
   "display_name": "Python 2",
   "language": "python",
   "name": "python2"
  },
  "language_info": {
   "codemirror_mode": {
    "name": "ipython",
    "version": 2
   },
   "file_extension": ".py",
   "mimetype": "text/x-python",
   "name": "python",
   "nbconvert_exporter": "python",
   "pygments_lexer": "ipython2",
   "version": "2.7.6"
  }
 },
 "nbformat": 4,
 "nbformat_minor": 0
}
