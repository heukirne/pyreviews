{
 "cells": [
  {
   "cell_type": "markdown",
   "metadata": {},
   "source": [
    "# Mineração de Dados\n",
    "### Março 2016"
   ]
  },
  {
   "cell_type": "code",
   "execution_count": 45,
   "metadata": {
    "collapsed": false
   },
   "outputs": [],
   "source": [
    "import sys\n",
    "sys.path.append(\"../pylinguistics/pylinguistics/\")\n",
    "\n",
    "import Pylinguistics as pl\n",
    "import pandas as pd\n",
    "import plotsfunc as pf\n",
    "import numpy as np\n",
    "from scipy.stats import spearmanr\n",
    "\n",
    "%matplotlib inline"
   ]
  },
  {
   "cell_type": "markdown",
   "metadata": {},
   "source": [
    "## Cálculo de Correlação\n",
    "#### baseado em https://github.com/nim4n/genomic_data_mining/blob/master/correlation_calculation.py"
   ]
  },
  {
   "cell_type": "code",
   "execution_count": 58,
   "metadata": {
    "collapsed": false
   },
   "outputs": [],
   "source": [
    "def helpf(x): \n",
    "    try:\n",
    "        return float ( float(x['thumbsup']) / (float(x['thumbsup']) + float(x['thumbsdown'])) )\n",
    "    except:\n",
    "        return 0"
   ]
  },
  {
   "cell_type": "code",
   "execution_count": 61,
   "metadata": {
    "collapsed": false
   },
   "outputs": [],
   "source": [
    "reviews_features = pd.read_csv('reviews.csv.gz', compression='gzip')\n",
    "\n",
    "# create new dict for saving correlation between column and helpfulness\n",
    "corr_dict = {}\n",
    "pearson_list = []\n",
    "spearmanr_list = []\n",
    "reviews_columns = reviews_features.select_dtypes(include=['float64','int']).columns\n",
    "\n",
    "# adiciona coluna de helpfulness no corpus\n",
    "reviews_features['helpfulness'] = reviews_features.apply(helpf,axis=1)\n",
    "\n",
    "# calcula correlacoes\n",
    "for i in reviews_columns:\n",
    "    corr = reviews_features.helpfulness.corr(reviews_features[i])\n",
    "    pearson_list.append(corr)\n",
    "    spearmanr_list.append(spearmanr(reviews_features.helpfulness, reviews_features[i])[0])\n",
    "    corr_dict[i] = corr\n",
    "\n",
    "corr_df = pd.DataFrame(data={'pearson': np.array(pearson_list)}, index=reviews_columns)\n",
    "corr_df['spearmanr'] = spearmanr_list\n",
    "\n",
    "#saving pearson correlation in a numpy file for future use\n",
    "np.save('correlation.npy', corr_dict)"
   ]
  },
  {
   "cell_type": "code",
   "execution_count": 62,
   "metadata": {
    "collapsed": false
   },
   "outputs": [
    {
     "data": {
      "text/html": [
       "<div>\n",
       "<table border=\"1\" class=\"dataframe\">\n",
       "  <thead>\n",
       "    <tr style=\"text-align: right;\">\n",
       "      <th></th>\n",
       "      <th>pearson</th>\n",
       "      <th>spearmanr</th>\n",
       "    </tr>\n",
       "  </thead>\n",
       "  <tbody>\n",
       "    <tr>\n",
       "      <th>sentence_count</th>\n",
       "      <td>0.141733</td>\n",
       "      <td>0.105460</td>\n",
       "    </tr>\n",
       "    <tr>\n",
       "      <th>syllable_count</th>\n",
       "      <td>0.134348</td>\n",
       "      <td>0.098542</td>\n",
       "    </tr>\n",
       "    <tr>\n",
       "      <th>functionalIncidence</th>\n",
       "      <td>0.067938</td>\n",
       "      <td>0.027364</td>\n",
       "    </tr>\n",
       "    <tr>\n",
       "      <th>percentile_90_sentence_length</th>\n",
       "      <td>0.050461</td>\n",
       "      <td>0.042376</td>\n",
       "    </tr>\n",
       "    <tr>\n",
       "      <th>ConnectiveTemporalIncidence</th>\n",
       "      <td>0.030754</td>\n",
       "      <td>0.039276</td>\n",
       "    </tr>\n",
       "    <tr>\n",
       "      <th>percentile_90_word_length</th>\n",
       "      <td>0.029200</td>\n",
       "      <td>0.062258</td>\n",
       "    </tr>\n",
       "    <tr>\n",
       "      <th>percentile_75_word_length</th>\n",
       "      <td>0.027247</td>\n",
       "      <td>0.037398</td>\n",
       "    </tr>\n",
       "    <tr>\n",
       "      <th>percentile_75_sentence_length</th>\n",
       "      <td>0.026271</td>\n",
       "      <td>0.024356</td>\n",
       "    </tr>\n",
       "    <tr>\n",
       "      <th>ConnectiveCasualIncidence</th>\n",
       "      <td>0.023214</td>\n",
       "      <td>0.034393</td>\n",
       "    </tr>\n",
       "    <tr>\n",
       "      <th>adjectiveIncidence</th>\n",
       "      <td>0.022691</td>\n",
       "      <td>0.064751</td>\n",
       "    </tr>\n",
       "    <tr>\n",
       "      <th>avg_syllables_per_word</th>\n",
       "      <td>0.018341</td>\n",
       "      <td>0.047504</td>\n",
       "    </tr>\n",
       "    <tr>\n",
       "      <th>LogicNegationIncidence</th>\n",
       "      <td>0.015664</td>\n",
       "      <td>0.030736</td>\n",
       "    </tr>\n",
       "    <tr>\n",
       "      <th>LogicOperatorsIncidence</th>\n",
       "      <td>0.015539</td>\n",
       "      <td>0.030206</td>\n",
       "    </tr>\n",
       "    <tr>\n",
       "      <th>stars</th>\n",
       "      <td>0.013783</td>\n",
       "      <td>0.029225</td>\n",
       "    </tr>\n",
       "    <tr>\n",
       "      <th>redability</th>\n",
       "      <td>0.013173</td>\n",
       "      <td>0.015024</td>\n",
       "    </tr>\n",
       "    <tr>\n",
       "      <th>mean_sentence_length</th>\n",
       "      <td>0.007937</td>\n",
       "      <td>0.009590</td>\n",
       "    </tr>\n",
       "    <tr>\n",
       "      <th>ConnectiveIncidence</th>\n",
       "      <td>0.002654</td>\n",
       "      <td>0.012757</td>\n",
       "    </tr>\n",
       "    <tr>\n",
       "      <th>ConnectiveAdditiveIncidence</th>\n",
       "      <td>0.001763</td>\n",
       "      <td>0.002035</td>\n",
       "    </tr>\n",
       "    <tr>\n",
       "      <th>avg_word_per_sentence</th>\n",
       "      <td>0.000281</td>\n",
       "      <td>0.002998</td>\n",
       "    </tr>\n",
       "    <tr>\n",
       "      <th>ConnectiveLogicIncidence</th>\n",
       "      <td>-0.001584</td>\n",
       "      <td>-0.002189</td>\n",
       "    </tr>\n",
       "  </tbody>\n",
       "</table>\n",
       "</div>"
      ],
      "text/plain": [
       "                                pearson  spearmanr\n",
       "sentence_count                 0.141733   0.105460\n",
       "syllable_count                 0.134348   0.098542\n",
       "functionalIncidence            0.067938   0.027364\n",
       "percentile_90_sentence_length  0.050461   0.042376\n",
       "ConnectiveTemporalIncidence    0.030754   0.039276\n",
       "percentile_90_word_length      0.029200   0.062258\n",
       "percentile_75_word_length      0.027247   0.037398\n",
       "percentile_75_sentence_length  0.026271   0.024356\n",
       "ConnectiveCasualIncidence      0.023214   0.034393\n",
       "adjectiveIncidence             0.022691   0.064751\n",
       "avg_syllables_per_word         0.018341   0.047504\n",
       "LogicNegationIncidence         0.015664   0.030736\n",
       "LogicOperatorsIncidence        0.015539   0.030206\n",
       "stars                          0.013783   0.029225\n",
       "redability                     0.013173   0.015024\n",
       "mean_sentence_length           0.007937   0.009590\n",
       "ConnectiveIncidence            0.002654   0.012757\n",
       "ConnectiveAdditiveIncidence    0.001763   0.002035\n",
       "avg_word_per_sentence          0.000281   0.002998\n",
       "ConnectiveLogicIncidence      -0.001584  -0.002189"
      ]
     },
     "execution_count": 62,
     "metadata": {},
     "output_type": "execute_result"
    }
   ],
   "source": [
    "corr_df.sort_values('pearson',ascending=False).head(20)"
   ]
  },
  {
   "cell_type": "markdown",
   "metadata": {},
   "source": [
    "## Seleção de Atributos\n",
    "#### basedo em http://scikit-learn.org/stable/modules/feature_selection.html"
   ]
  },
  {
   "cell_type": "code",
   "execution_count": 118,
   "metadata": {
    "collapsed": true
   },
   "outputs": [],
   "source": [
    "def helpabs(x): \n",
    "    try:\n",
    "        return int ( float(x['thumbsup']) * 10 / (float(x['thumbsup']) + float(x['thumbsdown'])) )\n",
    "    except:\n",
    "        return 0"
   ]
  },
  {
   "cell_type": "code",
   "execution_count": 134,
   "metadata": {
    "collapsed": false
   },
   "outputs": [
    {
     "data": {
      "text/plain": [
       "(32226, 34)"
      ]
     },
     "execution_count": 134,
     "metadata": {},
     "output_type": "execute_result"
    }
   ],
   "source": [
    "# reset variables\n",
    "reviews_features = pd.read_csv('reviews.csv.gz', compression='gzip')\n",
    "reviews_columns = reviews_features.select_dtypes(include=['float64','int']).columns\n",
    "reviews_features['helpfulness'] = reviews_features.apply(helpabs,axis=1)\n",
    "\n",
    "# split class and features\n",
    "labels = reviews_features[\"helpfulness\"].values\n",
    "del reviews_features['helpfulness']\n",
    "features = reviews_features[list(reviews_columns)].values\n",
    "\n",
    "# clean features\n",
    "features = np.abs(features)\n",
    "features[np.isnan(features) == True] = 0\n",
    "\n",
    "features.shape"
   ]
  },
  {
   "cell_type": "markdown",
   "metadata": {},
   "source": [
    "### SelectKBest: Univariate feature selection"
   ]
  },
  {
   "cell_type": "code",
   "execution_count": 135,
   "metadata": {
    "collapsed": false
   },
   "outputs": [
    {
     "data": {
      "text/plain": [
       "(32226, 10)"
      ]
     },
     "execution_count": 135,
     "metadata": {},
     "output_type": "execute_result"
    }
   ],
   "source": [
    "# add references\n",
    "from sklearn.feature_selection import SelectKBest\n",
    "from sklearn.feature_selection import chi2\n",
    "\n",
    "new_features = SelectKBest(chi2, k=10).fit_transform(features, labels)\n",
    "new_features.shape "
   ]
  },
  {
   "cell_type": "markdown",
   "metadata": {},
   "source": [
    "### LinearSVC: L1-based feature selection¶"
   ]
  },
  {
   "cell_type": "code",
   "execution_count": 136,
   "metadata": {
    "collapsed": false
   },
   "outputs": [
    {
     "data": {
      "text/plain": [
       "(32226, 30)"
      ]
     },
     "execution_count": 136,
     "metadata": {},
     "output_type": "execute_result"
    }
   ],
   "source": [
    "lsvc = LinearSVC(C=0.01, penalty=\"l1\", dual=False).fit(features, labels)\n",
    "model = SelectFromModel(lsvc, prefit=True)\n",
    "new_features = model.transform(features)\n",
    "new_features.shape"
   ]
  },
  {
   "cell_type": "markdown",
   "metadata": {},
   "source": [
    "### ExtraTreesClassifier: Tree-based feature selection¶"
   ]
  },
  {
   "cell_type": "code",
   "execution_count": 137,
   "metadata": {
    "collapsed": false
   },
   "outputs": [
    {
     "data": {
      "text/plain": [
       "(32226, 23)"
      ]
     },
     "execution_count": 137,
     "metadata": {},
     "output_type": "execute_result"
    }
   ],
   "source": [
    "clf = ExtraTreesClassifier()\n",
    "clf = clf.fit(features, labels)\n",
    "model = SelectFromModel(clf, prefit=True)\n",
    "new_features = model.transform(features)\n",
    "new_features.shape "
   ]
  }
 ],
 "metadata": {
  "kernelspec": {
   "display_name": "Python 2",
   "language": "python",
   "name": "python2"
  },
  "language_info": {
   "codemirror_mode": {
    "name": "ipython",
    "version": 2
   },
   "file_extension": ".py",
   "mimetype": "text/x-python",
   "name": "python",
   "nbconvert_exporter": "python",
   "pygments_lexer": "ipython2",
   "version": "2.7.6"
  }
 },
 "nbformat": 4,
 "nbformat_minor": 0
}
