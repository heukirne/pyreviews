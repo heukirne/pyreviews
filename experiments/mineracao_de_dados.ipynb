{
 "cells": [
  {
   "cell_type": "markdown",
   "metadata": {},
   "source": [
    "# Mineração de Dados\n",
    "### Março 2016"
   ]
  },
  {
   "cell_type": "code",
   "execution_count": 3,
   "metadata": {
    "collapsed": false
   },
   "outputs": [],
   "source": [
    "import sys\n",
    "sys.path.append(\"../pylinguistics/pylinguistics/\")\n",
    "\n",
    "import Pylinguistics as pl\n",
    "import pandas as pd\n",
    "import plotsfunc as pf\n",
    "import numpy as np\n",
    "from scipy.stats import spearmanr\n",
    "\n",
    "%matplotlib inline"
   ]
  },
  {
   "cell_type": "markdown",
   "metadata": {},
   "source": [
    "## Cálculo de Correlação\n",
    "#### baseado em https://github.com/nim4n/genomic_data_mining/blob/master/correlation_calculation.py"
   ]
  },
  {
   "cell_type": "code",
   "execution_count": 10,
   "metadata": {
    "collapsed": false
   },
   "outputs": [],
   "source": [
    "def helpf(x): \n",
    "    try:\n",
    "        return float ( float(x['thumbsup']) / (float(x['thumbsup']) + float(x['thumbsdown'])) )\n",
    "    except:\n",
    "        return 0\n",
    "    \n",
    "def fillnanup(x): \n",
    "    try:\n",
    "        return float(x['thumbsup'])\n",
    "    except:\n",
    "        return 0\n",
    "    \n",
    "def fillnandown(x): \n",
    "    try:\n",
    "        return float(x['thumbsdown'])\n",
    "    except:\n",
    "        return 0"
   ]
  },
  {
   "cell_type": "code",
   "execution_count": 66,
   "metadata": {
    "collapsed": false
   },
   "outputs": [],
   "source": [
    "reviews_features = pd.read_csv('reviews.csv.gz', compression='gzip')\n",
    "\n",
    "# create new dict for saving correlation between column and helpfulness\n",
    "pearson_helpfull_list = []\n",
    "spearmanr_helpfull_list = []\n",
    "pearson_up_list = []\n",
    "spearmanr_up_list = []\n",
    "pearson_down_list = []\n",
    "spearmanr_down_list = []\n",
    "\n",
    "# fix thumbs columns\n",
    "reviews_features['thumbsup'] = reviews_features.apply(fillnanup,axis=1)\n",
    "reviews_features['thumbsdown'] = reviews_features.apply(fillnandown,axis=1)\n",
    "reviews_columns = reviews_features.select_dtypes(include=['float64','int']).columns\n",
    "\n",
    "# adiciona coluna de helpfulness no corpus\n",
    "reviews_features['helpfulness'] = reviews_features.apply(helpf,axis=1)\n",
    "\n",
    "# calcula correlacoes\n",
    "for i in reviews_columns:\n",
    "    pearson_helpfull_list.append(reviews_features.helpfulness.corr(reviews_features[i]))\n",
    "    spearmanr_helpfull_list.append(spearmanr(reviews_features.helpfulness, reviews_features[i])[0])\n",
    "    pearson_up_list.append(reviews_features.thumbsup.corr(reviews_features[i]))\n",
    "    spearmanr_up_list.append(spearmanr(reviews_features.thumbsup, reviews_features[i])[0])\n",
    "    pearson_down_list.append(reviews_features.thumbsdown.corr(reviews_features[i]))\n",
    "    spearmanr_down_list.append(spearmanr(reviews_features.thumbsdown, reviews_features[i])[0])\n",
    "    \n",
    "corr_df = pd.DataFrame(data={'pearson_helpfull': np.array(pearson_helpfull_list)}, index=reviews_columns)\n",
    "corr_df['spearmanr_helpfull'] = spearmanr_helpfull_list\n",
    "corr_df['pearson_up'] = pearson_up_list\n",
    "corr_df['spearmanr_up'] = spearmanr_up_list\n",
    "corr_df['pearson_down'] = pearson_down_list\n",
    "corr_df['spearmanr_down'] = spearmanr_down_list\n",
    "\n",
    "#saving pearson correlation in a numpy file for future use\n",
    "np.save('correlation.npy', corr_df)"
   ]
  },
  {
   "cell_type": "code",
   "execution_count": 67,
   "metadata": {
    "collapsed": false
   },
   "outputs": [
    {
     "data": {
      "text/html": [
       "<div>\n",
       "<table border=\"1\" class=\"dataframe\">\n",
       "  <thead>\n",
       "    <tr style=\"text-align: right;\">\n",
       "      <th></th>\n",
       "      <th>pearson_helpfull</th>\n",
       "      <th>spearmanr_helpfull</th>\n",
       "      <th>pearson_up</th>\n",
       "      <th>spearmanr_up</th>\n",
       "      <th>pearson_down</th>\n",
       "      <th>spearmanr_down</th>\n",
       "    </tr>\n",
       "  </thead>\n",
       "  <tbody>\n",
       "    <tr>\n",
       "      <th>sentence_count</th>\n",
       "      <td>0.141733</td>\n",
       "      <td>0.105460</td>\n",
       "      <td>0.206188</td>\n",
       "      <td>0.285767</td>\n",
       "      <td>0.046840</td>\n",
       "      <td>-0.002055</td>\n",
       "    </tr>\n",
       "    <tr>\n",
       "      <th>syllable_count</th>\n",
       "      <td>0.134348</td>\n",
       "      <td>0.098542</td>\n",
       "      <td>0.218057</td>\n",
       "      <td>0.330940</td>\n",
       "      <td>0.053729</td>\n",
       "      <td>0.020001</td>\n",
       "    </tr>\n",
       "    <tr>\n",
       "      <th>thumbsup</th>\n",
       "      <td>0.111583</td>\n",
       "      <td>0.213016</td>\n",
       "      <td>1.000000</td>\n",
       "      <td>1.000000</td>\n",
       "      <td>0.532544</td>\n",
       "      <td>0.172691</td>\n",
       "    </tr>\n",
       "    <tr>\n",
       "      <th>functionalIncidence</th>\n",
       "      <td>0.067938</td>\n",
       "      <td>0.027364</td>\n",
       "      <td>0.072279</td>\n",
       "      <td>0.091068</td>\n",
       "      <td>0.016081</td>\n",
       "      <td>0.006552</td>\n",
       "    </tr>\n",
       "    <tr>\n",
       "      <th>percentile_90_sentence_length</th>\n",
       "      <td>0.050461</td>\n",
       "      <td>0.042376</td>\n",
       "      <td>0.097291</td>\n",
       "      <td>0.195694</td>\n",
       "      <td>0.031930</td>\n",
       "      <td>0.029446</td>\n",
       "    </tr>\n",
       "    <tr>\n",
       "      <th>ConnectiveTemporalIncidence</th>\n",
       "      <td>0.030754</td>\n",
       "      <td>0.039276</td>\n",
       "      <td>0.013497</td>\n",
       "      <td>0.111303</td>\n",
       "      <td>-0.004567</td>\n",
       "      <td>0.001193</td>\n",
       "    </tr>\n",
       "    <tr>\n",
       "      <th>percentile_90_word_length</th>\n",
       "      <td>0.029200</td>\n",
       "      <td>0.062258</td>\n",
       "      <td>0.008188</td>\n",
       "      <td>0.074663</td>\n",
       "      <td>-0.006464</td>\n",
       "      <td>-0.037430</td>\n",
       "    </tr>\n",
       "    <tr>\n",
       "      <th>percentile_75_word_length</th>\n",
       "      <td>0.027247</td>\n",
       "      <td>0.037398</td>\n",
       "      <td>0.010063</td>\n",
       "      <td>0.028726</td>\n",
       "      <td>-0.010924</td>\n",
       "      <td>-0.029690</td>\n",
       "    </tr>\n",
       "    <tr>\n",
       "      <th>percentile_75_sentence_length</th>\n",
       "      <td>0.026271</td>\n",
       "      <td>0.024356</td>\n",
       "      <td>0.065270</td>\n",
       "      <td>0.147194</td>\n",
       "      <td>0.025491</td>\n",
       "      <td>0.029419</td>\n",
       "    </tr>\n",
       "    <tr>\n",
       "      <th>ConnectiveCasualIncidence</th>\n",
       "      <td>0.023214</td>\n",
       "      <td>0.034393</td>\n",
       "      <td>0.011033</td>\n",
       "      <td>0.107160</td>\n",
       "      <td>-0.003066</td>\n",
       "      <td>0.004731</td>\n",
       "    </tr>\n",
       "    <tr>\n",
       "      <th>adjectiveIncidence</th>\n",
       "      <td>0.022691</td>\n",
       "      <td>0.064751</td>\n",
       "      <td>-0.053766</td>\n",
       "      <td>-0.024516</td>\n",
       "      <td>-0.043407</td>\n",
       "      <td>-0.073442</td>\n",
       "    </tr>\n",
       "    <tr>\n",
       "      <th>avg_syllables_per_word</th>\n",
       "      <td>0.018341</td>\n",
       "      <td>0.047504</td>\n",
       "      <td>-0.016496</td>\n",
       "      <td>0.007896</td>\n",
       "      <td>-0.018045</td>\n",
       "      <td>-0.047954</td>\n",
       "    </tr>\n",
       "    <tr>\n",
       "      <th>LogicNegationIncidence</th>\n",
       "      <td>0.015664</td>\n",
       "      <td>0.030736</td>\n",
       "      <td>0.014753</td>\n",
       "      <td>0.116237</td>\n",
       "      <td>0.004773</td>\n",
       "      <td>0.009552</td>\n",
       "    </tr>\n",
       "    <tr>\n",
       "      <th>LogicOperatorsIncidence</th>\n",
       "      <td>0.015539</td>\n",
       "      <td>0.030206</td>\n",
       "      <td>0.014486</td>\n",
       "      <td>0.115539</td>\n",
       "      <td>0.004627</td>\n",
       "      <td>0.009272</td>\n",
       "    </tr>\n",
       "    <tr>\n",
       "      <th>stars</th>\n",
       "      <td>0.013783</td>\n",
       "      <td>0.029225</td>\n",
       "      <td>-0.090089</td>\n",
       "      <td>-0.119660</td>\n",
       "      <td>-0.064411</td>\n",
       "      <td>-0.070612</td>\n",
       "    </tr>\n",
       "    <tr>\n",
       "      <th>redability</th>\n",
       "      <td>0.013173</td>\n",
       "      <td>0.015024</td>\n",
       "      <td>0.017506</td>\n",
       "      <td>0.051636</td>\n",
       "      <td>0.004842</td>\n",
       "      <td>0.000703</td>\n",
       "    </tr>\n",
       "    <tr>\n",
       "      <th>mean_sentence_length</th>\n",
       "      <td>0.007937</td>\n",
       "      <td>0.009590</td>\n",
       "      <td>0.042489</td>\n",
       "      <td>0.111923</td>\n",
       "      <td>0.021019</td>\n",
       "      <td>0.031001</td>\n",
       "    </tr>\n",
       "    <tr>\n",
       "      <th>ConnectiveIncidence</th>\n",
       "      <td>0.002654</td>\n",
       "      <td>0.012757</td>\n",
       "      <td>0.021826</td>\n",
       "      <td>0.046886</td>\n",
       "      <td>0.020270</td>\n",
       "      <td>0.006924</td>\n",
       "    </tr>\n",
       "    <tr>\n",
       "      <th>ConnectiveAdditiveIncidence</th>\n",
       "      <td>0.001763</td>\n",
       "      <td>0.002035</td>\n",
       "      <td>0.005159</td>\n",
       "      <td>0.020048</td>\n",
       "      <td>0.008649</td>\n",
       "      <td>0.004042</td>\n",
       "    </tr>\n",
       "    <tr>\n",
       "      <th>avg_word_per_sentence</th>\n",
       "      <td>0.000281</td>\n",
       "      <td>0.002998</td>\n",
       "      <td>0.037401</td>\n",
       "      <td>0.102663</td>\n",
       "      <td>0.022528</td>\n",
       "      <td>0.034153</td>\n",
       "    </tr>\n",
       "  </tbody>\n",
       "</table>\n",
       "</div>"
      ],
      "text/plain": [
       "                               pearson_helpfull  spearmanr_helpfull  \\\n",
       "sentence_count                         0.141733            0.105460   \n",
       "syllable_count                         0.134348            0.098542   \n",
       "thumbsup                               0.111583            0.213016   \n",
       "functionalIncidence                    0.067938            0.027364   \n",
       "percentile_90_sentence_length          0.050461            0.042376   \n",
       "ConnectiveTemporalIncidence            0.030754            0.039276   \n",
       "percentile_90_word_length              0.029200            0.062258   \n",
       "percentile_75_word_length              0.027247            0.037398   \n",
       "percentile_75_sentence_length          0.026271            0.024356   \n",
       "ConnectiveCasualIncidence              0.023214            0.034393   \n",
       "adjectiveIncidence                     0.022691            0.064751   \n",
       "avg_syllables_per_word                 0.018341            0.047504   \n",
       "LogicNegationIncidence                 0.015664            0.030736   \n",
       "LogicOperatorsIncidence                0.015539            0.030206   \n",
       "stars                                  0.013783            0.029225   \n",
       "redability                             0.013173            0.015024   \n",
       "mean_sentence_length                   0.007937            0.009590   \n",
       "ConnectiveIncidence                    0.002654            0.012757   \n",
       "ConnectiveAdditiveIncidence            0.001763            0.002035   \n",
       "avg_word_per_sentence                  0.000281            0.002998   \n",
       "\n",
       "                               pearson_up  spearmanr_up  pearson_down  \\\n",
       "sentence_count                   0.206188      0.285767      0.046840   \n",
       "syllable_count                   0.218057      0.330940      0.053729   \n",
       "thumbsup                         1.000000      1.000000      0.532544   \n",
       "functionalIncidence              0.072279      0.091068      0.016081   \n",
       "percentile_90_sentence_length    0.097291      0.195694      0.031930   \n",
       "ConnectiveTemporalIncidence      0.013497      0.111303     -0.004567   \n",
       "percentile_90_word_length        0.008188      0.074663     -0.006464   \n",
       "percentile_75_word_length        0.010063      0.028726     -0.010924   \n",
       "percentile_75_sentence_length    0.065270      0.147194      0.025491   \n",
       "ConnectiveCasualIncidence        0.011033      0.107160     -0.003066   \n",
       "adjectiveIncidence              -0.053766     -0.024516     -0.043407   \n",
       "avg_syllables_per_word          -0.016496      0.007896     -0.018045   \n",
       "LogicNegationIncidence           0.014753      0.116237      0.004773   \n",
       "LogicOperatorsIncidence          0.014486      0.115539      0.004627   \n",
       "stars                           -0.090089     -0.119660     -0.064411   \n",
       "redability                       0.017506      0.051636      0.004842   \n",
       "mean_sentence_length             0.042489      0.111923      0.021019   \n",
       "ConnectiveIncidence              0.021826      0.046886      0.020270   \n",
       "ConnectiveAdditiveIncidence      0.005159      0.020048      0.008649   \n",
       "avg_word_per_sentence            0.037401      0.102663      0.022528   \n",
       "\n",
       "                               spearmanr_down  \n",
       "sentence_count                      -0.002055  \n",
       "syllable_count                       0.020001  \n",
       "thumbsup                             0.172691  \n",
       "functionalIncidence                  0.006552  \n",
       "percentile_90_sentence_length        0.029446  \n",
       "ConnectiveTemporalIncidence          0.001193  \n",
       "percentile_90_word_length           -0.037430  \n",
       "percentile_75_word_length           -0.029690  \n",
       "percentile_75_sentence_length        0.029419  \n",
       "ConnectiveCasualIncidence            0.004731  \n",
       "adjectiveIncidence                  -0.073442  \n",
       "avg_syllables_per_word              -0.047954  \n",
       "LogicNegationIncidence               0.009552  \n",
       "LogicOperatorsIncidence              0.009272  \n",
       "stars                               -0.070612  \n",
       "redability                           0.000703  \n",
       "mean_sentence_length                 0.031001  \n",
       "ConnectiveIncidence                  0.006924  \n",
       "ConnectiveAdditiveIncidence          0.004042  \n",
       "avg_word_per_sentence                0.034153  "
      ]
     },
     "execution_count": 67,
     "metadata": {},
     "output_type": "execute_result"
    }
   ],
   "source": [
    "corr_df.sort_values('pearson_helpfull',ascending=False).head(20)"
   ]
  },
  {
   "cell_type": "markdown",
   "metadata": {},
   "source": [
    "## Seleção de Atributos\n",
    "#### basedo em http://scikit-learn.org/stable/modules/feature_selection.html"
   ]
  },
  {
   "cell_type": "code",
   "execution_count": 13,
   "metadata": {
    "collapsed": true
   },
   "outputs": [],
   "source": [
    "def helpInt(x): \n",
    "    try:\n",
    "        return int ( float(x['thumbsup']) / (float(x['thumbsup']) + float(x['thumbsdown'])) )\n",
    "    except:\n",
    "        return 0"
   ]
  },
  {
   "cell_type": "code",
   "execution_count": 14,
   "metadata": {
    "collapsed": false
   },
   "outputs": [
    {
     "data": {
      "text/plain": [
       "(32226, 34)"
      ]
     },
     "execution_count": 14,
     "metadata": {},
     "output_type": "execute_result"
    }
   ],
   "source": [
    "# reset variables\n",
    "reviews_features = pd.read_csv('reviews.csv.gz', compression='gzip')\n",
    "reviews_columns = reviews_features.select_dtypes(include=['float64','int']).columns\n",
    "reviews_features['helpfulness'] = reviews_features.apply(helpInt,axis=1)\n",
    "\n",
    "# split class and features\n",
    "labels = reviews_features[\"helpfulness\"].values\n",
    "del reviews_features['helpfulness']\n",
    "features = reviews_features[list(reviews_columns)].values\n",
    "\n",
    "# clean features\n",
    "features = np.abs(features)\n",
    "features[np.isnan(features) == True] = 0\n",
    "\n",
    "features.shape"
   ]
  },
  {
   "cell_type": "markdown",
   "metadata": {},
   "source": [
    "### SelectKBest: Univariate feature selection"
   ]
  },
  {
   "cell_type": "code",
   "execution_count": 15,
   "metadata": {
    "collapsed": false
   },
   "outputs": [
    {
     "data": {
      "text/plain": [
       "(32226, 10)"
      ]
     },
     "execution_count": 15,
     "metadata": {},
     "output_type": "execute_result"
    }
   ],
   "source": [
    "# add references\n",
    "from sklearn.feature_selection import SelectKBest\n",
    "from sklearn.feature_selection import chi2\n",
    "\n",
    "new_features = SelectKBest(chi2, k=10).fit_transform(features, labels)\n",
    "new_features.shape "
   ]
  },
  {
   "cell_type": "code",
   "execution_count": 16,
   "metadata": {
    "collapsed": false
   },
   "outputs": [
    {
     "data": {
      "text/plain": [
       "['mean_sentence_length',\n",
       " 'syllable_count',\n",
       " 'avg_word_per_sentence',\n",
       " 'percentile_50_sentence_length',\n",
       " 'median_sentence_length',\n",
       " 'median_word_length',\n",
       " 'percentile_50_sentence_length',\n",
       " 'median_sentence_length',\n",
       " 'median_word_length',\n",
       " 'percentile_50_sentence_length',\n",
       " 'median_sentence_length',\n",
       " 'median_word_length',\n",
       " 'pronIncidence',\n",
       " 'verbIncidence',\n",
       " 'adjectiveIncidence',\n",
       " 'verbIncidence',\n",
       " 'adjectiveIncidence',\n",
       " 'advIncidence']"
      ]
     },
     "execution_count": 16,
     "metadata": {},
     "output_type": "execute_result"
    }
   ],
   "source": [
    "reviews_columns = reviews_features.select_dtypes(include=['float64','int']).columns\n",
    "kbest_columns = []\n",
    "\n",
    "for value in new_features[0]:\n",
    "    for column in reviews_columns:\n",
    "        if reviews_features[column].iloc[0] == value:\n",
    "            kbest_columns.append(column)\n",
    "            \n",
    "kbest_columns"
   ]
  },
  {
   "cell_type": "markdown",
   "metadata": {},
   "source": [
    "### LinearSVC: L1-based feature selection¶"
   ]
  },
  {
   "cell_type": "code",
   "execution_count": 52,
   "metadata": {
    "collapsed": false
   },
   "outputs": [
    {
     "data": {
      "text/plain": [
       "(32226, 32)"
      ]
     },
     "execution_count": 52,
     "metadata": {},
     "output_type": "execute_result"
    }
   ],
   "source": [
    "# add references\n",
    "from sklearn.svm import LinearSVC\n",
    "from sklearn.feature_selection import SelectFromModel\n",
    "\n",
    "lsvc = LinearSVC(C=0.01, penalty=\"l1\", dual=False).fit(features, labels)\n",
    "model = SelectFromModel(lsvc, prefit=True)\n",
    "new_features = model.transform(features)\n",
    "new_features.shape"
   ]
  },
  {
   "cell_type": "markdown",
   "metadata": {},
   "source": [
    "### ExtraTreesClassifier: Tree-based feature selection¶"
   ]
  },
  {
   "cell_type": "code",
   "execution_count": 53,
   "metadata": {
    "collapsed": false
   },
   "outputs": [
    {
     "data": {
      "text/plain": [
       "(32226, 2)"
      ]
     },
     "execution_count": 53,
     "metadata": {},
     "output_type": "execute_result"
    }
   ],
   "source": [
    "# add references\n",
    "from sklearn.ensemble import ExtraTreesClassifier\n",
    "from sklearn.feature_selection import SelectFromModel\n",
    "\n",
    "clf = ExtraTreesClassifier()\n",
    "clf = clf.fit(features, labels)\n",
    "model = SelectFromModel(clf, prefit=True)\n",
    "new_features = model.transform(features)\n",
    "new_features.shape "
   ]
  }
 ],
 "metadata": {
  "kernelspec": {
   "display_name": "Python 2",
   "language": "python",
   "name": "python2"
  },
  "language_info": {
   "codemirror_mode": {
    "name": "ipython",
    "version": 2
   },
   "file_extension": ".py",
   "mimetype": "text/x-python",
   "name": "python",
   "nbconvert_exporter": "python",
   "pygments_lexer": "ipython2",
   "version": "2.7.6"
  }
 },
 "nbformat": 4,
 "nbformat_minor": 0
}
