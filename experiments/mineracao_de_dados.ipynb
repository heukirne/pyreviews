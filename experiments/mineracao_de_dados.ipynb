{
 "cells": [
  {
   "cell_type": "markdown",
   "metadata": {},
   "source": [
    "# Mineração de Dados\n",
    "### Março 2016"
   ]
  },
  {
   "cell_type": "code",
   "execution_count": 1,
   "metadata": {
    "collapsed": false
   },
   "outputs": [],
   "source": [
    "import sys\n",
    "sys.path.append(\"../pylinguistics/pylinguistics/\")\n",
    "\n",
    "import Pylinguistics as pl\n",
    "import pandas as pd\n",
    "import plotsfunc as pf\n",
    "import numpy as np\n",
    "from scipy.stats import spearmanr\n",
    "\n",
    "%matplotlib inline"
   ]
  },
  {
   "cell_type": "markdown",
   "metadata": {},
   "source": [
    "## Cálculo de Correlação\n",
    "#### baseado em https://github.com/nim4n/genomic_data_mining/blob/master/correlation_calculation.py"
   ]
  },
  {
   "cell_type": "code",
   "execution_count": 2,
   "metadata": {
    "collapsed": false
   },
   "outputs": [],
   "source": [
    "def helpf(x): \n",
    "    try:\n",
    "        return float ( float(x['thumbsup']) / (float(x['thumbsup']) + float(x['thumbsdown'])) )\n",
    "    except:\n",
    "        return 0\n",
    "    \n",
    "def fillnanup(x): \n",
    "    try:\n",
    "        return float(x['thumbsup'])\n",
    "    except:\n",
    "        return 0\n",
    "    \n",
    "def fillnandown(x): \n",
    "    try:\n",
    "        return float(x['thumbsdown'])\n",
    "    except:\n",
    "        return 0\n",
    "    \n",
    "def thumbsSum(x): \n",
    "    try:\n",
    "        return int(x['thumbsup']) + int(x['thumbsdown']) \n",
    "    except:\n",
    "        return 0"
   ]
  },
  {
   "cell_type": "code",
   "execution_count": 9,
   "metadata": {
    "collapsed": false
   },
   "outputs": [
    {
     "data": {
      "text/plain": [
       "(9696, 49)"
      ]
     },
     "execution_count": 9,
     "metadata": {},
     "output_type": "execute_result"
    }
   ],
   "source": [
    "reviews_features = pd.read_csv('reviews.csv.gz', compression='gzip')\n",
    "\n",
    "# create new dict for saving correlation between column and helpfulness\n",
    "pearson_helpfull_list = []\n",
    "spearmanr_helpfull_list = []\n",
    "pearson_up_list = []\n",
    "spearmanr_up_list = []\n",
    "pearson_down_list = []\n",
    "spearmanr_down_list = []\n",
    "\n",
    "# fix thumbs columns\n",
    "reviews_columns = reviews_features.select_dtypes(include=['float64','int']).columns\n",
    "reviews_features['thumbsup'] = reviews_features.apply(fillnanup,axis=1)\n",
    "reviews_features['thumbsdown'] = reviews_features.apply(fillnandown,axis=1)\n",
    "\n",
    "# adiciona coluna de helpfulness no corpus\n",
    "reviews_features['helpfulness'] = reviews_features.apply(helpf,axis=1)\n",
    "reviews_features['thumbstotal'] = reviews_features.apply(thumbsSum,axis=1)\n",
    "reviews_features = reviews_features[reviews_features.thumbstotal>4]\n",
    "reviews_features = reviews_features[np.isfinite(reviews_features.helpfulness)]\n",
    "\n",
    "## para usar no weka\n",
    "## reviews_features.to_csv('reviews-help.csv',encoding='utf-8')\n",
    "\n",
    "reviews_features.shape"
   ]
  },
  {
   "cell_type": "code",
   "execution_count": 4,
   "metadata": {
    "collapsed": false
   },
   "outputs": [],
   "source": [
    "# calcula correlacoes\n",
    "for i in reviews_columns:\n",
    "    pearson_helpfull_list.append(reviews_features.helpfulness.corr(reviews_features[i]))\n",
    "    spearmanr_helpfull_list.append(spearmanr(reviews_features.helpfulness, reviews_features[i])[0])\n",
    "    pearson_up_list.append(reviews_features.thumbsup.corr(reviews_features[i]))\n",
    "    spearmanr_up_list.append(spearmanr(reviews_features.thumbsup, reviews_features[i])[0])\n",
    "    pearson_down_list.append(reviews_features.thumbsdown.corr(reviews_features[i]))\n",
    "    spearmanr_down_list.append(spearmanr(reviews_features.thumbsdown, reviews_features[i])[0])\n",
    "    \n",
    "corr_df = pd.DataFrame(data={'pearson_helpfull': np.array(pearson_helpfull_list)}, index=reviews_columns)\n",
    "corr_df['spearmanr_helpfull'] = spearmanr_helpfull_list\n",
    "corr_df['pearson_up'] = pearson_up_list\n",
    "corr_df['spearmanr_up'] = spearmanr_up_list\n",
    "corr_df['pearson_down'] = pearson_down_list\n",
    "corr_df['spearmanr_down'] = spearmanr_down_list\n",
    "\n",
    "#saving pearson correlation in a numpy file for future use\n",
    "#np.save('correlation.npy', corr_df)"
   ]
  },
  {
   "cell_type": "code",
   "execution_count": 5,
   "metadata": {
    "collapsed": false
   },
   "outputs": [
    {
     "data": {
      "text/html": [
       "<div>\n",
       "<table border=\"1\" class=\"dataframe\">\n",
       "  <thead>\n",
       "    <tr style=\"text-align: right;\">\n",
       "      <th></th>\n",
       "      <th>pearson_helpfull</th>\n",
       "      <th>spearmanr_helpfull</th>\n",
       "      <th>pearson_up</th>\n",
       "      <th>spearmanr_up</th>\n",
       "      <th>pearson_down</th>\n",
       "      <th>spearmanr_down</th>\n",
       "    </tr>\n",
       "  </thead>\n",
       "  <tbody>\n",
       "    <tr>\n",
       "      <th>sentence_count</th>\n",
       "      <td>0.233848</td>\n",
       "      <td>0.272718</td>\n",
       "      <td>0.190857</td>\n",
       "      <td>0.287981</td>\n",
       "      <td>-0.035178</td>\n",
       "      <td>-0.134337</td>\n",
       "    </tr>\n",
       "    <tr>\n",
       "      <th>syllable_count</th>\n",
       "      <td>0.232391</td>\n",
       "      <td>0.296291</td>\n",
       "      <td>0.194409</td>\n",
       "      <td>0.323703</td>\n",
       "      <td>-0.039854</td>\n",
       "      <td>-0.141024</td>\n",
       "    </tr>\n",
       "    <tr>\n",
       "      <th>functionalIncidence</th>\n",
       "      <td>0.110437</td>\n",
       "      <td>0.068830</td>\n",
       "      <td>0.084086</td>\n",
       "      <td>0.084159</td>\n",
       "      <td>-0.018186</td>\n",
       "      <td>-0.029111</td>\n",
       "    </tr>\n",
       "    <tr>\n",
       "      <th>percentile_90_sentence_length</th>\n",
       "      <td>0.098786</td>\n",
       "      <td>0.137660</td>\n",
       "      <td>0.077552</td>\n",
       "      <td>0.158846</td>\n",
       "      <td>-0.021252</td>\n",
       "      <td>-0.062589</td>\n",
       "    </tr>\n",
       "    <tr>\n",
       "      <th>percentile_90_word_length</th>\n",
       "      <td>0.075885</td>\n",
       "      <td>0.088339</td>\n",
       "      <td>0.028634</td>\n",
       "      <td>0.074606</td>\n",
       "      <td>-0.026484</td>\n",
       "      <td>-0.055376</td>\n",
       "    </tr>\n",
       "    <tr>\n",
       "      <th>percentile_75_sentence_length</th>\n",
       "      <td>0.060591</td>\n",
       "      <td>0.090048</td>\n",
       "      <td>0.046828</td>\n",
       "      <td>0.109611</td>\n",
       "      <td>-0.013834</td>\n",
       "      <td>-0.040199</td>\n",
       "    </tr>\n",
       "    <tr>\n",
       "      <th>ConnectiveTemporalIncidence</th>\n",
       "      <td>0.051017</td>\n",
       "      <td>0.098355</td>\n",
       "      <td>0.013620</td>\n",
       "      <td>0.086583</td>\n",
       "      <td>-0.017233</td>\n",
       "      <td>-0.057675</td>\n",
       "    </tr>\n",
       "    <tr>\n",
       "      <th>percentile_75_word_length</th>\n",
       "      <td>0.045398</td>\n",
       "      <td>0.058189</td>\n",
       "      <td>0.026592</td>\n",
       "      <td>0.054365</td>\n",
       "      <td>-0.009669</td>\n",
       "      <td>-0.036048</td>\n",
       "    </tr>\n",
       "    <tr>\n",
       "      <th>ConnectiveCasualIncidence</th>\n",
       "      <td>0.042612</td>\n",
       "      <td>0.090680</td>\n",
       "      <td>0.010783</td>\n",
       "      <td>0.079890</td>\n",
       "      <td>-0.014929</td>\n",
       "      <td>-0.053222</td>\n",
       "    </tr>\n",
       "    <tr>\n",
       "      <th>LogicOperatorsIncidence</th>\n",
       "      <td>0.030953</td>\n",
       "      <td>0.116469</td>\n",
       "      <td>0.006677</td>\n",
       "      <td>0.103053</td>\n",
       "      <td>-0.009675</td>\n",
       "      <td>-0.068792</td>\n",
       "    </tr>\n",
       "    <tr>\n",
       "      <th>LogicNegationIncidence</th>\n",
       "      <td>0.030931</td>\n",
       "      <td>0.116632</td>\n",
       "      <td>0.007193</td>\n",
       "      <td>0.103736</td>\n",
       "      <td>-0.009279</td>\n",
       "      <td>-0.068584</td>\n",
       "    </tr>\n",
       "    <tr>\n",
       "      <th>mean_sentence_length</th>\n",
       "      <td>0.027989</td>\n",
       "      <td>0.050927</td>\n",
       "      <td>0.024698</td>\n",
       "      <td>0.070773</td>\n",
       "      <td>-0.007733</td>\n",
       "      <td>-0.019788</td>\n",
       "    </tr>\n",
       "    <tr>\n",
       "      <th>redability</th>\n",
       "      <td>0.023293</td>\n",
       "      <td>0.032544</td>\n",
       "      <td>0.010799</td>\n",
       "      <td>0.027709</td>\n",
       "      <td>-0.009403</td>\n",
       "      <td>-0.022945</td>\n",
       "    </tr>\n",
       "    <tr>\n",
       "      <th>avg_syllables_per_word</th>\n",
       "      <td>0.020403</td>\n",
       "      <td>0.043094</td>\n",
       "      <td>-0.017402</td>\n",
       "      <td>0.008012</td>\n",
       "      <td>-0.015715</td>\n",
       "      <td>-0.043572</td>\n",
       "    </tr>\n",
       "    <tr>\n",
       "      <th>avg_word_per_sentence</th>\n",
       "      <td>0.015030</td>\n",
       "      <td>0.039939</td>\n",
       "      <td>0.019045</td>\n",
       "      <td>0.061702</td>\n",
       "      <td>-0.002699</td>\n",
       "      <td>-0.012676</td>\n",
       "    </tr>\n",
       "    <tr>\n",
       "      <th>median_sentence_length</th>\n",
       "      <td>0.009364</td>\n",
       "      <td>0.015666</td>\n",
       "      <td>0.010430</td>\n",
       "      <td>0.037028</td>\n",
       "      <td>-0.004744</td>\n",
       "      <td>-0.002436</td>\n",
       "    </tr>\n",
       "    <tr>\n",
       "      <th>percentile_50_sentence_length</th>\n",
       "      <td>0.009364</td>\n",
       "      <td>0.015666</td>\n",
       "      <td>0.010430</td>\n",
       "      <td>0.037028</td>\n",
       "      <td>-0.004744</td>\n",
       "      <td>-0.002436</td>\n",
       "    </tr>\n",
       "    <tr>\n",
       "      <th>median_word_length</th>\n",
       "      <td>0.009364</td>\n",
       "      <td>0.015666</td>\n",
       "      <td>0.010430</td>\n",
       "      <td>0.037028</td>\n",
       "      <td>-0.004744</td>\n",
       "      <td>-0.002436</td>\n",
       "    </tr>\n",
       "    <tr>\n",
       "      <th>ConnectiveAdditiveIncidence</th>\n",
       "      <td>0.002669</td>\n",
       "      <td>0.019877</td>\n",
       "      <td>0.001792</td>\n",
       "      <td>0.022081</td>\n",
       "      <td>0.007991</td>\n",
       "      <td>-0.012115</td>\n",
       "    </tr>\n",
       "    <tr>\n",
       "      <th>ConnectiveLogicIncidence</th>\n",
       "      <td>0.001202</td>\n",
       "      <td>0.014339</td>\n",
       "      <td>-0.007349</td>\n",
       "      <td>-0.004921</td>\n",
       "      <td>-0.006057</td>\n",
       "      <td>-0.019908</td>\n",
       "    </tr>\n",
       "  </tbody>\n",
       "</table>\n",
       "</div>"
      ],
      "text/plain": [
       "                               pearson_helpfull  spearmanr_helpfull  \\\n",
       "sentence_count                         0.233848            0.272718   \n",
       "syllable_count                         0.232391            0.296291   \n",
       "functionalIncidence                    0.110437            0.068830   \n",
       "percentile_90_sentence_length          0.098786            0.137660   \n",
       "percentile_90_word_length              0.075885            0.088339   \n",
       "percentile_75_sentence_length          0.060591            0.090048   \n",
       "ConnectiveTemporalIncidence            0.051017            0.098355   \n",
       "percentile_75_word_length              0.045398            0.058189   \n",
       "ConnectiveCasualIncidence              0.042612            0.090680   \n",
       "LogicOperatorsIncidence                0.030953            0.116469   \n",
       "LogicNegationIncidence                 0.030931            0.116632   \n",
       "mean_sentence_length                   0.027989            0.050927   \n",
       "redability                             0.023293            0.032544   \n",
       "avg_syllables_per_word                 0.020403            0.043094   \n",
       "avg_word_per_sentence                  0.015030            0.039939   \n",
       "median_sentence_length                 0.009364            0.015666   \n",
       "percentile_50_sentence_length          0.009364            0.015666   \n",
       "median_word_length                     0.009364            0.015666   \n",
       "ConnectiveAdditiveIncidence            0.002669            0.019877   \n",
       "ConnectiveLogicIncidence               0.001202            0.014339   \n",
       "\n",
       "                               pearson_up  spearmanr_up  pearson_down  \\\n",
       "sentence_count                   0.190857      0.287981     -0.035178   \n",
       "syllable_count                   0.194409      0.323703     -0.039854   \n",
       "functionalIncidence              0.084086      0.084159     -0.018186   \n",
       "percentile_90_sentence_length    0.077552      0.158846     -0.021252   \n",
       "percentile_90_word_length        0.028634      0.074606     -0.026484   \n",
       "percentile_75_sentence_length    0.046828      0.109611     -0.013834   \n",
       "ConnectiveTemporalIncidence      0.013620      0.086583     -0.017233   \n",
       "percentile_75_word_length        0.026592      0.054365     -0.009669   \n",
       "ConnectiveCasualIncidence        0.010783      0.079890     -0.014929   \n",
       "LogicOperatorsIncidence          0.006677      0.103053     -0.009675   \n",
       "LogicNegationIncidence           0.007193      0.103736     -0.009279   \n",
       "mean_sentence_length             0.024698      0.070773     -0.007733   \n",
       "redability                       0.010799      0.027709     -0.009403   \n",
       "avg_syllables_per_word          -0.017402      0.008012     -0.015715   \n",
       "avg_word_per_sentence            0.019045      0.061702     -0.002699   \n",
       "median_sentence_length           0.010430      0.037028     -0.004744   \n",
       "percentile_50_sentence_length    0.010430      0.037028     -0.004744   \n",
       "median_word_length               0.010430      0.037028     -0.004744   \n",
       "ConnectiveAdditiveIncidence      0.001792      0.022081      0.007991   \n",
       "ConnectiveLogicIncidence        -0.007349     -0.004921     -0.006057   \n",
       "\n",
       "                               spearmanr_down  \n",
       "sentence_count                      -0.134337  \n",
       "syllable_count                      -0.141024  \n",
       "functionalIncidence                 -0.029111  \n",
       "percentile_90_sentence_length       -0.062589  \n",
       "percentile_90_word_length           -0.055376  \n",
       "percentile_75_sentence_length       -0.040199  \n",
       "ConnectiveTemporalIncidence         -0.057675  \n",
       "percentile_75_word_length           -0.036048  \n",
       "ConnectiveCasualIncidence           -0.053222  \n",
       "LogicOperatorsIncidence             -0.068792  \n",
       "LogicNegationIncidence              -0.068584  \n",
       "mean_sentence_length                -0.019788  \n",
       "redability                          -0.022945  \n",
       "avg_syllables_per_word              -0.043572  \n",
       "avg_word_per_sentence               -0.012676  \n",
       "median_sentence_length              -0.002436  \n",
       "percentile_50_sentence_length       -0.002436  \n",
       "median_word_length                  -0.002436  \n",
       "ConnectiveAdditiveIncidence         -0.012115  \n",
       "ConnectiveLogicIncidence            -0.019908  "
      ]
     },
     "execution_count": 5,
     "metadata": {},
     "output_type": "execute_result"
    }
   ],
   "source": [
    "corr_df.sort_values('pearson_helpfull',ascending=False).head(20)"
   ]
  },
  {
   "cell_type": "markdown",
   "metadata": {},
   "source": [
    "## Seleção de Atributos\n",
    "#### basedo em http://scikit-learn.org/stable/modules/feature_selection.html"
   ]
  },
  {
   "cell_type": "code",
   "execution_count": 6,
   "metadata": {
    "collapsed": false
   },
   "outputs": [
    {
     "data": {
      "text/plain": [
       "(9696, 34)"
      ]
     },
     "execution_count": 6,
     "metadata": {},
     "output_type": "execute_result"
    }
   ],
   "source": [
    "# split class and features\n",
    "labels = reviews_features[\"helpfulness\"].values\n",
    "del reviews_features['helpfulness']\n",
    "features = reviews_features[list(reviews_columns)].values\n",
    "\n",
    "# clean features\n",
    "features = np.abs(features)\n",
    "features[np.isnan(features) == True] = 0\n",
    "\n",
    "features.shape"
   ]
  },
  {
   "cell_type": "markdown",
   "metadata": {},
   "source": [
    "### SelectKBest: Univariate feature selection"
   ]
  },
  {
   "cell_type": "code",
   "execution_count": 7,
   "metadata": {
    "collapsed": false
   },
   "outputs": [
    {
     "data": {
      "text/plain": [
       "(9696, 15)"
      ]
     },
     "execution_count": 7,
     "metadata": {},
     "output_type": "execute_result"
    }
   ],
   "source": [
    "# add references\n",
    "from sklearn.feature_selection import SelectKBest, f_regression\n",
    "\n",
    "new_features = SelectKBest(f_regression, k=15).fit_transform(features, labels)\n",
    "new_features.shape "
   ]
  },
  {
   "cell_type": "code",
   "execution_count": 8,
   "metadata": {
    "collapsed": false
   },
   "outputs": [
    {
     "data": {
      "text/plain": [
       "['percentile_75_sentence_length',\n",
       " 'percentile_90_word_length',\n",
       " 'stars',\n",
       " 'syllable_count',\n",
       " 'percentile_90_sentence_length',\n",
       " 'pronIncidence',\n",
       " 'ConnectiveAdditiveIncidence',\n",
       " 'ConnectiveLogicIncidence',\n",
       " 'LogicIfIncidence',\n",
       " 'LogicAndIncidence',\n",
       " 'LogicOperatorsIncidence',\n",
       " 'percentile_25_word_length',\n",
       " 'LogicNegationIncidence',\n",
       " 'ConnectiveTemporalIncidence',\n",
       " 'ConnectiveCasualIncidence',\n",
       " 'ContentDiversty',\n",
       " 'verbIncidence',\n",
       " 'functionalIncidence',\n",
       " 'contentIncidence',\n",
       " 'ConnectiveAdditiveIncidence',\n",
       " 'ConnectiveLogicIncidence',\n",
       " 'LogicIfIncidence',\n",
       " 'LogicAndIncidence',\n",
       " 'LogicOperatorsIncidence',\n",
       " 'percentile_25_word_length',\n",
       " 'LogicNegationIncidence',\n",
       " 'ConnectiveTemporalIncidence',\n",
       " 'ConnectiveCasualIncidence',\n",
       " 'sentence_count',\n",
       " 'advIncidence',\n",
       " 'LexicalDiversty',\n",
       " 'adpPronRatio']"
      ]
     },
     "execution_count": 8,
     "metadata": {},
     "output_type": "execute_result"
    }
   ],
   "source": [
    "reviews_columns = reviews_features.select_dtypes(include=['float64','int']).columns\n",
    "kbest_columns = []\n",
    "\n",
    "for value in new_features[0]:\n",
    "    for column in reviews_columns:\n",
    "        if reviews_features[column].iloc[0] == value:\n",
    "            kbest_columns.append(column)\n",
    "            \n",
    "kbest_columns"
   ]
  }
 ],
 "metadata": {
  "kernelspec": {
   "display_name": "Python 2",
   "language": "python",
   "name": "python2"
  },
  "language_info": {
   "codemirror_mode": {
    "name": "ipython",
    "version": 2
   },
   "file_extension": ".py",
   "mimetype": "text/x-python",
   "name": "python",
   "nbconvert_exporter": "python",
   "pygments_lexer": "ipython2",
   "version": "2.7.6"
  }
 },
 "nbformat": 4,
 "nbformat_minor": 0
}
