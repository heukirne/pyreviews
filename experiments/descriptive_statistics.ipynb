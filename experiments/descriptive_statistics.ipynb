{
 "cells": [
  {
   "cell_type": "markdown",
   "metadata": {},
   "source": [
    "# Descriptive Statistics\n",
    "### base on Chua, Alton Y.K. and Banerjee, Snehasish 2015\n",
    "#### http://onlinelibrary.wiley.com/doi/10.1002/asi.23180/abstract"
   ]
  },
  {
   "cell_type": "code",
   "execution_count": 26,
   "metadata": {
    "collapsed": false
   },
   "outputs": [],
   "source": [
    "import sys\n",
    "sys.path.append(\"../pylinguistics/pylinguistics/\")\n",
    "\n",
    "import Pylinguistics as pl\n",
    "import pandas as pd\n",
    "import plotsfunc as pf\n",
    "import numpy as np\n",
    "from scipy.stats import spearmanr\n",
    "%matplotlib inline\n",
    "\n",
    "reviews_features = pd.read_csv('reviews.csv.gz', compression='gzip')"
   ]
  },
  {
   "cell_type": "code",
   "execution_count": 45,
   "metadata": {
    "collapsed": false
   },
   "outputs": [],
   "source": [
    "## adiciona coluna de helpfulness no corpus\n",
    "def helpf(x): \n",
    "    try:\n",
    "        return float ( float(x['thumbsup']) / (float(x['thumbsup']) + float(x['thumbsdown'])) )\n",
    "    except:\n",
    "        return 0\n",
    "    \n",
    "def thumbssum(x): \n",
    "    try:\n",
    "        return int(x['thumbsup']) + int(x['thumbsdown']) \n",
    "    except:\n",
    "        return 0\n",
    "    \n",
    "def fillnanup(x): \n",
    "    try:\n",
    "        return float(x['thumbsup'])\n",
    "    except:\n",
    "        return 0\n",
    "    \n",
    "def fillnandown(x): \n",
    "    try:\n",
    "        return float(x['thumbsdown'])\n",
    "    except:\n",
    "        return 0\n",
    "    \n",
    "reviews_features['thumbsup'] = reviews_features.apply(fillnanup,axis=1)\n",
    "reviews_features['thumbsdown'] = reviews_features.apply(fillnandown,axis=1)\n",
    "reviews_features['helpfulness'] = reviews_features.apply(helpf,axis=1)\n",
    "reviews_features['thumbstotal'] = reviews_features.apply(thumbssum,axis=1)"
   ]
  },
  {
   "cell_type": "code",
   "execution_count": 36,
   "metadata": {
    "collapsed": false
   },
   "outputs": [],
   "source": [
    "def mean_data(df):\n",
    "    mean_stats = []\n",
    "    mean_stats.append(df.thumbstotal.mean())\n",
    "    mean_stats.append(df.stars.mean())\n",
    "    mean_stats.append(df.word_count.mean())\n",
    "    mean_stats.append(df.helpfulness.mean())\n",
    "    return mean_stats\n",
    "\n",
    "def std_data(df):\n",
    "    std_stats = []\n",
    "    std_stats.append(df.thumbstotal.std())\n",
    "    std_stats.append(df.stars.std())\n",
    "    std_stats.append(df.word_count.std())\n",
    "    std_stats.append(df.helpfulness.std())\n",
    "    return std_stats\n",
    "\n",
    "columns = ['TOT','RAT','DEP','HEL']\n",
    "\n",
    "stats = pd.DataFrame(data={'mean_full': np.array(mean_data(reviews_features))}, index=columns)\n",
    "\n",
    "stats['std_full'] = std_data(reviews_features)"
   ]
  },
  {
   "cell_type": "code",
   "execution_count": 46,
   "metadata": {
    "collapsed": false
   },
   "outputs": [
    {
     "data": {
      "text/plain": [
       "(32226, 49)"
      ]
     },
     "execution_count": 46,
     "metadata": {},
     "output_type": "execute_result"
    }
   ],
   "source": [
    "# full dataset\n",
    "reviews_features.shape"
   ]
  },
  {
   "cell_type": "code",
   "execution_count": 38,
   "metadata": {
    "collapsed": false
   },
   "outputs": [
    {
     "data": {
      "text/plain": [
       "(16271, 49)"
      ]
     },
     "execution_count": 38,
     "metadata": {},
     "output_type": "execute_result"
    }
   ],
   "source": [
    "# split low DEP dataset\n",
    "low_reviews = reviews_features[reviews_features.word_count <= reviews_features.word_count.median()]\n",
    "low_reviews.shape"
   ]
  },
  {
   "cell_type": "code",
   "execution_count": 39,
   "metadata": {
    "collapsed": false
   },
   "outputs": [
    {
     "data": {
      "text/plain": [
       "(15955, 49)"
      ]
     },
     "execution_count": 39,
     "metadata": {},
     "output_type": "execute_result"
    }
   ],
   "source": [
    "# split high DEP dataset\n",
    "high_reviews = reviews_features[reviews_features.word_count > reviews_features.word_count.median()]\n",
    "high_reviews.shape"
   ]
  },
  {
   "cell_type": "code",
   "execution_count": 44,
   "metadata": {
    "collapsed": false
   },
   "outputs": [],
   "source": [
    "stats['mean_low'] = mean_data(low_reviews)\n",
    "stats['std_low'] = std_data(low_reviews)\n",
    "stats['mean_high'] = mean_data(high_reviews)\n",
    "stats['std_high'] = std_data(high_reviews)"
   ]
  },
  {
   "cell_type": "markdown",
   "metadata": {},
   "source": [
    "## Descriptive Table"
   ]
  },
  {
   "cell_type": "code",
   "execution_count": 43,
   "metadata": {
    "collapsed": false
   },
   "outputs": [
    {
     "data": {
      "text/html": [
       "<div>\n",
       "<table border=\"1\" class=\"dataframe\">\n",
       "  <thead>\n",
       "    <tr style=\"text-align: right;\">\n",
       "      <th></th>\n",
       "      <th>mean_full</th>\n",
       "      <th>std_full</th>\n",
       "      <th>mean_low</th>\n",
       "      <th>std_low</th>\n",
       "      <th>mean_high</th>\n",
       "      <th>std_high</th>\n",
       "    </tr>\n",
       "  </thead>\n",
       "  <tbody>\n",
       "    <tr>\n",
       "      <th>TOT</th>\n",
       "      <td>6.187302</td>\n",
       "      <td>13.557119</td>\n",
       "      <td>4.010325</td>\n",
       "      <td>7.726384</td>\n",
       "      <td>8.407396</td>\n",
       "      <td>17.337848</td>\n",
       "    </tr>\n",
       "    <tr>\n",
       "      <th>RAT</th>\n",
       "      <td>3.823951</td>\n",
       "      <td>1.188895</td>\n",
       "      <td>4.096380</td>\n",
       "      <td>1.055879</td>\n",
       "      <td>3.546161</td>\n",
       "      <td>1.251068</td>\n",
       "    </tr>\n",
       "    <tr>\n",
       "      <th>DEP</th>\n",
       "      <td>59.670049</td>\n",
       "      <td>57.907309</td>\n",
       "      <td>23.922746</td>\n",
       "      <td>10.535257</td>\n",
       "      <td>96.125353</td>\n",
       "      <td>63.463516</td>\n",
       "    </tr>\n",
       "    <tr>\n",
       "      <th>HEL</th>\n",
       "      <td>0.729849</td>\n",
       "      <td>0.377087</td>\n",
       "      <td>0.676410</td>\n",
       "      <td>0.414662</td>\n",
       "      <td>0.784340</td>\n",
       "      <td>0.325555</td>\n",
       "    </tr>\n",
       "  </tbody>\n",
       "</table>\n",
       "</div>"
      ],
      "text/plain": [
       "     mean_full   std_full   mean_low    std_low  mean_high   std_high\n",
       "TOT   6.187302  13.557119   4.010325   7.726384   8.407396  17.337848\n",
       "RAT   3.823951   1.188895   4.096380   1.055879   3.546161   1.251068\n",
       "DEP  59.670049  57.907309  23.922746  10.535257  96.125353  63.463516\n",
       "HEL   0.729849   0.377087   0.676410   0.414662   0.784340   0.325555"
      ]
     },
     "execution_count": 43,
     "metadata": {},
     "output_type": "execute_result"
    }
   ],
   "source": [
    "stats"
   ]
  },
  {
   "cell_type": "markdown",
   "metadata": {},
   "source": [
    "## Correlations"
   ]
  },
  {
   "cell_type": "code",
   "execution_count": 62,
   "metadata": {
    "collapsed": true
   },
   "outputs": [],
   "source": [
    "def corr_table(df):\n",
    "    # create new dict for correlation\n",
    "    pearson_helpfull_list = []\n",
    "    spearmanr_helpfull_list = []\n",
    "    pearson_up_list = []\n",
    "    spearmanr_up_list = []\n",
    "    pearson_down_list = []\n",
    "    spearmanr_down_list = []\n",
    "    \n",
    "    # build columns list\n",
    "    df_columns = df.select_dtypes(include=['float64','int']).columns.drop('helpfulness').drop('thumbsup').drop('thumbsdown')\n",
    "    \n",
    "    #compute correlation\n",
    "    for i in df_columns:\n",
    "        pearson_helpfull_list.append(df.helpfulness.corr(df[i]))\n",
    "        spearmanr_helpfull_list.append(spearmanr(df.helpfulness, df[i])[0])\n",
    "        pearson_up_list.append(df.thumbsup.corr(df[i]))\n",
    "        spearmanr_up_list.append(spearmanr(df.thumbsup, df[i])[0])\n",
    "        pearson_down_list.append(df.thumbsdown.corr(df[i]))\n",
    "        spearmanr_down_list.append(spearmanr(df.thumbsdown, df[i])[0])\n",
    "\n",
    "    corr_df = pd.DataFrame(data={'pearson_helpfull': np.array(pearson_helpfull_list)}, index=df_columns)\n",
    "    corr_df['spearmanr_helpfull'] = spearmanr_helpfull_list\n",
    "    corr_df['pearson_up'] = pearson_up_list\n",
    "    corr_df['spearmanr_up'] = spearmanr_up_list\n",
    "    corr_df['pearson_down'] = pearson_down_list\n",
    "    corr_df['spearmanr_down'] = spearmanr_down_list\n",
    "    return corr_df"
   ]
  },
  {
   "cell_type": "markdown",
   "metadata": {},
   "source": [
    "### Top 10 full dataset correlation"
   ]
  },
  {
   "cell_type": "code",
   "execution_count": 63,
   "metadata": {
    "collapsed": false
   },
   "outputs": [
    {
     "data": {
      "text/html": [
       "<div>\n",
       "<table border=\"1\" class=\"dataframe\">\n",
       "  <thead>\n",
       "    <tr style=\"text-align: right;\">\n",
       "      <th></th>\n",
       "      <th>pearson_helpfull</th>\n",
       "      <th>spearmanr_helpfull</th>\n",
       "      <th>pearson_up</th>\n",
       "      <th>spearmanr_up</th>\n",
       "      <th>pearson_down</th>\n",
       "      <th>spearmanr_down</th>\n",
       "    </tr>\n",
       "  </thead>\n",
       "  <tbody>\n",
       "    <tr>\n",
       "      <th>sentence_count</th>\n",
       "      <td>0.141733</td>\n",
       "      <td>0.105460</td>\n",
       "      <td>0.206188</td>\n",
       "      <td>0.285767</td>\n",
       "      <td>0.046840</td>\n",
       "      <td>-0.002055</td>\n",
       "    </tr>\n",
       "    <tr>\n",
       "      <th>syllable_count</th>\n",
       "      <td>0.134348</td>\n",
       "      <td>0.098542</td>\n",
       "      <td>0.218057</td>\n",
       "      <td>0.330940</td>\n",
       "      <td>0.053729</td>\n",
       "      <td>0.020001</td>\n",
       "    </tr>\n",
       "    <tr>\n",
       "      <th>functionalIncidence</th>\n",
       "      <td>0.067938</td>\n",
       "      <td>0.027364</td>\n",
       "      <td>0.072279</td>\n",
       "      <td>0.091068</td>\n",
       "      <td>0.016081</td>\n",
       "      <td>0.006552</td>\n",
       "    </tr>\n",
       "    <tr>\n",
       "      <th>percentile_90_sentence_length</th>\n",
       "      <td>0.050461</td>\n",
       "      <td>0.042376</td>\n",
       "      <td>0.097291</td>\n",
       "      <td>0.195694</td>\n",
       "      <td>0.031930</td>\n",
       "      <td>0.029446</td>\n",
       "    </tr>\n",
       "    <tr>\n",
       "      <th>ConnectiveTemporalIncidence</th>\n",
       "      <td>0.030754</td>\n",
       "      <td>0.039276</td>\n",
       "      <td>0.013497</td>\n",
       "      <td>0.111303</td>\n",
       "      <td>-0.004567</td>\n",
       "      <td>0.001193</td>\n",
       "    </tr>\n",
       "    <tr>\n",
       "      <th>percentile_90_word_length</th>\n",
       "      <td>0.029200</td>\n",
       "      <td>0.062258</td>\n",
       "      <td>0.008188</td>\n",
       "      <td>0.074663</td>\n",
       "      <td>-0.006464</td>\n",
       "      <td>-0.037430</td>\n",
       "    </tr>\n",
       "    <tr>\n",
       "      <th>percentile_75_word_length</th>\n",
       "      <td>0.027247</td>\n",
       "      <td>0.037398</td>\n",
       "      <td>0.010063</td>\n",
       "      <td>0.028726</td>\n",
       "      <td>-0.010924</td>\n",
       "      <td>-0.029690</td>\n",
       "    </tr>\n",
       "    <tr>\n",
       "      <th>percentile_75_sentence_length</th>\n",
       "      <td>0.026271</td>\n",
       "      <td>0.024356</td>\n",
       "      <td>0.065270</td>\n",
       "      <td>0.147194</td>\n",
       "      <td>0.025491</td>\n",
       "      <td>0.029419</td>\n",
       "    </tr>\n",
       "    <tr>\n",
       "      <th>ConnectiveCasualIncidence</th>\n",
       "      <td>0.023214</td>\n",
       "      <td>0.034393</td>\n",
       "      <td>0.011033</td>\n",
       "      <td>0.107160</td>\n",
       "      <td>-0.003066</td>\n",
       "      <td>0.004731</td>\n",
       "    </tr>\n",
       "    <tr>\n",
       "      <th>adjectiveIncidence</th>\n",
       "      <td>0.022691</td>\n",
       "      <td>0.064751</td>\n",
       "      <td>-0.053766</td>\n",
       "      <td>-0.024516</td>\n",
       "      <td>-0.043407</td>\n",
       "      <td>-0.073442</td>\n",
       "    </tr>\n",
       "  </tbody>\n",
       "</table>\n",
       "</div>"
      ],
      "text/plain": [
       "                               pearson_helpfull  spearmanr_helpfull  \\\n",
       "sentence_count                         0.141733            0.105460   \n",
       "syllable_count                         0.134348            0.098542   \n",
       "functionalIncidence                    0.067938            0.027364   \n",
       "percentile_90_sentence_length          0.050461            0.042376   \n",
       "ConnectiveTemporalIncidence            0.030754            0.039276   \n",
       "percentile_90_word_length              0.029200            0.062258   \n",
       "percentile_75_word_length              0.027247            0.037398   \n",
       "percentile_75_sentence_length          0.026271            0.024356   \n",
       "ConnectiveCasualIncidence              0.023214            0.034393   \n",
       "adjectiveIncidence                     0.022691            0.064751   \n",
       "\n",
       "                               pearson_up  spearmanr_up  pearson_down  \\\n",
       "sentence_count                   0.206188      0.285767      0.046840   \n",
       "syllable_count                   0.218057      0.330940      0.053729   \n",
       "functionalIncidence              0.072279      0.091068      0.016081   \n",
       "percentile_90_sentence_length    0.097291      0.195694      0.031930   \n",
       "ConnectiveTemporalIncidence      0.013497      0.111303     -0.004567   \n",
       "percentile_90_word_length        0.008188      0.074663     -0.006464   \n",
       "percentile_75_word_length        0.010063      0.028726     -0.010924   \n",
       "percentile_75_sentence_length    0.065270      0.147194      0.025491   \n",
       "ConnectiveCasualIncidence        0.011033      0.107160     -0.003066   \n",
       "adjectiveIncidence              -0.053766     -0.024516     -0.043407   \n",
       "\n",
       "                               spearmanr_down  \n",
       "sentence_count                      -0.002055  \n",
       "syllable_count                       0.020001  \n",
       "functionalIncidence                  0.006552  \n",
       "percentile_90_sentence_length        0.029446  \n",
       "ConnectiveTemporalIncidence          0.001193  \n",
       "percentile_90_word_length           -0.037430  \n",
       "percentile_75_word_length           -0.029690  \n",
       "percentile_75_sentence_length        0.029419  \n",
       "ConnectiveCasualIncidence            0.004731  \n",
       "adjectiveIncidence                  -0.073442  "
      ]
     },
     "execution_count": 63,
     "metadata": {},
     "output_type": "execute_result"
    }
   ],
   "source": [
    "corr_table(reviews_features).sort_values('pearson_helpfull',ascending=False).head(10)"
   ]
  },
  {
   "cell_type": "markdown",
   "metadata": {},
   "source": [
    "### Top 10 low DEP dataset correlation"
   ]
  },
  {
   "cell_type": "code",
   "execution_count": 64,
   "metadata": {
    "collapsed": false
   },
   "outputs": [
    {
     "data": {
      "text/html": [
       "<div>\n",
       "<table border=\"1\" class=\"dataframe\">\n",
       "  <thead>\n",
       "    <tr style=\"text-align: right;\">\n",
       "      <th></th>\n",
       "      <th>pearson_helpfull</th>\n",
       "      <th>spearmanr_helpfull</th>\n",
       "      <th>pearson_up</th>\n",
       "      <th>spearmanr_up</th>\n",
       "      <th>pearson_down</th>\n",
       "      <th>spearmanr_down</th>\n",
       "    </tr>\n",
       "  </thead>\n",
       "  <tbody>\n",
       "    <tr>\n",
       "      <th>syllable_count</th>\n",
       "      <td>0.141626</td>\n",
       "      <td>0.112717</td>\n",
       "      <td>0.147265</td>\n",
       "      <td>0.210492</td>\n",
       "      <td>-0.002371</td>\n",
       "      <td>-0.044831</td>\n",
       "    </tr>\n",
       "    <tr>\n",
       "      <th>sentence_count</th>\n",
       "      <td>0.118570</td>\n",
       "      <td>0.105242</td>\n",
       "      <td>0.104107</td>\n",
       "      <td>0.146778</td>\n",
       "      <td>-0.022372</td>\n",
       "      <td>-0.061810</td>\n",
       "    </tr>\n",
       "    <tr>\n",
       "      <th>adjectiveIncidence</th>\n",
       "      <td>0.070917</td>\n",
       "      <td>0.097127</td>\n",
       "      <td>-0.002002</td>\n",
       "      <td>0.052284</td>\n",
       "      <td>-0.043061</td>\n",
       "      <td>-0.085521</td>\n",
       "    </tr>\n",
       "    <tr>\n",
       "      <th>stars</th>\n",
       "      <td>0.053487</td>\n",
       "      <td>0.033619</td>\n",
       "      <td>-0.051734</td>\n",
       "      <td>-0.035768</td>\n",
       "      <td>-0.055837</td>\n",
       "      <td>-0.046388</td>\n",
       "    </tr>\n",
       "    <tr>\n",
       "      <th>percentile_90_sentence_length</th>\n",
       "      <td>0.047815</td>\n",
       "      <td>0.040658</td>\n",
       "      <td>0.073190</td>\n",
       "      <td>0.108029</td>\n",
       "      <td>0.018485</td>\n",
       "      <td>-0.000371</td>\n",
       "    </tr>\n",
       "    <tr>\n",
       "      <th>ConnectiveTemporalIncidence</th>\n",
       "      <td>0.033895</td>\n",
       "      <td>0.045813</td>\n",
       "      <td>0.004598</td>\n",
       "      <td>0.039315</td>\n",
       "      <td>-0.017077</td>\n",
       "      <td>-0.030810</td>\n",
       "    </tr>\n",
       "    <tr>\n",
       "      <th>percentile_75_sentence_length</th>\n",
       "      <td>0.031798</td>\n",
       "      <td>0.026749</td>\n",
       "      <td>0.059959</td>\n",
       "      <td>0.088105</td>\n",
       "      <td>0.021609</td>\n",
       "      <td>0.006944</td>\n",
       "    </tr>\n",
       "    <tr>\n",
       "      <th>ConnectiveCasualIncidence</th>\n",
       "      <td>0.027588</td>\n",
       "      <td>0.039794</td>\n",
       "      <td>0.003578</td>\n",
       "      <td>0.037134</td>\n",
       "      <td>-0.015618</td>\n",
       "      <td>-0.025013</td>\n",
       "    </tr>\n",
       "    <tr>\n",
       "      <th>functionalIncidence</th>\n",
       "      <td>0.024906</td>\n",
       "      <td>0.012504</td>\n",
       "      <td>0.008115</td>\n",
       "      <td>0.011908</td>\n",
       "      <td>-0.004315</td>\n",
       "      <td>-0.008104</td>\n",
       "    </tr>\n",
       "    <tr>\n",
       "      <th>percentile_90_word_length</th>\n",
       "      <td>0.023993</td>\n",
       "      <td>0.069080</td>\n",
       "      <td>0.004198</td>\n",
       "      <td>0.062537</td>\n",
       "      <td>-0.004716</td>\n",
       "      <td>-0.055347</td>\n",
       "    </tr>\n",
       "  </tbody>\n",
       "</table>\n",
       "</div>"
      ],
      "text/plain": [
       "                               pearson_helpfull  spearmanr_helpfull  \\\n",
       "syllable_count                         0.141626            0.112717   \n",
       "sentence_count                         0.118570            0.105242   \n",
       "adjectiveIncidence                     0.070917            0.097127   \n",
       "stars                                  0.053487            0.033619   \n",
       "percentile_90_sentence_length          0.047815            0.040658   \n",
       "ConnectiveTemporalIncidence            0.033895            0.045813   \n",
       "percentile_75_sentence_length          0.031798            0.026749   \n",
       "ConnectiveCasualIncidence              0.027588            0.039794   \n",
       "functionalIncidence                    0.024906            0.012504   \n",
       "percentile_90_word_length              0.023993            0.069080   \n",
       "\n",
       "                               pearson_up  spearmanr_up  pearson_down  \\\n",
       "syllable_count                   0.147265      0.210492     -0.002371   \n",
       "sentence_count                   0.104107      0.146778     -0.022372   \n",
       "adjectiveIncidence              -0.002002      0.052284     -0.043061   \n",
       "stars                           -0.051734     -0.035768     -0.055837   \n",
       "percentile_90_sentence_length    0.073190      0.108029      0.018485   \n",
       "ConnectiveTemporalIncidence      0.004598      0.039315     -0.017077   \n",
       "percentile_75_sentence_length    0.059959      0.088105      0.021609   \n",
       "ConnectiveCasualIncidence        0.003578      0.037134     -0.015618   \n",
       "functionalIncidence              0.008115      0.011908     -0.004315   \n",
       "percentile_90_word_length        0.004198      0.062537     -0.004716   \n",
       "\n",
       "                               spearmanr_down  \n",
       "syllable_count                      -0.044831  \n",
       "sentence_count                      -0.061810  \n",
       "adjectiveIncidence                  -0.085521  \n",
       "stars                               -0.046388  \n",
       "percentile_90_sentence_length       -0.000371  \n",
       "ConnectiveTemporalIncidence         -0.030810  \n",
       "percentile_75_sentence_length        0.006944  \n",
       "ConnectiveCasualIncidence           -0.025013  \n",
       "functionalIncidence                 -0.008104  \n",
       "percentile_90_word_length           -0.055347  "
      ]
     },
     "execution_count": 64,
     "metadata": {},
     "output_type": "execute_result"
    }
   ],
   "source": [
    "corr_table(low_reviews).sort_values('pearson_helpfull',ascending=False).head(10)"
   ]
  },
  {
   "cell_type": "markdown",
   "metadata": {},
   "source": [
    "### Top 10 high DEP dataset correlation"
   ]
  },
  {
   "cell_type": "code",
   "execution_count": 65,
   "metadata": {
    "collapsed": false
   },
   "outputs": [
    {
     "data": {
      "text/html": [
       "<div>\n",
       "<table border=\"1\" class=\"dataframe\">\n",
       "  <thead>\n",
       "    <tr style=\"text-align: right;\">\n",
       "      <th></th>\n",
       "      <th>pearson_helpfull</th>\n",
       "      <th>spearmanr_helpfull</th>\n",
       "      <th>pearson_up</th>\n",
       "      <th>spearmanr_up</th>\n",
       "      <th>pearson_down</th>\n",
       "      <th>spearmanr_down</th>\n",
       "    </tr>\n",
       "  </thead>\n",
       "  <tbody>\n",
       "    <tr>\n",
       "      <th>sentence_count</th>\n",
       "      <td>0.089830</td>\n",
       "      <td>0.050144</td>\n",
       "      <td>0.133964</td>\n",
       "      <td>0.174297</td>\n",
       "      <td>0.046498</td>\n",
       "      <td>0.015717</td>\n",
       "    </tr>\n",
       "    <tr>\n",
       "      <th>ContentDiversty</th>\n",
       "      <td>0.084987</td>\n",
       "      <td>0.055985</td>\n",
       "      <td>-0.017535</td>\n",
       "      <td>-0.047876</td>\n",
       "      <td>-0.044519</td>\n",
       "      <td>-0.068071</td>\n",
       "    </tr>\n",
       "    <tr>\n",
       "      <th>avg_syllables_per_word</th>\n",
       "      <td>0.078178</td>\n",
       "      <td>0.059042</td>\n",
       "      <td>0.001261</td>\n",
       "      <td>0.029503</td>\n",
       "      <td>-0.031350</td>\n",
       "      <td>-0.046681</td>\n",
       "    </tr>\n",
       "    <tr>\n",
       "      <th>syllable_count</th>\n",
       "      <td>0.063939</td>\n",
       "      <td>0.022452</td>\n",
       "      <td>0.132193</td>\n",
       "      <td>0.183437</td>\n",
       "      <td>0.047304</td>\n",
       "      <td>0.040973</td>\n",
       "    </tr>\n",
       "    <tr>\n",
       "      <th>LexicalDiversty</th>\n",
       "      <td>0.062494</td>\n",
       "      <td>0.047847</td>\n",
       "      <td>-0.049236</td>\n",
       "      <td>-0.080315</td>\n",
       "      <td>-0.053996</td>\n",
       "      <td>-0.071041</td>\n",
       "    </tr>\n",
       "    <tr>\n",
       "      <th>percentile_90_word_length</th>\n",
       "      <td>0.058238</td>\n",
       "      <td>0.042701</td>\n",
       "      <td>0.013736</td>\n",
       "      <td>0.043441</td>\n",
       "      <td>-0.025603</td>\n",
       "      <td>-0.025877</td>\n",
       "    </tr>\n",
       "    <tr>\n",
       "      <th>percentile_75_word_length</th>\n",
       "      <td>0.049325</td>\n",
       "      <td>0.041940</td>\n",
       "      <td>0.014359</td>\n",
       "      <td>0.025177</td>\n",
       "      <td>-0.015301</td>\n",
       "      <td>-0.031352</td>\n",
       "    </tr>\n",
       "    <tr>\n",
       "      <th>adjectiveIncidence</th>\n",
       "      <td>0.048812</td>\n",
       "      <td>0.057356</td>\n",
       "      <td>-0.009556</td>\n",
       "      <td>0.025523</td>\n",
       "      <td>-0.028984</td>\n",
       "      <td>-0.046346</td>\n",
       "    </tr>\n",
       "    <tr>\n",
       "      <th>stars</th>\n",
       "      <td>0.045630</td>\n",
       "      <td>0.062980</td>\n",
       "      <td>-0.051950</td>\n",
       "      <td>-0.073512</td>\n",
       "      <td>-0.056922</td>\n",
       "      <td>-0.081744</td>\n",
       "    </tr>\n",
       "    <tr>\n",
       "      <th>mean_word_length</th>\n",
       "      <td>0.039573</td>\n",
       "      <td>0.035735</td>\n",
       "      <td>-0.022738</td>\n",
       "      <td>-0.013176</td>\n",
       "      <td>-0.033937</td>\n",
       "      <td>-0.041731</td>\n",
       "    </tr>\n",
       "  </tbody>\n",
       "</table>\n",
       "</div>"
      ],
      "text/plain": [
       "                           pearson_helpfull  spearmanr_helpfull  pearson_up  \\\n",
       "sentence_count                     0.089830            0.050144    0.133964   \n",
       "ContentDiversty                    0.084987            0.055985   -0.017535   \n",
       "avg_syllables_per_word             0.078178            0.059042    0.001261   \n",
       "syllable_count                     0.063939            0.022452    0.132193   \n",
       "LexicalDiversty                    0.062494            0.047847   -0.049236   \n",
       "percentile_90_word_length          0.058238            0.042701    0.013736   \n",
       "percentile_75_word_length          0.049325            0.041940    0.014359   \n",
       "adjectiveIncidence                 0.048812            0.057356   -0.009556   \n",
       "stars                              0.045630            0.062980   -0.051950   \n",
       "mean_word_length                   0.039573            0.035735   -0.022738   \n",
       "\n",
       "                           spearmanr_up  pearson_down  spearmanr_down  \n",
       "sentence_count                 0.174297      0.046498        0.015717  \n",
       "ContentDiversty               -0.047876     -0.044519       -0.068071  \n",
       "avg_syllables_per_word         0.029503     -0.031350       -0.046681  \n",
       "syllable_count                 0.183437      0.047304        0.040973  \n",
       "LexicalDiversty               -0.080315     -0.053996       -0.071041  \n",
       "percentile_90_word_length      0.043441     -0.025603       -0.025877  \n",
       "percentile_75_word_length      0.025177     -0.015301       -0.031352  \n",
       "adjectiveIncidence             0.025523     -0.028984       -0.046346  \n",
       "stars                         -0.073512     -0.056922       -0.081744  \n",
       "mean_word_length              -0.013176     -0.033937       -0.041731  "
      ]
     },
     "execution_count": 65,
     "metadata": {},
     "output_type": "execute_result"
    }
   ],
   "source": [
    "corr_table(high_reviews).sort_values('pearson_helpfull',ascending=False).head(10)"
   ]
  }
 ],
 "metadata": {
  "kernelspec": {
   "display_name": "Python 2",
   "language": "python",
   "name": "python2"
  },
  "language_info": {
   "codemirror_mode": {
    "name": "ipython",
    "version": 2
   },
   "file_extension": ".py",
   "mimetype": "text/x-python",
   "name": "python",
   "nbconvert_exporter": "python",
   "pygments_lexer": "ipython2",
   "version": "2.7.6"
  }
 },
 "nbformat": 4,
 "nbformat_minor": 0
}
